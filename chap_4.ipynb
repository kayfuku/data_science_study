{
 "cells": [
  {
   "cell_type": "code",
   "execution_count": 2,
   "metadata": {},
   "outputs": [],
   "source": [
    "import numpy as np\n",
    "import numpy.random as random\n",
    "import scipy as sp\n",
    "import pandas as pd\n",
    "from pandas import Series, DataFrame\n",
    "\n",
    "import matplotlib.pyplot as plt\n",
    "import matplotlib as mpl\n",
    "import seaborn as sns\n",
    "%matplotlib inline\n",
    "\n",
    "%precision 3\n",
    "np.random.seed(0)"
   ]
  },
  {
   "cell_type": "code",
   "execution_count": 4,
   "metadata": {},
   "outputs": [
    {
     "data": {
      "text/plain": [
       "array([5])"
      ]
     },
     "execution_count": 4,
     "metadata": {},
     "output_type": "execute_result"
    }
   ],
   "source": [
    "# choice\n",
    "dice_data = np.array([1, 2, 3, 4, 5, 6])\n",
    "np.random.choice(dice_data, 1)"
   ]
  },
  {
   "cell_type": "code",
   "execution_count": 5,
   "metadata": {},
   "outputs": [
    {
     "data": {
      "text/plain": [
       "numpy.ndarray"
      ]
     },
     "execution_count": 5,
     "metadata": {},
     "output_type": "execute_result"
    }
   ],
   "source": [
    "calc_steps = 1000\n",
    "dice_rolls = np.random.choice(dice_data, calc_steps)\n",
    "type(dice_rolls)"
   ]
  },
  {
   "cell_type": "code",
   "execution_count": 6,
   "metadata": {},
   "outputs": [
    {
     "data": {
      "text/plain": [
       "array([6, 1, 4, 4, 4, 2, 4, 6, 3, 5, 1, 1, 5, 3, 2, 1, 2, 6, 2, 6, 1, 2,\n",
       "       5, 4, 1, 4, 6, 1, 3, 4, 1, 2, 4, 6, 4, 4, 1, 2, 2, 2, 1, 3, 5, 4,\n",
       "       4, 3, 5, 3, 1, 1, 5, 6, 6, 1, 5, 2, 5, 2, 3, 3, 1, 2, 2, 2, 2, 4,\n",
       "       4, 3, 4, 1, 4, 6, 5, 2, 3, 5, 4, 5, 5, 5, 4, 5, 5, 5, 1, 5, 4, 3,\n",
       "       6, 6, 6, 1, 2, 6, 2, 4, 1, 6, 1, 2, 3, 5, 3, 1, 6, 4, 3, 3, 6, 1,\n",
       "       6, 2, 1, 3, 3, 4, 3, 4, 3, 2, 3, 4, 4, 4, 3, 4, 5, 2, 3, 4, 2, 3,\n",
       "       2, 5, 3, 4, 1, 4, 3, 4, 1, 1, 1, 4, 3, 4, 1, 5, 1, 6, 1, 6, 3, 4,\n",
       "       3, 4, 6, 1, 1, 1, 4, 1, 3, 3, 1, 5, 4, 5, 6, 1, 5, 4, 6, 4, 5, 6,\n",
       "       2, 6, 4, 1, 1, 1, 6, 6, 2, 1, 5, 2, 6, 6, 4, 2, 1, 1, 5, 4, 4, 2,\n",
       "       6, 6, 1, 1, 2, 3, 1, 4, 6, 2, 2, 5, 1, 6, 1, 4, 3, 4, 3, 5, 4, 6,\n",
       "       6, 4, 1, 4, 1, 5, 3, 4, 6, 6, 5, 1, 3, 4, 4, 2, 6, 4, 5, 6, 6, 4,\n",
       "       4, 2, 2, 2, 4, 3, 3, 5, 4, 2, 3, 4, 6, 6, 6, 2, 5, 3, 3, 1, 2, 6,\n",
       "       1, 5, 1, 4, 3, 6, 6, 1, 1, 6, 2, 2, 1, 4, 1, 4, 1, 5, 5, 1, 2, 4,\n",
       "       5, 4, 3, 6, 2, 2, 3, 2, 6, 5, 6, 3, 6, 6, 5, 5, 6, 6, 3, 4, 6, 4,\n",
       "       2, 3, 5, 4, 4, 2, 2, 6, 6, 2, 2, 3, 1, 4, 2, 5, 4, 2, 2, 3, 1, 1,\n",
       "       3, 5, 1, 5, 4, 4, 1, 1, 4, 6, 4, 1, 4, 1, 6, 3, 2, 1, 5, 1, 4, 5,\n",
       "       5, 2, 1, 3, 5, 5, 3, 5, 4, 3, 4, 1, 6, 6, 6, 1, 1, 6, 4, 5, 5, 6,\n",
       "       3, 3, 5, 2, 4, 4, 4, 2, 3, 6, 3, 4, 6, 3, 4, 5, 5, 3, 6, 2, 3, 6,\n",
       "       1, 4, 1, 3, 5, 4, 3, 2, 3, 2, 5, 6, 2, 1, 6, 1, 1, 1, 1, 2, 1, 4,\n",
       "       2, 5, 2, 3, 5, 1, 1, 3, 6, 1, 5, 5, 5, 2, 2, 5, 2, 6, 2, 4, 6, 2,\n",
       "       4, 6, 4, 2, 2, 2, 1, 4, 1, 5, 2, 5, 6, 1, 4, 3, 2, 5, 5, 5, 1, 1,\n",
       "       3, 6, 1, 4, 4, 5, 2, 5, 4, 4, 4, 5, 3, 2, 3, 3, 2, 4, 4, 5, 5, 3,\n",
       "       2, 2, 1, 1, 3, 5, 4, 6, 4, 3, 2, 1, 5, 2, 5, 5, 3, 1, 1, 6, 4, 2,\n",
       "       6, 6, 2, 6, 1, 5, 4, 6, 4, 5, 4, 5, 4, 1, 6, 4, 4, 2, 4, 6, 6, 5,\n",
       "       1, 4, 1, 1, 4, 2, 3, 4, 3, 4, 1, 4, 3, 1, 4, 2, 5, 4, 2, 3, 6, 2,\n",
       "       5, 2, 6, 4, 2, 4, 3, 5, 6, 2, 5, 2, 5, 2, 3, 6, 6, 3, 4, 2, 3, 3,\n",
       "       5, 3, 3, 4, 1, 6, 5, 3, 1, 1, 3, 4, 6, 6, 6, 2, 6, 4, 3, 5, 2, 2,\n",
       "       3, 3, 5, 6, 4, 5, 6, 3, 5, 6, 3, 2, 5, 1, 2, 1, 3, 1, 4, 6, 3, 1,\n",
       "       3, 4, 1, 1, 2, 1, 6, 1, 3, 4, 5, 6, 4, 4, 1, 5, 5, 4, 3, 5, 5, 6,\n",
       "       4, 6, 6, 2, 5, 6, 6, 4, 2, 4, 6, 4, 3, 1, 2, 6, 6, 6, 1, 2, 6, 2,\n",
       "       6, 5, 3, 3, 4, 1, 6, 6, 4, 3, 4, 3, 3, 2, 4, 2, 4, 6, 3, 6, 3, 5,\n",
       "       2, 6, 1, 4, 6, 1, 5, 3, 2, 1, 2, 3, 2, 2, 6, 4, 1, 5, 2, 2, 6, 5,\n",
       "       1, 3, 4, 5, 2, 3, 4, 5, 2, 1, 5, 2, 3, 5, 4, 1, 5, 6, 5, 6, 1, 6,\n",
       "       3, 4, 2, 3, 2, 6, 4, 3, 5, 3, 2, 5, 1, 3, 3, 5, 3, 5, 1, 3, 2, 3,\n",
       "       5, 5, 2, 2, 5, 6, 5, 3, 5, 2, 3, 5, 1, 2, 6, 1, 3, 2, 3, 4, 2, 3,\n",
       "       1, 3, 5, 5, 1, 3, 2, 1, 3, 4, 5, 1, 3, 4, 5, 4, 6, 1, 3, 4, 4, 4,\n",
       "       2, 4, 3, 3, 3, 5, 4, 1, 5, 6, 2, 3, 2, 5, 2, 5, 6, 2, 3, 6, 4, 3,\n",
       "       6, 3, 3, 4, 3, 5, 6, 2, 4, 1, 6, 5, 6, 4, 2, 4, 5, 5, 6, 1, 3, 2,\n",
       "       6, 5, 5, 2, 6, 5, 1, 1, 3, 6, 6, 6, 4, 2, 1, 1, 1, 1, 3, 5, 6, 1,\n",
       "       6, 3, 4, 6, 5, 4, 5, 6, 5, 5, 3, 2, 4, 5, 5, 1, 6, 1, 3, 5, 4, 6,\n",
       "       4, 1, 1, 2, 5, 5, 6, 1, 1, 1, 2, 6, 2, 2, 5, 2, 5, 1, 5, 4, 6, 3,\n",
       "       1, 4, 3, 4, 3, 3, 2, 4, 6, 4, 1, 6, 5, 6, 6, 6, 4, 4, 1, 1, 2, 6,\n",
       "       5, 5, 2, 6, 6, 6, 1, 1, 1, 4, 5, 5, 3, 3, 4, 4, 5, 6, 3, 6, 2, 1,\n",
       "       5, 2, 4, 1, 4, 3, 6, 2, 6, 1, 1, 4, 6, 5, 2, 1, 1, 6, 3, 2, 2, 1,\n",
       "       6, 2, 2, 1, 1, 4, 6, 4, 6, 4, 4, 2, 3, 1, 1, 5, 3, 6, 3, 1, 3, 6,\n",
       "       5, 2, 6, 4, 5, 6, 6, 4, 1, 2])"
      ]
     },
     "execution_count": 6,
     "metadata": {},
     "output_type": "execute_result"
    }
   ],
   "source": [
    "dice_rolls"
   ]
  },
  {
   "cell_type": "code",
   "execution_count": 7,
   "metadata": {},
   "outputs": [
    {
     "data": {
      "text/plain": [
       "array([1, 1, 1, 1, 1, 1, 1, 1, 1, 1, 1, 1, 1, 1, 1, 1, 1, 1, 1, 1, 1, 1,\n",
       "       1, 1, 1, 1, 1, 1, 1, 1, 1, 1, 1, 1, 1, 1, 1, 1, 1, 1, 1, 1, 1, 1,\n",
       "       1, 1, 1, 1, 1, 1, 1, 1, 1, 1, 1, 1, 1, 1, 1, 1, 1, 1, 1, 1, 1, 1,\n",
       "       1, 1, 1, 1, 1, 1, 1, 1, 1, 1, 1, 1, 1, 1, 1, 1, 1, 1, 1, 1, 1, 1,\n",
       "       1, 1, 1, 1, 1, 1, 1, 1, 1, 1, 1, 1, 1, 1, 1, 1, 1, 1, 1, 1, 1, 1,\n",
       "       1, 1, 1, 1, 1, 1, 1, 1, 1, 1, 1, 1, 1, 1, 1, 1, 1, 1, 1, 1, 1, 1,\n",
       "       1, 1, 1, 1, 1, 1, 1, 1, 1, 1, 1, 1, 1, 1, 1, 1, 1, 1, 1, 1, 1, 1,\n",
       "       1, 1, 1, 1, 1, 1, 1, 1, 1, 1, 1, 1, 1, 1, 1, 1, 1])"
      ]
     },
     "execution_count": 7,
     "metadata": {},
     "output_type": "execute_result"
    }
   ],
   "source": [
    "dice_rolls[dice_rolls==1]"
   ]
  },
  {
   "cell_type": "code",
   "execution_count": 9,
   "metadata": {},
   "outputs": [
    {
     "data": {
      "text/plain": [
       "171"
      ]
     },
     "execution_count": 9,
     "metadata": {},
     "output_type": "execute_result"
    }
   ],
   "source": [
    "len(dice_rolls[dice_rolls==1])"
   ]
  },
  {
   "cell_type": "code",
   "execution_count": 12,
   "metadata": {},
   "outputs": [
    {
     "name": "stdout",
     "output_type": "stream",
     "text": [
      "probability of 1:  0.171\n",
      "probability of 2:  0.158\n",
      "probability of 3:  0.157\n",
      "probability of 4:  0.183\n",
      "probability of 5:  0.16\n",
      "probability of 6:  0.171\n"
     ]
    }
   ],
   "source": [
    "for i in range(1, 7): \n",
    "    p = len(dice_rolls[dice_rolls == i]) / calc_steps\n",
    "    print('probability of {0}:  {1}'.format(i, p))"
   ]
  },
  {
   "cell_type": "code",
   "execution_count": 13,
   "metadata": {},
   "outputs": [
    {
     "name": "stdout",
     "output_type": "stream",
     "text": [
      "probability of 0:  0.496\n",
      "probability of 1:  0.504\n"
     ]
    }
   ],
   "source": [
    "# 4-1\n",
    "coin_data = np.array([0, 1])\n",
    "N = 1000\n",
    "random.seed(0)\n",
    "all_tosses = np.random.choice(coin_data, N)\n",
    "for i in [0, 1]: \n",
    "    p = len(all_tosses[all_tosses == i]) / N\n",
    "    print('probability of {0}:  {1}'.format(i, p))"
   ]
  },
  {
   "cell_type": "code",
   "execution_count": null,
   "metadata": {},
   "outputs": [],
   "source": [
    "# Probability Distribution \n"
   ]
  },
  {
   "cell_type": "code",
   "execution_count": 14,
   "metadata": {},
   "outputs": [
    {
     "data": {
      "image/png": "[encoded data removed]",
      "text/plain": [
       "<Figure size 432x288 with 1 Axes>"
      ]
     },
     "metadata": {
      "needs_background": "light"
     },
     "output_type": "display_data"
    }
   ],
   "source": [
    "# Uniform distribution\n",
    "# Make a graph from actual data.\n",
    "\n",
    "prob_data = np.array([])\n",
    "for i in range(1, 7): \n",
    "    p = len(dice_rolls[dice_rolls == i]) / calc_steps\n",
    "    prob_data = np.append(prob_data, p)\n",
    "\n",
    "plt.bar(dice_data, prob_data)\n",
    "plt.grid(True)"
   ]
  },
  {
   "cell_type": "code",
   "execution_count": 15,
   "metadata": {},
   "outputs": [
    {
     "name": "stdout",
     "output_type": "stream",
     "text": [
      "probability of  0 :  0.625\n",
      "probability of  1 :  0.375\n"
     ]
    }
   ],
   "source": [
    "# Bernoulli distribution\n",
    "# Make a graph from actual data. \n",
    "\n",
    "prob_ber_data = np.array([])\n",
    "coin_data = np.array([0, 0, 0, 0, 0, 1, 1, 1])\n",
    "# unique() to get unique value. \n",
    "for i in np.unique(coin_data): \n",
    "    p = len(coin_data[coin_data == i]) / len(coin_data)\n",
    "    print('probability of ', i, ': ', p)\n",
    "    prob_ber_data = np.append(prob_ber_data, p)\n",
    "    "
   ]
  },
  {
   "cell_type": "code",
   "execution_count": 35,
   "metadata": {},
   "outputs": [
    {
     "data": {
      "image/png": "[encoded data removed]",
      "text/plain": [
       "<Figure size 432x288 with 1 Axes>"
      ]
     },
     "metadata": {
      "needs_background": "light"
     },
     "output_type": "display_data"
    }
   ],
   "source": [
    "plt.bar([0, 1], prob_ber_data, align='center')\n",
    "plt.xticks([0, 1], ['head', 'tail'])\n",
    "plt.grid(True)"
   ]
  },
  {
   "cell_type": "code",
   "execution_count": 17,
   "metadata": {},
   "outputs": [
    {
     "data": {
      "text/plain": [
       "array([15, 17, 16, 15, 14, 16, 15, 18, 20, 14, 17, 15, 15, 19, 11, 11,  9,\n",
       "       18, 17, 18, 21, 17, 15, 17, 12, 16, 12, 19, 15, 14, 13, 17, 15, 15,\n",
       "        9, 16, 16, 16, 19, 16, 14, 15, 16, 11, 16, 16, 13, 12, 14, 14, 15,\n",
       "       15, 21, 12, 13, 12, 16, 13, 15, 13, 12, 12, 16, 12, 13, 14, 18, 11,\n",
       "       18, 11, 20, 15, 20, 16, 17, 10, 13, 12, 14, 12, 14, 14, 11, 16, 15,\n",
       "       13, 15, 11, 16, 19, 14, 16, 12, 17, 13, 13, 16,  9, 18,  8, 16, 13,\n",
       "       17, 20, 13, 16, 16, 16, 13, 20, 15, 18, 16, 14, 17, 14, 18, 16, 18,\n",
       "       16, 17, 15, 20, 16, 14, 16,  9, 14, 16, 13, 16, 15, 12, 14, 15, 16,\n",
       "       16, 16, 16, 15, 18, 14, 15, 18, 17, 16, 11, 19, 17, 23, 12, 18, 12,\n",
       "       16, 12, 18, 17, 15, 14, 11, 16, 15, 17, 18, 20, 18,  9, 14, 17, 12,\n",
       "       15, 11, 13,  9, 17, 13, 14, 19, 16, 10, 12, 16, 16, 13, 19, 16, 15,\n",
       "       16, 17, 14, 14, 13, 13, 19, 17, 15, 13, 13, 11, 15, 14, 16, 14, 12,\n",
       "       10, 11, 16, 15, 15, 18, 21, 13, 16, 13,  9, 17, 14, 14, 16, 18, 16,\n",
       "       18, 13, 17, 13, 20, 16, 13, 19, 17, 13, 13, 15, 10, 13, 14, 14, 15,\n",
       "       13, 16, 18, 12, 15, 12, 17, 14, 15, 13, 12, 15, 14, 19, 17, 17, 19,\n",
       "       11, 15, 16, 20, 13, 13, 12,  9, 19, 16, 17, 13, 16, 11, 15, 20, 18,\n",
       "       14, 20, 13, 19, 19, 17, 16, 18, 14, 18, 16,  9, 14, 12, 21, 15, 15,\n",
       "       16, 14, 12, 18, 13, 15, 13, 11, 18, 20, 20, 19, 17, 14, 11, 14, 13,\n",
       "       12, 11, 17,  9, 17, 12, 11, 11, 16, 13, 14, 15, 18, 17, 13, 12, 11,\n",
       "       14, 13, 15, 16, 16, 13, 14, 13, 17, 11, 16, 17, 17, 13, 14, 16, 13,\n",
       "       14, 13, 15, 10, 17, 11, 15, 14, 16, 20, 16, 10, 15, 15, 15, 16, 13,\n",
       "       12, 14, 20, 13, 19, 15, 15, 18, 15, 17, 14, 19, 16, 16, 14, 17, 16,\n",
       "       13, 12, 17, 20, 15, 16, 18, 15, 20, 16, 18, 19, 17, 12, 16, 14, 11,\n",
       "       14, 13, 18, 10, 20, 14, 14,  9, 13, 14, 19, 11, 19, 18, 15, 14, 13,\n",
       "       16, 10,  9, 15, 11, 13, 13, 13, 12,  9, 12, 16, 20, 21, 14, 12, 16,\n",
       "       15, 21, 11, 17, 13, 13, 16, 13, 16, 15, 14, 15, 13, 16, 14, 14, 18,\n",
       "       19, 10, 13, 14, 17, 21, 20, 19, 14, 22, 13, 12, 20, 13, 16, 11, 17,\n",
       "       18, 13, 14, 14, 17, 13, 12, 15, 14, 18, 13, 15, 19, 16, 18, 19, 17,\n",
       "       16, 20, 22, 15, 11, 14, 12, 14, 12, 16, 14, 18, 20, 15, 13, 16, 18,\n",
       "       14, 15, 13, 15, 14, 13, 15, 14, 14, 15, 17, 14, 19, 18, 10, 13, 15,\n",
       "       12, 14, 17, 16, 16, 17, 13, 14, 16, 18, 15, 13, 10, 17,  8, 14, 15,\n",
       "       19, 11, 14, 10, 14, 16, 13, 13, 12, 16, 16, 16, 19,  8, 16, 16, 16,\n",
       "       20,  9, 16, 17, 15, 14, 17, 11, 15, 15, 16, 11, 13, 14, 16, 18, 16,\n",
       "       12, 21, 18, 15, 19, 15, 19, 18, 20, 19, 10, 12, 14, 20, 14, 12, 18,\n",
       "       15, 19, 12, 16, 15, 11, 16, 13, 10, 11, 11, 19, 17, 18, 16, 15, 14,\n",
       "       23, 14, 15, 14, 21, 12, 14, 16, 11, 16, 15, 13, 13, 15, 14, 15, 14,\n",
       "       20, 12, 11, 14, 16, 16, 14, 23, 14, 17, 16, 17, 20, 18, 17, 16, 14,\n",
       "       12, 11, 13, 15, 15, 17, 20, 12, 12, 16, 17, 18, 19, 21, 14, 14, 12,\n",
       "       16, 16, 18, 11, 15, 16, 13, 12, 18, 11, 15, 12, 15, 21, 14, 18, 12,\n",
       "       13, 14, 14, 16, 14, 17, 16, 14, 15, 16, 11, 18, 16, 17, 15, 12, 14,\n",
       "       14, 14, 10, 17, 12, 16, 16, 16, 20, 12, 18, 10, 15, 14, 15, 14, 13,\n",
       "        9, 15, 18, 14, 13, 11, 11, 13, 11, 13, 11, 11, 18, 12, 15, 17, 15,\n",
       "       12, 13, 15, 15, 14, 17, 17, 19, 10, 18, 14, 18, 16, 21, 17, 14, 15,\n",
       "       14, 14, 13, 15, 16, 13, 15, 12, 12, 10, 20,  8, 12, 16, 11, 18, 17,\n",
       "       20, 15, 14, 15, 19, 15, 13, 18, 14,  7, 13, 14, 18, 15, 15, 14, 18,\n",
       "       19, 21, 14, 20, 17, 16, 13, 13, 12, 19, 14, 15, 15, 17, 18, 12, 14,\n",
       "       18, 17, 12, 12, 14, 11, 14, 12, 15, 13, 16, 12, 20, 19, 14, 13, 13,\n",
       "       15, 10, 16, 14, 14, 17, 17, 20, 14, 18, 17, 14, 16, 13, 18, 12, 13,\n",
       "       13, 14, 17, 15, 15,  6, 14, 11, 13, 19, 13, 18, 17, 12, 16, 12, 17,\n",
       "       16, 17, 15, 19, 10, 14, 17, 14, 12, 12, 17, 15, 18, 17, 14, 14, 15,\n",
       "       18, 17,  8, 16, 19, 17, 12, 15, 12, 14, 19, 19, 13, 14, 16, 20, 12,\n",
       "       13, 18, 15, 18, 13, 15, 14, 14, 15, 15, 14, 19, 17, 17, 13, 16, 17,\n",
       "       17, 14, 17, 17, 12, 18, 15, 15, 15, 15, 16, 15, 18, 16, 14, 14, 17,\n",
       "       14, 13, 11, 18, 19, 12, 14, 12, 12, 19, 11, 21, 11, 18, 15, 14, 14,\n",
       "       17, 14, 16, 15, 15, 19, 15, 18, 17, 10, 17, 13, 19, 10, 14, 11, 15,\n",
       "       18, 14, 12, 14, 17, 12, 13, 11, 16, 14, 14, 17, 14, 17, 17, 13, 20,\n",
       "       12, 13, 12, 14, 15, 15, 18, 18, 13, 16, 12, 15, 14, 14, 15, 17, 11,\n",
       "       18, 17, 12, 19, 15, 24, 13, 15, 13, 14, 16, 19, 17, 17, 15, 19, 15,\n",
       "       18, 18, 13, 17,  9, 14, 13, 15, 17, 11, 15, 19, 13, 16])"
      ]
     },
     "execution_count": 17,
     "metadata": {},
     "output_type": "execute_result"
    }
   ],
   "source": [
    "# Binomial distribution\n",
    "# Make a graph from generated data \n",
    "\n",
    "np.random.seed(0)\n",
    "x = np.random.binomial(30, 0.5, 1000)\n",
    "x"
   ]
  },
  {
   "cell_type": "code",
   "execution_count": 21,
   "metadata": {},
   "outputs": [
    {
     "data": {
      "image/png": "[encoded data removed]",
      "text/plain": [
       "<Figure size 432x288 with 1 Axes>"
      ]
     },
     "metadata": {
      "needs_background": "light"
     },
     "output_type": "display_data"
    }
   ],
   "source": [
    "plt.hist(x)\n",
    "plt.xlabel('num of head out of 30 tosses')\n",
    "plt.ylabel('num of trials out of 1000')\n",
    "plt.grid(True)"
   ]
  },
  {
   "cell_type": "code",
   "execution_count": 22,
   "metadata": {},
   "outputs": [
    {
     "data": {
      "image/png": "[encoded data removed]",
      "text/plain": [
       "<Figure size 432x288 with 1 Axes>"
      ]
     },
     "metadata": {
      "needs_background": "light"
     },
     "output_type": "display_data"
    }
   ],
   "source": [
    "# Poisson distribution (generated)\n",
    "x = np.random.poisson(7, 1000)\n",
    "plt.hist(x)\n",
    "plt.grid(True)\n"
   ]
  },
  {
   "cell_type": "code",
   "execution_count": 24,
   "metadata": {},
   "outputs": [
    {
     "data": {
      "image/png": "[encoded data removed]",
      "text/plain": [
       "<Figure size 432x288 with 1 Axes>"
      ]
     },
     "metadata": {
      "needs_background": "light"
     },
     "output_type": "display_data"
    }
   ],
   "source": [
    "# Normal distribution\n",
    "# np.random.normal(average, std, num_sample)\n",
    "x = np.random.normal(20, 10, 10000)\n",
    "plt.hist(x)\n",
    "plt.grid(True)\n"
   ]
  },
  {
   "cell_type": "code",
   "execution_count": 26,
   "metadata": {},
   "outputs": [
    {
     "data": {
      "image/png": "[encoded data removed]",
      "text/plain": [
       "<Figure size 432x288 with 1 Axes>"
      ]
     },
     "metadata": {
      "needs_background": "light"
     },
     "output_type": "display_data"
    }
   ],
   "source": [
    "# Log Normal distribution\n",
    "x = np.random.lognormal(30, 0.4, 10000)\n",
    "plt.hist(x)\n",
    "plt.grid(True)"
   ]
  },
  {
   "cell_type": "code",
   "execution_count": 37,
   "metadata": {},
   "outputs": [
    {
     "data": {
      "image/png": "[encoded data removed]",
      "text/plain": [
       "<Figure size 432x288 with 1 Axes>"
      ]
     },
     "metadata": {
      "needs_background": "light"
     },
     "output_type": "display_data"
    }
   ],
   "source": [
    "# Kernel Density Estimation\n",
    "student_data_math = pd.read_csv('student-mat.csv', sep=';')\n",
    "student_data_math.absences.plot(kind='kde', style='k--')\n",
    "student_data_math.absences.hist(density=True)\n",
    "plt.grid(True)"
   ]
  },
  {
   "cell_type": "code",
   "execution_count": 40,
   "metadata": {},
   "outputs": [
    {
     "data": {
      "image/png": "[encoded data removed]",
      "text/plain": [
       "<Figure size 432x288 with 1 Axes>"
      ]
     },
     "metadata": {
      "needs_background": "light"
     },
     "output_type": "display_data"
    }
   ],
   "source": [
    "x = np.random.poisson(7, 1000)\n",
    "x = Series(x)\n",
    "x.plot(kind='kde', style='k--')\n",
    "x.hist(density=True)\n",
    "plt.grid(True)"
   ]
  },
  {
   "cell_type": "code",
   "execution_count": 41,
   "metadata": {},
   "outputs": [
    {
     "data": {
      "image/png": "[encoded data removed]",
      "text/plain": [
       "<Figure size 432x288 with 1 Axes>"
      ]
     },
     "metadata": {
      "needs_background": "light"
     },
     "output_type": "display_data"
    }
   ],
   "source": [
    "# R4-4\n",
    "N = 10000\n",
    "normal_sample_data = [np.random.normal(0, 1, 100).mean() for _ in range(N)]\n",
    "plt.hist(normal_sample_data)\n",
    "plt.grid(True)"
   ]
  },
  {
   "cell_type": "code",
   "execution_count": 42,
   "metadata": {},
   "outputs": [
    {
     "data": {
      "image/png": "[encoded data removed]",
      "text/plain": [
       "<Figure size 432x288 with 1 Axes>"
      ]
     },
     "metadata": {
      "needs_background": "light"
     },
     "output_type": "display_data"
    }
   ],
   "source": [
    "N = 10000\n",
    "normal_sample_data = [np.random.lognormal(0, 1, 100).mean() for _ in range(N)]\n",
    "plt.hist(normal_sample_data)\n",
    "plt.grid(True)"
   ]
  },
  {
   "cell_type": "code",
   "execution_count": 43,
   "metadata": {},
   "outputs": [
    {
     "data": {
      "image/png": "[encoded data removed]",
      "text/plain": [
       "<Figure size 432x288 with 1 Axes>"
      ]
     },
     "metadata": {
      "needs_background": "light"
     },
     "output_type": "display_data"
    }
   ],
   "source": [
    "student_data_math['G1'].plot(kind='kde', style='k--')\n",
    "plt.grid(True)"
   ]
  },
  {
   "cell_type": "code",
   "execution_count": 44,
   "metadata": {},
   "outputs": [
    {
     "data": {
      "image/png": "[encoded data removed]",
      "text/plain": [
       "<Figure size 432x288 with 1 Axes>"
      ]
     },
     "metadata": {
      "needs_background": "light"
     },
     "output_type": "display_data"
    }
   ],
   "source": [
    "student_data_math['G1'].hist()\n",
    "plt.grid(True)"
   ]
  },
  {
   "cell_type": "code",
   "execution_count": 45,
   "metadata": {},
   "outputs": [
    {
     "data": {
      "image/png": "[encoded data removed]",
      "text/plain": [
       "<Figure size 432x288 with 1 Axes>"
      ]
     },
     "metadata": {
      "needs_background": "light"
     },
     "output_type": "display_data"
    }
   ],
   "source": [
    "student_data_math['G1'].hist(density=True)\n",
    "plt.grid(True)"
   ]
  },
  {
   "cell_type": "code",
   "execution_count": null,
   "metadata": {},
   "outputs": [],
   "source": []
  },
  {
   "cell_type": "code",
   "execution_count": null,
   "metadata": {},
   "outputs": [],
   "source": []
  },
  {
   "cell_type": "code",
   "execution_count": null,
   "metadata": {},
   "outputs": [],
   "source": []
  },
  {
   "cell_type": "code",
   "execution_count": null,
   "metadata": {},
   "outputs": [],
   "source": []
  },
  {
   "cell_type": "code",
   "execution_count": null,
   "metadata": {},
   "outputs": [],
   "source": []
  },
  {
   "cell_type": "code",
   "execution_count": null,
   "metadata": {},
   "outputs": [],
   "source": []
  },
  {
   "cell_type": "code",
   "execution_count": null,
   "metadata": {},
   "outputs": [],
   "source": []
  },
  {
   "cell_type": "code",
   "execution_count": null,
   "metadata": {},
   "outputs": [],
   "source": []
  },
  {
   "cell_type": "code",
   "execution_count": null,
   "metadata": {},
   "outputs": [],
   "source": []
  },
  {
   "cell_type": "code",
   "execution_count": null,
   "metadata": {},
   "outputs": [],
   "source": []
  },
  {
   "cell_type": "code",
   "execution_count": null,
   "metadata": {},
   "outputs": [],
   "source": []
  }
 ],
 "metadata": {
  "kernelspec": {
   "display_name": "Python 3",
   "language": "python",
   "name": "python3"
  },
  "language_info": {
   "codemirror_mode": {
    "name": "ipython",
    "version": 3
   },
   "file_extension": ".py",
   "mimetype": "text/x-python",
   "name": "python",
   "nbconvert_exporter": "python",
   "pygments_lexer": "ipython3",
   "version": "3.7.3"
  }
 },
 "nbformat": 4,
 "nbformat_minor": 2
}
