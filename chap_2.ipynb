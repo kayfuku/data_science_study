{
 "cells": [
  {
   "cell_type": "code",
   "execution_count": 1,
   "metadata": {},
   "outputs": [
    {
     "data": {
      "text/plain": [
       "'%.3f'"
      ]
     },
     "execution_count": 1,
     "metadata": {},
     "output_type": "execute_result"
    }
   ],
   "source": [
    "import numpy as np\n",
    "import numpy.random as random\n",
    "import scipy as sp\n",
    "import pandas as pd\n",
    "from pandas import Series, DataFrame\n",
    "\n",
    "# Visualization\n",
    "import matplotlib.pyplot as plt\n",
    "import matplotlib as mpl\n",
    "import seaborn as sns\n",
    "%matplotlib inline\n",
    "\n",
    "# Display to three decimal places. \n",
    "%precision 3"
   ]
  },
  {
   "cell_type": "code",
   "execution_count": 2,
   "metadata": {},
   "outputs": [],
   "source": [
    "# Numpy"
   ]
  },
  {
   "cell_type": "code",
   "execution_count": 3,
   "metadata": {},
   "outputs": [
    {
     "data": {
      "text/plain": [
       "array([ 9,  2,  3,  4, 10,  6,  7,  8,  1,  5])"
      ]
     },
     "execution_count": 3,
     "metadata": {},
     "output_type": "execute_result"
    }
   ],
   "source": [
    "# Array\n",
    "\n",
    "data = np.array([9, 2, 3, 4, 10, 6, 7, 8, 1, 5])\n",
    "data"
   ]
  },
  {
   "cell_type": "code",
   "execution_count": 4,
   "metadata": {},
   "outputs": [
    {
     "data": {
      "text/plain": [
       "dtype('int64')"
      ]
     },
     "execution_count": 4,
     "metadata": {},
     "output_type": "execute_result"
    }
   ],
   "source": [
    "# type\n",
    "\n",
    "data.dtype"
   ]
  },
  {
   "cell_type": "code",
   "execution_count": 5,
   "metadata": {},
   "outputs": [
    {
     "name": "stdout",
     "output_type": "stream",
     "text": [
      "dimension: 1\n"
     ]
    }
   ],
   "source": [
    "print('dimension:', data.ndim)"
   ]
  },
  {
   "cell_type": "code",
   "execution_count": 6,
   "metadata": {},
   "outputs": [
    {
     "name": "stdout",
     "output_type": "stream",
     "text": [
      "size: 10\n"
     ]
    }
   ],
   "source": [
    "print('size:', data.size)"
   ]
  },
  {
   "cell_type": "code",
   "execution_count": 7,
   "metadata": {},
   "outputs": [
    {
     "data": {
      "text/plain": [
       "array([18,  4,  6,  8, 20, 12, 14, 16,  2, 10])"
      ]
     },
     "execution_count": 7,
     "metadata": {},
     "output_type": "execute_result"
    }
   ],
   "source": [
    "data * 2"
   ]
  },
  {
   "cell_type": "code",
   "execution_count": 8,
   "metadata": {},
   "outputs": [
    {
     "name": "stdout",
     "output_type": "stream",
     "text": [
      "multiplication: [10 40 90]\n",
      "power: [1 4 9]\n",
      "division: [0.4 1.5 4. ]\n"
     ]
    }
   ],
   "source": [
    "print('multiplication:', np.array([1, 2, 3]) * np.array([10, 20, 30]))\n",
    "print('power:', np.array([1, 2, 3]) ** 2)\n",
    "print('division:', np.array([2, 3, 4] / np.array([5, 2, 1])))"
   ]
  },
  {
   "cell_type": "code",
   "execution_count": 9,
   "metadata": {},
   "outputs": [
    {
     "name": "stdout",
     "output_type": "stream",
     "text": [
      "original: [ 9  2  3  4 10  6  7  8  1  5]\n",
      "sorted: [ 1  2  3  4  5  6  7  8  9 10]\n"
     ]
    }
   ],
   "source": [
    "# sort\n",
    "\n",
    "print('original:', data)\n",
    "data.sort()\n",
    "print('sorted:', data)"
   ]
  },
  {
   "cell_type": "code",
   "execution_count": 10,
   "metadata": {},
   "outputs": [
    {
     "data": {
      "text/plain": [
       "array([2, 4, 1])"
      ]
     },
     "execution_count": 10,
     "metadata": {},
     "output_type": "execute_result"
    }
   ],
   "source": [
    "a = np.array([1, 4, 2])\n",
    "a[::-1]"
   ]
  },
  {
   "cell_type": "code",
   "execution_count": 11,
   "metadata": {},
   "outputs": [
    {
     "name": "stdout",
     "output_type": "stream",
     "text": [
      "[4 2 1]\n"
     ]
    }
   ],
   "source": [
    "# sort in descending order\n",
    "a[::-1].sort()\n",
    "print(a)"
   ]
  },
  {
   "cell_type": "code",
   "execution_count": 12,
   "metadata": {},
   "outputs": [
    {
     "name": "stdout",
     "output_type": "stream",
     "text": [
      "[ 1  2  3  4  5  6  7  8  9 10]\n",
      "Min: 1\n"
     ]
    }
   ],
   "source": [
    "# min, max, sum, cumsum\n",
    "print(data)\n",
    "\n",
    "print('Min:', data.min())"
   ]
  },
  {
   "cell_type": "code",
   "execution_count": 13,
   "metadata": {},
   "outputs": [
    {
     "name": "stdout",
     "output_type": "stream",
     "text": [
      "Max: 10\n",
      "Sum: 55\n",
      "Cumsum: [ 1  3  6 10 15 21 28 36 45 55]\n",
      "Ratio: [0.018 0.055 0.109 0.182 0.273 0.382 0.509 0.655 0.818 1.   ]\n"
     ]
    }
   ],
   "source": [
    "print('Max:', data.max())\n",
    "print('Sum:', data.sum())\n",
    "print('Cumsum:', data.cumsum())\n",
    "print('Ratio:', data.cumsum() / data.sum())"
   ]
  },
  {
   "cell_type": "code",
   "execution_count": 14,
   "metadata": {},
   "outputs": [],
   "source": [
    "# random number\n",
    "\n",
    "random.seed(0)"
   ]
  },
  {
   "cell_type": "code",
   "execution_count": 15,
   "metadata": {},
   "outputs": [
    {
     "name": "stdout",
     "output_type": "stream",
     "text": [
      "10 random numbers [ 1.764  0.4    0.979  2.241  1.868 -0.977  0.95  -0.151 -0.103  0.411]\n"
     ]
    }
   ],
   "source": [
    "# random number from normal distribution\n",
    "rmd_data = random.randn(10)\n",
    "print('10 random numbers', rmd_data)"
   ]
  },
  {
   "cell_type": "code",
   "execution_count": null,
   "metadata": {},
   "outputs": [],
   "source": []
  },
  {
   "cell_type": "code",
   "execution_count": 16,
   "metadata": {},
   "outputs": [
    {
     "name": "stdout",
     "output_type": "stream",
     "text": [
      "0     0\n",
      "1    10\n",
      "2    20\n",
      "3    30\n",
      "4    40\n",
      "5    50\n",
      "6    60\n",
      "7    70\n",
      "8    80\n",
      "9    90\n",
      "dtype: int64\n"
     ]
    }
   ],
   "source": [
    "# 2-4\n",
    "\n",
    "# Series\n",
    "sample_pandas_data = pd.Series([0, 10, 20, 30, 40, 50, 60, 70, 80, 90])\n",
    "print(sample_pandas_data)"
   ]
  },
  {
   "cell_type": "code",
   "execution_count": 17,
   "metadata": {},
   "outputs": [
    {
     "name": "stdout",
     "output_type": "stream",
     "text": [
      "a     0\n",
      "b    10\n",
      "c    20\n",
      "d    30\n",
      "e    40\n",
      "f    50\n",
      "g    60\n",
      "h    70\n",
      "i    80\n",
      "j    90\n",
      "dtype: int64\n"
     ]
    }
   ],
   "source": [
    "sample_pandas_index_data = pd.Series([0, 10, 20, 30, 40, 50, 60, 70, 80, 90], \n",
    "                              index=['a', 'b', 'c', 'd', 'e', 'f', 'g', 'h', 'i', 'j'])\n",
    "print(sample_pandas_index_data)"
   ]
  },
  {
   "cell_type": "code",
   "execution_count": 18,
   "metadata": {},
   "outputs": [
    {
     "data": {
      "text/plain": [
       "array([ 0, 10, 20, 30, 40, 50, 60, 70, 80, 90])"
      ]
     },
     "execution_count": 18,
     "metadata": {},
     "output_type": "execute_result"
    }
   ],
   "source": [
    "sample_pandas_index_data.values"
   ]
  },
  {
   "cell_type": "code",
   "execution_count": 19,
   "metadata": {},
   "outputs": [
    {
     "data": {
      "text/plain": [
       "Index(['a', 'b', 'c', 'd', 'e', 'f', 'g', 'h', 'i', 'j'], dtype='object')"
      ]
     },
     "execution_count": 19,
     "metadata": {},
     "output_type": "execute_result"
    }
   ],
   "source": [
    "sample_pandas_index_data.index"
   ]
  },
  {
   "cell_type": "code",
   "execution_count": 20,
   "metadata": {},
   "outputs": [
    {
     "name": "stdout",
     "output_type": "stream",
     "text": [
      "    ID  birth_year       city     name\n",
      "0  100        1990      Tokyo  Hiroshi\n",
      "1  101        1989      Osaka    Akiko\n",
      "2  102        1992      Kyoto     Yuki\n",
      "3  103        1997  Hokkaidao   Satoru\n",
      "4  104        1982      Tokyo   Steeve\n"
     ]
    }
   ],
   "source": [
    "# DataFrame\n",
    "\n",
    "attri_data1 = {'ID':['100','101','102','103','104'], \n",
    "               'city':['Tokyo','Osaka','Kyoto','Hokkaidao','Tokyo'], \n",
    "               'birth_year':[1990,1989,1992,1997,1982], \n",
    "               'name':['Hiroshi','Akiko','Yuki','Satoru','Steeve']}\n",
    "attri_data_frame1 = DataFrame(attri_data1)\n",
    "print(attri_data_frame1)"
   ]
  },
  {
   "cell_type": "code",
   "execution_count": 21,
   "metadata": {},
   "outputs": [
    {
     "name": "stdout",
     "output_type": "stream",
     "text": [
      "    ID  birth_year       city     name\n",
      "a  100        1990      Tokyo  Hiroshi\n",
      "b  101        1989      Osaka    Akiko\n",
      "c  102        1992      Kyoto     Yuki\n",
      "d  103        1997  Hokkaidao   Satoru\n",
      "e  104        1982      Tokyo   Steeve\n"
     ]
    }
   ],
   "source": [
    "attri_data_frame_index1 = DataFrame(attri_data1,index=['a','b','c','d','e'])\n",
    "print(attri_data_frame_index1)"
   ]
  },
  {
   "cell_type": "code",
   "execution_count": 22,
   "metadata": {},
   "outputs": [
    {
     "data": {
      "text/html": [
       "<div>\n",
       "<style scoped>\n",
       "    .dataframe tbody tr th:only-of-type {\n",
       "        vertical-align: middle;\n",
       "    }\n",
       "\n",
       "    .dataframe tbody tr th {\n",
       "        vertical-align: top;\n",
       "    }\n",
       "\n",
       "    .dataframe thead th {\n",
       "        text-align: right;\n",
       "    }\n",
       "</style>\n",
       "<table border=\"1\" class=\"dataframe\">\n",
       "  <thead>\n",
       "    <tr style=\"text-align: right;\">\n",
       "      <th></th>\n",
       "      <th>ID</th>\n",
       "      <th>birth_year</th>\n",
       "      <th>city</th>\n",
       "      <th>name</th>\n",
       "    </tr>\n",
       "  </thead>\n",
       "  <tbody>\n",
       "    <tr>\n",
       "      <th>a</th>\n",
       "      <td>100</td>\n",
       "      <td>1990</td>\n",
       "      <td>Tokyo</td>\n",
       "      <td>Hiroshi</td>\n",
       "    </tr>\n",
       "    <tr>\n",
       "      <th>b</th>\n",
       "      <td>101</td>\n",
       "      <td>1989</td>\n",
       "      <td>Osaka</td>\n",
       "      <td>Akiko</td>\n",
       "    </tr>\n",
       "    <tr>\n",
       "      <th>c</th>\n",
       "      <td>102</td>\n",
       "      <td>1992</td>\n",
       "      <td>Kyoto</td>\n",
       "      <td>Yuki</td>\n",
       "    </tr>\n",
       "    <tr>\n",
       "      <th>d</th>\n",
       "      <td>103</td>\n",
       "      <td>1997</td>\n",
       "      <td>Hokkaidao</td>\n",
       "      <td>Satoru</td>\n",
       "    </tr>\n",
       "    <tr>\n",
       "      <th>e</th>\n",
       "      <td>104</td>\n",
       "      <td>1982</td>\n",
       "      <td>Tokyo</td>\n",
       "      <td>Steeve</td>\n",
       "    </tr>\n",
       "  </tbody>\n",
       "</table>\n",
       "</div>"
      ],
      "text/plain": [
       "    ID  birth_year       city     name\n",
       "a  100        1990      Tokyo  Hiroshi\n",
       "b  101        1989      Osaka    Akiko\n",
       "c  102        1992      Kyoto     Yuki\n",
       "d  103        1997  Hokkaidao   Satoru\n",
       "e  104        1982      Tokyo   Steeve"
      ]
     },
     "execution_count": 22,
     "metadata": {},
     "output_type": "execute_result"
    }
   ],
   "source": [
    "attri_data_frame_index1"
   ]
  },
  {
   "cell_type": "code",
   "execution_count": 23,
   "metadata": {},
   "outputs": [
    {
     "data": {
      "text/html": [
       "<div>\n",
       "<style scoped>\n",
       "    .dataframe tbody tr th:only-of-type {\n",
       "        vertical-align: middle;\n",
       "    }\n",
       "\n",
       "    .dataframe tbody tr th {\n",
       "        vertical-align: top;\n",
       "    }\n",
       "\n",
       "    .dataframe thead th {\n",
       "        text-align: right;\n",
       "    }\n",
       "</style>\n",
       "<table border=\"1\" class=\"dataframe\">\n",
       "  <thead>\n",
       "    <tr style=\"text-align: right;\">\n",
       "      <th></th>\n",
       "      <th>0</th>\n",
       "      <th>1</th>\n",
       "      <th>2</th>\n",
       "      <th>3</th>\n",
       "      <th>4</th>\n",
       "    </tr>\n",
       "  </thead>\n",
       "  <tbody>\n",
       "    <tr>\n",
       "      <th>ID</th>\n",
       "      <td>100</td>\n",
       "      <td>101</td>\n",
       "      <td>102</td>\n",
       "      <td>103</td>\n",
       "      <td>104</td>\n",
       "    </tr>\n",
       "    <tr>\n",
       "      <th>birth_year</th>\n",
       "      <td>1990</td>\n",
       "      <td>1989</td>\n",
       "      <td>1992</td>\n",
       "      <td>1997</td>\n",
       "      <td>1982</td>\n",
       "    </tr>\n",
       "    <tr>\n",
       "      <th>city</th>\n",
       "      <td>Tokyo</td>\n",
       "      <td>Osaka</td>\n",
       "      <td>Kyoto</td>\n",
       "      <td>Hokkaidao</td>\n",
       "      <td>Tokyo</td>\n",
       "    </tr>\n",
       "    <tr>\n",
       "      <th>name</th>\n",
       "      <td>Hiroshi</td>\n",
       "      <td>Akiko</td>\n",
       "      <td>Yuki</td>\n",
       "      <td>Satoru</td>\n",
       "      <td>Steeve</td>\n",
       "    </tr>\n",
       "  </tbody>\n",
       "</table>\n",
       "</div>"
      ],
      "text/plain": [
       "                  0      1      2          3       4\n",
       "ID              100    101    102        103     104\n",
       "birth_year     1990   1989   1992       1997    1982\n",
       "city          Tokyo  Osaka  Kyoto  Hokkaidao   Tokyo\n",
       "name        Hiroshi  Akiko   Yuki     Satoru  Steeve"
      ]
     },
     "execution_count": 23,
     "metadata": {},
     "output_type": "execute_result"
    }
   ],
   "source": [
    "attri_data_frame1.T"
   ]
  },
  {
   "cell_type": "code",
   "execution_count": 24,
   "metadata": {
    "scrolled": true
   },
   "outputs": [
    {
     "data": {
      "text/plain": [
       "0    1990\n",
       "1    1989\n",
       "2    1992\n",
       "3    1997\n",
       "4    1982\n",
       "Name: birth_year, dtype: int64"
      ]
     },
     "execution_count": 24,
     "metadata": {},
     "output_type": "execute_result"
    }
   ],
   "source": [
    "attri_data_frame1.birth_year"
   ]
  },
  {
   "cell_type": "code",
   "execution_count": 25,
   "metadata": {
    "scrolled": true
   },
   "outputs": [
    {
     "data": {
      "text/html": [
       "<div>\n",
       "<style scoped>\n",
       "    .dataframe tbody tr th:only-of-type {\n",
       "        vertical-align: middle;\n",
       "    }\n",
       "\n",
       "    .dataframe tbody tr th {\n",
       "        vertical-align: top;\n",
       "    }\n",
       "\n",
       "    .dataframe thead th {\n",
       "        text-align: right;\n",
       "    }\n",
       "</style>\n",
       "<table border=\"1\" class=\"dataframe\">\n",
       "  <thead>\n",
       "    <tr style=\"text-align: right;\">\n",
       "      <th></th>\n",
       "      <th>birth_year</th>\n",
       "    </tr>\n",
       "  </thead>\n",
       "  <tbody>\n",
       "    <tr>\n",
       "      <th>0</th>\n",
       "      <td>1990</td>\n",
       "    </tr>\n",
       "    <tr>\n",
       "      <th>1</th>\n",
       "      <td>1989</td>\n",
       "    </tr>\n",
       "    <tr>\n",
       "      <th>2</th>\n",
       "      <td>1992</td>\n",
       "    </tr>\n",
       "    <tr>\n",
       "      <th>3</th>\n",
       "      <td>1997</td>\n",
       "    </tr>\n",
       "    <tr>\n",
       "      <th>4</th>\n",
       "      <td>1982</td>\n",
       "    </tr>\n",
       "  </tbody>\n",
       "</table>\n",
       "</div>"
      ],
      "text/plain": [
       "   birth_year\n",
       "0        1990\n",
       "1        1989\n",
       "2        1992\n",
       "3        1997\n",
       "4        1982"
      ]
     },
     "execution_count": 25,
     "metadata": {},
     "output_type": "execute_result"
    }
   ],
   "source": [
    "attri_data_frame1[['birth_year']]"
   ]
  },
  {
   "cell_type": "code",
   "execution_count": 26,
   "metadata": {},
   "outputs": [
    {
     "data": {
      "text/html": [
       "<div>\n",
       "<style scoped>\n",
       "    .dataframe tbody tr th:only-of-type {\n",
       "        vertical-align: middle;\n",
       "    }\n",
       "\n",
       "    .dataframe tbody tr th {\n",
       "        vertical-align: top;\n",
       "    }\n",
       "\n",
       "    .dataframe thead th {\n",
       "        text-align: right;\n",
       "    }\n",
       "</style>\n",
       "<table border=\"1\" class=\"dataframe\">\n",
       "  <thead>\n",
       "    <tr style=\"text-align: right;\">\n",
       "      <th></th>\n",
       "      <th>ID</th>\n",
       "      <th>birth_year</th>\n",
       "    </tr>\n",
       "  </thead>\n",
       "  <tbody>\n",
       "    <tr>\n",
       "      <th>0</th>\n",
       "      <td>100</td>\n",
       "      <td>1990</td>\n",
       "    </tr>\n",
       "    <tr>\n",
       "      <th>1</th>\n",
       "      <td>101</td>\n",
       "      <td>1989</td>\n",
       "    </tr>\n",
       "    <tr>\n",
       "      <th>2</th>\n",
       "      <td>102</td>\n",
       "      <td>1992</td>\n",
       "    </tr>\n",
       "    <tr>\n",
       "      <th>3</th>\n",
       "      <td>103</td>\n",
       "      <td>1997</td>\n",
       "    </tr>\n",
       "    <tr>\n",
       "      <th>4</th>\n",
       "      <td>104</td>\n",
       "      <td>1982</td>\n",
       "    </tr>\n",
       "  </tbody>\n",
       "</table>\n",
       "</div>"
      ],
      "text/plain": [
       "    ID  birth_year\n",
       "0  100        1990\n",
       "1  101        1989\n",
       "2  102        1992\n",
       "3  103        1997\n",
       "4  104        1982"
      ]
     },
     "execution_count": 26,
     "metadata": {},
     "output_type": "execute_result"
    }
   ],
   "source": [
    "attri_data_frame1[['ID', 'birth_year']]"
   ]
  },
  {
   "cell_type": "code",
   "execution_count": 27,
   "metadata": {},
   "outputs": [
    {
     "data": {
      "text/html": [
       "<div>\n",
       "<style scoped>\n",
       "    .dataframe tbody tr th:only-of-type {\n",
       "        vertical-align: middle;\n",
       "    }\n",
       "\n",
       "    .dataframe tbody tr th {\n",
       "        vertical-align: top;\n",
       "    }\n",
       "\n",
       "    .dataframe thead th {\n",
       "        text-align: right;\n",
       "    }\n",
       "</style>\n",
       "<table border=\"1\" class=\"dataframe\">\n",
       "  <thead>\n",
       "    <tr style=\"text-align: right;\">\n",
       "      <th></th>\n",
       "      <th>ID</th>\n",
       "      <th>birth_year</th>\n",
       "      <th>city</th>\n",
       "      <th>name</th>\n",
       "    </tr>\n",
       "  </thead>\n",
       "  <tbody>\n",
       "    <tr>\n",
       "      <th>0</th>\n",
       "      <td>100</td>\n",
       "      <td>1990</td>\n",
       "      <td>Tokyo</td>\n",
       "      <td>Hiroshi</td>\n",
       "    </tr>\n",
       "    <tr>\n",
       "      <th>4</th>\n",
       "      <td>104</td>\n",
       "      <td>1982</td>\n",
       "      <td>Tokyo</td>\n",
       "      <td>Steeve</td>\n",
       "    </tr>\n",
       "  </tbody>\n",
       "</table>\n",
       "</div>"
      ],
      "text/plain": [
       "    ID  birth_year   city     name\n",
       "0  100        1990  Tokyo  Hiroshi\n",
       "4  104        1982  Tokyo   Steeve"
      ]
     },
     "execution_count": 27,
     "metadata": {},
     "output_type": "execute_result"
    }
   ],
   "source": [
    "# Retrieval\n",
    "\n",
    "attri_data_frame1[attri_data_frame1['city'] == 'Tokyo']"
   ]
  },
  {
   "cell_type": "code",
   "execution_count": 28,
   "metadata": {},
   "outputs": [
    {
     "data": {
      "text/plain": [
       "0    Hiroshi\n",
       "4     Steeve\n",
       "Name: name, dtype: object"
      ]
     },
     "execution_count": 28,
     "metadata": {},
     "output_type": "execute_result"
    }
   ],
   "source": [
    "attri_data_frame1[attri_data_frame1['city'] == 'Tokyo']['name']"
   ]
  },
  {
   "cell_type": "code",
   "execution_count": 29,
   "metadata": {},
   "outputs": [
    {
     "data": {
      "text/html": [
       "<div>\n",
       "<style scoped>\n",
       "    .dataframe tbody tr th:only-of-type {\n",
       "        vertical-align: middle;\n",
       "    }\n",
       "\n",
       "    .dataframe tbody tr th {\n",
       "        vertical-align: top;\n",
       "    }\n",
       "\n",
       "    .dataframe thead th {\n",
       "        text-align: right;\n",
       "    }\n",
       "</style>\n",
       "<table border=\"1\" class=\"dataframe\">\n",
       "  <thead>\n",
       "    <tr style=\"text-align: right;\">\n",
       "      <th></th>\n",
       "      <th>ID</th>\n",
       "      <th>birth_year</th>\n",
       "      <th>city</th>\n",
       "      <th>name</th>\n",
       "    </tr>\n",
       "  </thead>\n",
       "  <tbody>\n",
       "    <tr>\n",
       "      <th>0</th>\n",
       "      <td>100</td>\n",
       "      <td>1990</td>\n",
       "      <td>Tokyo</td>\n",
       "      <td>Hiroshi</td>\n",
       "    </tr>\n",
       "    <tr>\n",
       "      <th>1</th>\n",
       "      <td>101</td>\n",
       "      <td>1989</td>\n",
       "      <td>Osaka</td>\n",
       "      <td>Akiko</td>\n",
       "    </tr>\n",
       "    <tr>\n",
       "      <th>2</th>\n",
       "      <td>102</td>\n",
       "      <td>1992</td>\n",
       "      <td>Kyoto</td>\n",
       "      <td>Yuki</td>\n",
       "    </tr>\n",
       "    <tr>\n",
       "      <th>3</th>\n",
       "      <td>103</td>\n",
       "      <td>1997</td>\n",
       "      <td>Hokkaidao</td>\n",
       "      <td>Satoru</td>\n",
       "    </tr>\n",
       "    <tr>\n",
       "      <th>4</th>\n",
       "      <td>104</td>\n",
       "      <td>1982</td>\n",
       "      <td>Tokyo</td>\n",
       "      <td>Steeve</td>\n",
       "    </tr>\n",
       "  </tbody>\n",
       "</table>\n",
       "</div>"
      ],
      "text/plain": [
       "    ID  birth_year       city     name\n",
       "0  100        1990      Tokyo  Hiroshi\n",
       "1  101        1989      Osaka    Akiko\n",
       "2  102        1992      Kyoto     Yuki\n",
       "3  103        1997  Hokkaidao   Satoru\n",
       "4  104        1982      Tokyo   Steeve"
      ]
     },
     "execution_count": 29,
     "metadata": {},
     "output_type": "execute_result"
    }
   ],
   "source": [
    "attri_data_frame1"
   ]
  },
  {
   "cell_type": "code",
   "execution_count": 30,
   "metadata": {},
   "outputs": [
    {
     "data": {
      "text/plain": [
       "0     True\n",
       "1    False\n",
       "2    False\n",
       "3    False\n",
       "4     True\n",
       "Name: city, dtype: bool"
      ]
     },
     "execution_count": 30,
     "metadata": {},
     "output_type": "execute_result"
    }
   ],
   "source": [
    "attri_data_frame1['city'] == 'Tokyo'"
   ]
  },
  {
   "cell_type": "code",
   "execution_count": 31,
   "metadata": {},
   "outputs": [
    {
     "data": {
      "text/html": [
       "<div>\n",
       "<style scoped>\n",
       "    .dataframe tbody tr th:only-of-type {\n",
       "        vertical-align: middle;\n",
       "    }\n",
       "\n",
       "    .dataframe tbody tr th {\n",
       "        vertical-align: top;\n",
       "    }\n",
       "\n",
       "    .dataframe thead th {\n",
       "        text-align: right;\n",
       "    }\n",
       "</style>\n",
       "<table border=\"1\" class=\"dataframe\">\n",
       "  <thead>\n",
       "    <tr style=\"text-align: right;\">\n",
       "      <th></th>\n",
       "      <th>ID</th>\n",
       "      <th>birth_year</th>\n",
       "      <th>city</th>\n",
       "      <th>name</th>\n",
       "    </tr>\n",
       "  </thead>\n",
       "  <tbody>\n",
       "    <tr>\n",
       "      <th>0</th>\n",
       "      <td>100</td>\n",
       "      <td>1990</td>\n",
       "      <td>Tokyo</td>\n",
       "      <td>Hiroshi</td>\n",
       "    </tr>\n",
       "    <tr>\n",
       "      <th>1</th>\n",
       "      <td>101</td>\n",
       "      <td>1989</td>\n",
       "      <td>Osaka</td>\n",
       "      <td>Akiko</td>\n",
       "    </tr>\n",
       "    <tr>\n",
       "      <th>4</th>\n",
       "      <td>104</td>\n",
       "      <td>1982</td>\n",
       "      <td>Tokyo</td>\n",
       "      <td>Steeve</td>\n",
       "    </tr>\n",
       "  </tbody>\n",
       "</table>\n",
       "</div>"
      ],
      "text/plain": [
       "    ID  birth_year   city     name\n",
       "0  100        1990  Tokyo  Hiroshi\n",
       "1  101        1989  Osaka    Akiko\n",
       "4  104        1982  Tokyo   Steeve"
      ]
     },
     "execution_count": 31,
     "metadata": {},
     "output_type": "execute_result"
    }
   ],
   "source": [
    "attri_data_frame1[attri_data_frame1['city'].isin(['Tokyo','Osaka'])]"
   ]
  },
  {
   "cell_type": "code",
   "execution_count": 32,
   "metadata": {},
   "outputs": [
    {
     "data": {
      "text/html": [
       "<div>\n",
       "<style scoped>\n",
       "    .dataframe tbody tr th:only-of-type {\n",
       "        vertical-align: middle;\n",
       "    }\n",
       "\n",
       "    .dataframe tbody tr th {\n",
       "        vertical-align: top;\n",
       "    }\n",
       "\n",
       "    .dataframe thead th {\n",
       "        text-align: right;\n",
       "    }\n",
       "</style>\n",
       "<table border=\"1\" class=\"dataframe\">\n",
       "  <thead>\n",
       "    <tr style=\"text-align: right;\">\n",
       "      <th></th>\n",
       "      <th>ID</th>\n",
       "      <th>birth_year</th>\n",
       "      <th>city</th>\n",
       "      <th>name</th>\n",
       "    </tr>\n",
       "  </thead>\n",
       "  <tbody>\n",
       "    <tr>\n",
       "      <th>1</th>\n",
       "      <td>101</td>\n",
       "      <td>1989</td>\n",
       "      <td>Osaka</td>\n",
       "      <td>Akiko</td>\n",
       "    </tr>\n",
       "    <tr>\n",
       "      <th>4</th>\n",
       "      <td>104</td>\n",
       "      <td>1982</td>\n",
       "      <td>Tokyo</td>\n",
       "      <td>Steeve</td>\n",
       "    </tr>\n",
       "  </tbody>\n",
       "</table>\n",
       "</div>"
      ],
      "text/plain": [
       "    ID  birth_year   city    name\n",
       "1  101        1989  Osaka   Akiko\n",
       "4  104        1982  Tokyo  Steeve"
      ]
     },
     "execution_count": 32,
     "metadata": {},
     "output_type": "execute_result"
    }
   ],
   "source": [
    "attri_data_frame1[attri_data_frame1['birth_year'] < 1990]"
   ]
  },
  {
   "cell_type": "code",
   "execution_count": 33,
   "metadata": {},
   "outputs": [
    {
     "data": {
      "text/html": [
       "<div>\n",
       "<style scoped>\n",
       "    .dataframe tbody tr th:only-of-type {\n",
       "        vertical-align: middle;\n",
       "    }\n",
       "\n",
       "    .dataframe tbody tr th {\n",
       "        vertical-align: top;\n",
       "    }\n",
       "\n",
       "    .dataframe thead th {\n",
       "        text-align: right;\n",
       "    }\n",
       "</style>\n",
       "<table border=\"1\" class=\"dataframe\">\n",
       "  <thead>\n",
       "    <tr style=\"text-align: right;\">\n",
       "      <th></th>\n",
       "      <th>ID</th>\n",
       "      <th>birth_year</th>\n",
       "      <th>city</th>\n",
       "      <th>name</th>\n",
       "    </tr>\n",
       "  </thead>\n",
       "  <tbody>\n",
       "    <tr>\n",
       "      <th>0</th>\n",
       "      <td>100</td>\n",
       "      <td>1990</td>\n",
       "      <td>Tokyo</td>\n",
       "      <td>Hiroshi</td>\n",
       "    </tr>\n",
       "    <tr>\n",
       "      <th>1</th>\n",
       "      <td>101</td>\n",
       "      <td>1989</td>\n",
       "      <td>Osaka</td>\n",
       "      <td>Akiko</td>\n",
       "    </tr>\n",
       "    <tr>\n",
       "      <th>2</th>\n",
       "      <td>102</td>\n",
       "      <td>1992</td>\n",
       "      <td>Kyoto</td>\n",
       "      <td>Yuki</td>\n",
       "    </tr>\n",
       "    <tr>\n",
       "      <th>3</th>\n",
       "      <td>103</td>\n",
       "      <td>1997</td>\n",
       "      <td>Hokkaidao</td>\n",
       "      <td>Satoru</td>\n",
       "    </tr>\n",
       "    <tr>\n",
       "      <th>4</th>\n",
       "      <td>104</td>\n",
       "      <td>1982</td>\n",
       "      <td>Tokyo</td>\n",
       "      <td>Steeve</td>\n",
       "    </tr>\n",
       "  </tbody>\n",
       "</table>\n",
       "</div>"
      ],
      "text/plain": [
       "    ID  birth_year       city     name\n",
       "0  100        1990      Tokyo  Hiroshi\n",
       "1  101        1989      Osaka    Akiko\n",
       "2  102        1992      Kyoto     Yuki\n",
       "3  103        1997  Hokkaidao   Satoru\n",
       "4  104        1982      Tokyo   Steeve"
      ]
     },
     "execution_count": 33,
     "metadata": {},
     "output_type": "execute_result"
    }
   ],
   "source": [
    "# Drop\n",
    "\n",
    "attri_data_frame1"
   ]
  },
  {
   "cell_type": "code",
   "execution_count": 34,
   "metadata": {},
   "outputs": [
    {
     "data": {
      "text/html": [
       "<div>\n",
       "<style scoped>\n",
       "    .dataframe tbody tr th:only-of-type {\n",
       "        vertical-align: middle;\n",
       "    }\n",
       "\n",
       "    .dataframe tbody tr th {\n",
       "        vertical-align: top;\n",
       "    }\n",
       "\n",
       "    .dataframe thead th {\n",
       "        text-align: right;\n",
       "    }\n",
       "</style>\n",
       "<table border=\"1\" class=\"dataframe\">\n",
       "  <thead>\n",
       "    <tr style=\"text-align: right;\">\n",
       "      <th></th>\n",
       "      <th>ID</th>\n",
       "      <th>birth_year</th>\n",
       "      <th>city</th>\n",
       "      <th>name</th>\n",
       "    </tr>\n",
       "  </thead>\n",
       "  <tbody>\n",
       "    <tr>\n",
       "      <th>2</th>\n",
       "      <td>102</td>\n",
       "      <td>1992</td>\n",
       "      <td>Kyoto</td>\n",
       "      <td>Yuki</td>\n",
       "    </tr>\n",
       "    <tr>\n",
       "      <th>3</th>\n",
       "      <td>103</td>\n",
       "      <td>1997</td>\n",
       "      <td>Hokkaidao</td>\n",
       "      <td>Satoru</td>\n",
       "    </tr>\n",
       "    <tr>\n",
       "      <th>4</th>\n",
       "      <td>104</td>\n",
       "      <td>1982</td>\n",
       "      <td>Tokyo</td>\n",
       "      <td>Steeve</td>\n",
       "    </tr>\n",
       "  </tbody>\n",
       "</table>\n",
       "</div>"
      ],
      "text/plain": [
       "    ID  birth_year       city    name\n",
       "2  102        1992      Kyoto    Yuki\n",
       "3  103        1997  Hokkaidao  Satoru\n",
       "4  104        1982      Tokyo  Steeve"
      ]
     },
     "execution_count": 34,
     "metadata": {},
     "output_type": "execute_result"
    }
   ],
   "source": [
    "attri_data_frame1.drop([0,1], axis=0)"
   ]
  },
  {
   "cell_type": "code",
   "execution_count": 35,
   "metadata": {},
   "outputs": [
    {
     "data": {
      "text/html": [
       "<div>\n",
       "<style scoped>\n",
       "    .dataframe tbody tr th:only-of-type {\n",
       "        vertical-align: middle;\n",
       "    }\n",
       "\n",
       "    .dataframe tbody tr th {\n",
       "        vertical-align: top;\n",
       "    }\n",
       "\n",
       "    .dataframe thead th {\n",
       "        text-align: right;\n",
       "    }\n",
       "</style>\n",
       "<table border=\"1\" class=\"dataframe\">\n",
       "  <thead>\n",
       "    <tr style=\"text-align: right;\">\n",
       "      <th></th>\n",
       "      <th>ID</th>\n",
       "      <th>birth_year</th>\n",
       "      <th>city</th>\n",
       "      <th>name</th>\n",
       "    </tr>\n",
       "  </thead>\n",
       "  <tbody>\n",
       "    <tr>\n",
       "      <th>0</th>\n",
       "      <td>100</td>\n",
       "      <td>1990</td>\n",
       "      <td>Tokyo</td>\n",
       "      <td>Hiroshi</td>\n",
       "    </tr>\n",
       "    <tr>\n",
       "      <th>1</th>\n",
       "      <td>101</td>\n",
       "      <td>1989</td>\n",
       "      <td>Osaka</td>\n",
       "      <td>Akiko</td>\n",
       "    </tr>\n",
       "    <tr>\n",
       "      <th>2</th>\n",
       "      <td>102</td>\n",
       "      <td>1992</td>\n",
       "      <td>Kyoto</td>\n",
       "      <td>Yuki</td>\n",
       "    </tr>\n",
       "    <tr>\n",
       "      <th>3</th>\n",
       "      <td>103</td>\n",
       "      <td>1997</td>\n",
       "      <td>Hokkaidao</td>\n",
       "      <td>Satoru</td>\n",
       "    </tr>\n",
       "    <tr>\n",
       "      <th>4</th>\n",
       "      <td>104</td>\n",
       "      <td>1982</td>\n",
       "      <td>Tokyo</td>\n",
       "      <td>Steeve</td>\n",
       "    </tr>\n",
       "  </tbody>\n",
       "</table>\n",
       "</div>"
      ],
      "text/plain": [
       "    ID  birth_year       city     name\n",
       "0  100        1990      Tokyo  Hiroshi\n",
       "1  101        1989      Osaka    Akiko\n",
       "2  102        1992      Kyoto     Yuki\n",
       "3  103        1997  Hokkaidao   Satoru\n",
       "4  104        1982      Tokyo   Steeve"
      ]
     },
     "execution_count": 35,
     "metadata": {},
     "output_type": "execute_result"
    }
   ],
   "source": [
    "attri_data_frame1"
   ]
  },
  {
   "cell_type": "code",
   "execution_count": 36,
   "metadata": {},
   "outputs": [
    {
     "data": {
      "text/html": [
       "<div>\n",
       "<style scoped>\n",
       "    .dataframe tbody tr th:only-of-type {\n",
       "        vertical-align: middle;\n",
       "    }\n",
       "\n",
       "    .dataframe tbody tr th {\n",
       "        vertical-align: top;\n",
       "    }\n",
       "\n",
       "    .dataframe thead th {\n",
       "        text-align: right;\n",
       "    }\n",
       "</style>\n",
       "<table border=\"1\" class=\"dataframe\">\n",
       "  <thead>\n",
       "    <tr style=\"text-align: right;\">\n",
       "      <th></th>\n",
       "      <th>city</th>\n",
       "      <th>name</th>\n",
       "    </tr>\n",
       "  </thead>\n",
       "  <tbody>\n",
       "    <tr>\n",
       "      <th>0</th>\n",
       "      <td>Tokyo</td>\n",
       "      <td>Hiroshi</td>\n",
       "    </tr>\n",
       "    <tr>\n",
       "      <th>1</th>\n",
       "      <td>Osaka</td>\n",
       "      <td>Akiko</td>\n",
       "    </tr>\n",
       "    <tr>\n",
       "      <th>2</th>\n",
       "      <td>Kyoto</td>\n",
       "      <td>Yuki</td>\n",
       "    </tr>\n",
       "    <tr>\n",
       "      <th>3</th>\n",
       "      <td>Hokkaidao</td>\n",
       "      <td>Satoru</td>\n",
       "    </tr>\n",
       "    <tr>\n",
       "      <th>4</th>\n",
       "      <td>Tokyo</td>\n",
       "      <td>Steeve</td>\n",
       "    </tr>\n",
       "  </tbody>\n",
       "</table>\n",
       "</div>"
      ],
      "text/plain": [
       "        city     name\n",
       "0      Tokyo  Hiroshi\n",
       "1      Osaka    Akiko\n",
       "2      Kyoto     Yuki\n",
       "3  Hokkaidao   Satoru\n",
       "4      Tokyo   Steeve"
      ]
     },
     "execution_count": 36,
     "metadata": {},
     "output_type": "execute_result"
    }
   ],
   "source": [
    "attri_data_frame1.drop(['ID','birth_year'], axis=1)"
   ]
  },
  {
   "cell_type": "code",
   "execution_count": 37,
   "metadata": {},
   "outputs": [
    {
     "data": {
      "text/html": [
       "<div>\n",
       "<style scoped>\n",
       "    .dataframe tbody tr th:only-of-type {\n",
       "        vertical-align: middle;\n",
       "    }\n",
       "\n",
       "    .dataframe tbody tr th {\n",
       "        vertical-align: top;\n",
       "    }\n",
       "\n",
       "    .dataframe thead th {\n",
       "        text-align: right;\n",
       "    }\n",
       "</style>\n",
       "<table border=\"1\" class=\"dataframe\">\n",
       "  <thead>\n",
       "    <tr style=\"text-align: right;\">\n",
       "      <th></th>\n",
       "      <th>English</th>\n",
       "      <th>ID</th>\n",
       "      <th>gender</th>\n",
       "      <th>math</th>\n",
       "    </tr>\n",
       "  </thead>\n",
       "  <tbody>\n",
       "    <tr>\n",
       "      <th>0</th>\n",
       "      <td>90</td>\n",
       "      <td>100</td>\n",
       "      <td>M</td>\n",
       "      <td>50</td>\n",
       "    </tr>\n",
       "    <tr>\n",
       "      <th>1</th>\n",
       "      <td>30</td>\n",
       "      <td>101</td>\n",
       "      <td>F</td>\n",
       "      <td>43</td>\n",
       "    </tr>\n",
       "    <tr>\n",
       "      <th>2</th>\n",
       "      <td>20</td>\n",
       "      <td>102</td>\n",
       "      <td>F</td>\n",
       "      <td>33</td>\n",
       "    </tr>\n",
       "    <tr>\n",
       "      <th>3</th>\n",
       "      <td>50</td>\n",
       "      <td>105</td>\n",
       "      <td>M</td>\n",
       "      <td>76</td>\n",
       "    </tr>\n",
       "    <tr>\n",
       "      <th>4</th>\n",
       "      <td>30</td>\n",
       "      <td>107</td>\n",
       "      <td>M</td>\n",
       "      <td>98</td>\n",
       "    </tr>\n",
       "  </tbody>\n",
       "</table>\n",
       "</div>"
      ],
      "text/plain": [
       "   English   ID gender  math\n",
       "0       90  100      M    50\n",
       "1       30  101      F    43\n",
       "2       20  102      F    33\n",
       "3       50  105      M    76\n",
       "4       30  107      M    98"
      ]
     },
     "execution_count": 37,
     "metadata": {},
     "output_type": "execute_result"
    }
   ],
   "source": [
    "# Merge\n",
    "\n",
    "attri_data2 = {'ID':['100','101','102','105','107'], \n",
    "               'math':[50,43,33,76,98], \n",
    "               'English':[90,30,20,50,30], \n",
    "               'gender':['M','F','F','M','M']}\n",
    "attri_data_frame2 = DataFrame(attri_data2)\n",
    "attri_data_frame2"
   ]
  },
  {
   "cell_type": "code",
   "execution_count": 38,
   "metadata": {},
   "outputs": [
    {
     "data": {
      "text/html": [
       "<div>\n",
       "<style scoped>\n",
       "    .dataframe tbody tr th:only-of-type {\n",
       "        vertical-align: middle;\n",
       "    }\n",
       "\n",
       "    .dataframe tbody tr th {\n",
       "        vertical-align: top;\n",
       "    }\n",
       "\n",
       "    .dataframe thead th {\n",
       "        text-align: right;\n",
       "    }\n",
       "</style>\n",
       "<table border=\"1\" class=\"dataframe\">\n",
       "  <thead>\n",
       "    <tr style=\"text-align: right;\">\n",
       "      <th></th>\n",
       "      <th>ID</th>\n",
       "      <th>birth_year</th>\n",
       "      <th>city</th>\n",
       "      <th>name</th>\n",
       "    </tr>\n",
       "  </thead>\n",
       "  <tbody>\n",
       "    <tr>\n",
       "      <th>0</th>\n",
       "      <td>100</td>\n",
       "      <td>1990</td>\n",
       "      <td>Tokyo</td>\n",
       "      <td>Hiroshi</td>\n",
       "    </tr>\n",
       "    <tr>\n",
       "      <th>1</th>\n",
       "      <td>101</td>\n",
       "      <td>1989</td>\n",
       "      <td>Osaka</td>\n",
       "      <td>Akiko</td>\n",
       "    </tr>\n",
       "    <tr>\n",
       "      <th>2</th>\n",
       "      <td>102</td>\n",
       "      <td>1992</td>\n",
       "      <td>Kyoto</td>\n",
       "      <td>Yuki</td>\n",
       "    </tr>\n",
       "    <tr>\n",
       "      <th>3</th>\n",
       "      <td>103</td>\n",
       "      <td>1997</td>\n",
       "      <td>Hokkaidao</td>\n",
       "      <td>Satoru</td>\n",
       "    </tr>\n",
       "    <tr>\n",
       "      <th>4</th>\n",
       "      <td>104</td>\n",
       "      <td>1982</td>\n",
       "      <td>Tokyo</td>\n",
       "      <td>Steeve</td>\n",
       "    </tr>\n",
       "  </tbody>\n",
       "</table>\n",
       "</div>"
      ],
      "text/plain": [
       "    ID  birth_year       city     name\n",
       "0  100        1990      Tokyo  Hiroshi\n",
       "1  101        1989      Osaka    Akiko\n",
       "2  102        1992      Kyoto     Yuki\n",
       "3  103        1997  Hokkaidao   Satoru\n",
       "4  104        1982      Tokyo   Steeve"
      ]
     },
     "execution_count": 38,
     "metadata": {},
     "output_type": "execute_result"
    }
   ],
   "source": [
    "attri_data_frame1"
   ]
  },
  {
   "cell_type": "code",
   "execution_count": 39,
   "metadata": {},
   "outputs": [
    {
     "data": {
      "text/html": [
       "<div>\n",
       "<style scoped>\n",
       "    .dataframe tbody tr th:only-of-type {\n",
       "        vertical-align: middle;\n",
       "    }\n",
       "\n",
       "    .dataframe tbody tr th {\n",
       "        vertical-align: top;\n",
       "    }\n",
       "\n",
       "    .dataframe thead th {\n",
       "        text-align: right;\n",
       "    }\n",
       "</style>\n",
       "<table border=\"1\" class=\"dataframe\">\n",
       "  <thead>\n",
       "    <tr style=\"text-align: right;\">\n",
       "      <th></th>\n",
       "      <th>ID</th>\n",
       "      <th>birth_year</th>\n",
       "      <th>city</th>\n",
       "      <th>name</th>\n",
       "      <th>English</th>\n",
       "      <th>gender</th>\n",
       "      <th>math</th>\n",
       "    </tr>\n",
       "  </thead>\n",
       "  <tbody>\n",
       "    <tr>\n",
       "      <th>0</th>\n",
       "      <td>100</td>\n",
       "      <td>1990</td>\n",
       "      <td>Tokyo</td>\n",
       "      <td>Hiroshi</td>\n",
       "      <td>90</td>\n",
       "      <td>M</td>\n",
       "      <td>50</td>\n",
       "    </tr>\n",
       "    <tr>\n",
       "      <th>1</th>\n",
       "      <td>101</td>\n",
       "      <td>1989</td>\n",
       "      <td>Osaka</td>\n",
       "      <td>Akiko</td>\n",
       "      <td>30</td>\n",
       "      <td>F</td>\n",
       "      <td>43</td>\n",
       "    </tr>\n",
       "    <tr>\n",
       "      <th>2</th>\n",
       "      <td>102</td>\n",
       "      <td>1992</td>\n",
       "      <td>Kyoto</td>\n",
       "      <td>Yuki</td>\n",
       "      <td>20</td>\n",
       "      <td>F</td>\n",
       "      <td>33</td>\n",
       "    </tr>\n",
       "  </tbody>\n",
       "</table>\n",
       "</div>"
      ],
      "text/plain": [
       "    ID  birth_year   city     name  English gender  math\n",
       "0  100        1990  Tokyo  Hiroshi       90      M    50\n",
       "1  101        1989  Osaka    Akiko       30      F    43\n",
       "2  102        1992  Kyoto     Yuki       20      F    33"
      ]
     },
     "execution_count": 39,
     "metadata": {},
     "output_type": "execute_result"
    }
   ],
   "source": [
    "pd.merge(attri_data_frame1, attri_data_frame2)"
   ]
  },
  {
   "cell_type": "code",
   "execution_count": 40,
   "metadata": {
    "scrolled": true
   },
   "outputs": [
    {
     "data": {
      "text/html": [
       "<div>\n",
       "<style scoped>\n",
       "    .dataframe tbody tr th:only-of-type {\n",
       "        vertical-align: middle;\n",
       "    }\n",
       "\n",
       "    .dataframe tbody tr th {\n",
       "        vertical-align: top;\n",
       "    }\n",
       "\n",
       "    .dataframe thead th {\n",
       "        text-align: right;\n",
       "    }\n",
       "</style>\n",
       "<table border=\"1\" class=\"dataframe\">\n",
       "  <thead>\n",
       "    <tr style=\"text-align: right;\">\n",
       "      <th></th>\n",
       "      <th>English</th>\n",
       "      <th>ID</th>\n",
       "      <th>gender</th>\n",
       "      <th>math</th>\n",
       "    </tr>\n",
       "  </thead>\n",
       "  <tbody>\n",
       "    <tr>\n",
       "      <th>0</th>\n",
       "      <td>90</td>\n",
       "      <td>100</td>\n",
       "      <td>M</td>\n",
       "      <td>50</td>\n",
       "    </tr>\n",
       "    <tr>\n",
       "      <th>1</th>\n",
       "      <td>30</td>\n",
       "      <td>101</td>\n",
       "      <td>F</td>\n",
       "      <td>43</td>\n",
       "    </tr>\n",
       "    <tr>\n",
       "      <th>2</th>\n",
       "      <td>20</td>\n",
       "      <td>102</td>\n",
       "      <td>F</td>\n",
       "      <td>33</td>\n",
       "    </tr>\n",
       "    <tr>\n",
       "      <th>3</th>\n",
       "      <td>50</td>\n",
       "      <td>105</td>\n",
       "      <td>M</td>\n",
       "      <td>76</td>\n",
       "    </tr>\n",
       "    <tr>\n",
       "      <th>4</th>\n",
       "      <td>30</td>\n",
       "      <td>107</td>\n",
       "      <td>M</td>\n",
       "      <td>98</td>\n",
       "    </tr>\n",
       "  </tbody>\n",
       "</table>\n",
       "</div>"
      ],
      "text/plain": [
       "   English   ID gender  math\n",
       "0       90  100      M    50\n",
       "1       30  101      F    43\n",
       "2       20  102      F    33\n",
       "3       50  105      M    76\n",
       "4       30  107      M    98"
      ]
     },
     "execution_count": 40,
     "metadata": {},
     "output_type": "execute_result"
    }
   ],
   "source": [
    "attri_data_frame2"
   ]
  },
  {
   "cell_type": "code",
   "execution_count": 41,
   "metadata": {
    "scrolled": true
   },
   "outputs": [
    {
     "data": {
      "text/html": [
       "<div>\n",
       "<style scoped>\n",
       "    .dataframe tbody tr th:only-of-type {\n",
       "        vertical-align: middle;\n",
       "    }\n",
       "\n",
       "    .dataframe tbody tr th {\n",
       "        vertical-align: top;\n",
       "    }\n",
       "\n",
       "    .dataframe thead th {\n",
       "        text-align: right;\n",
       "    }\n",
       "</style>\n",
       "<table border=\"1\" class=\"dataframe\">\n",
       "  <thead>\n",
       "    <tr style=\"text-align: right;\">\n",
       "      <th></th>\n",
       "      <th>ID</th>\n",
       "      <th>birth_year</th>\n",
       "      <th>city</th>\n",
       "      <th>name</th>\n",
       "    </tr>\n",
       "  </thead>\n",
       "  <tbody>\n",
       "    <tr>\n",
       "      <th>2</th>\n",
       "      <td>102</td>\n",
       "      <td>1992</td>\n",
       "      <td>Kyoto</td>\n",
       "      <td>Yuki</td>\n",
       "    </tr>\n",
       "  </tbody>\n",
       "</table>\n",
       "</div>"
      ],
      "text/plain": [
       "    ID  birth_year   city  name\n",
       "2  102        1992  Kyoto  Yuki"
      ]
     },
     "execution_count": 41,
     "metadata": {},
     "output_type": "execute_result"
    }
   ],
   "source": [
    "attri_data_frame1[attri_data_frame1['ID']=='102']"
   ]
  },
  {
   "cell_type": "code",
   "execution_count": 42,
   "metadata": {},
   "outputs": [],
   "source": [
    "# loc\n",
    "\n",
    "attri_data_frame1.loc[2, \"name\"] = np.nan"
   ]
  },
  {
   "cell_type": "code",
   "execution_count": 43,
   "metadata": {
    "scrolled": true
   },
   "outputs": [
    {
     "data": {
      "text/html": [
       "<div>\n",
       "<style scoped>\n",
       "    .dataframe tbody tr th:only-of-type {\n",
       "        vertical-align: middle;\n",
       "    }\n",
       "\n",
       "    .dataframe tbody tr th {\n",
       "        vertical-align: top;\n",
       "    }\n",
       "\n",
       "    .dataframe thead th {\n",
       "        text-align: right;\n",
       "    }\n",
       "</style>\n",
       "<table border=\"1\" class=\"dataframe\">\n",
       "  <thead>\n",
       "    <tr style=\"text-align: right;\">\n",
       "      <th></th>\n",
       "      <th>ID</th>\n",
       "      <th>birth_year</th>\n",
       "      <th>city</th>\n",
       "      <th>name</th>\n",
       "    </tr>\n",
       "  </thead>\n",
       "  <tbody>\n",
       "    <tr>\n",
       "      <th>0</th>\n",
       "      <td>100</td>\n",
       "      <td>1990</td>\n",
       "      <td>Tokyo</td>\n",
       "      <td>Hiroshi</td>\n",
       "    </tr>\n",
       "    <tr>\n",
       "      <th>1</th>\n",
       "      <td>101</td>\n",
       "      <td>1989</td>\n",
       "      <td>Osaka</td>\n",
       "      <td>Akiko</td>\n",
       "    </tr>\n",
       "    <tr>\n",
       "      <th>2</th>\n",
       "      <td>102</td>\n",
       "      <td>1992</td>\n",
       "      <td>Kyoto</td>\n",
       "      <td>NaN</td>\n",
       "    </tr>\n",
       "    <tr>\n",
       "      <th>3</th>\n",
       "      <td>103</td>\n",
       "      <td>1997</td>\n",
       "      <td>Hokkaidao</td>\n",
       "      <td>Satoru</td>\n",
       "    </tr>\n",
       "    <tr>\n",
       "      <th>4</th>\n",
       "      <td>104</td>\n",
       "      <td>1982</td>\n",
       "      <td>Tokyo</td>\n",
       "      <td>Steeve</td>\n",
       "    </tr>\n",
       "  </tbody>\n",
       "</table>\n",
       "</div>"
      ],
      "text/plain": [
       "    ID  birth_year       city     name\n",
       "0  100        1990      Tokyo  Hiroshi\n",
       "1  101        1989      Osaka    Akiko\n",
       "2  102        1992      Kyoto      NaN\n",
       "3  103        1997  Hokkaidao   Satoru\n",
       "4  104        1982      Tokyo   Steeve"
      ]
     },
     "execution_count": 43,
     "metadata": {},
     "output_type": "execute_result"
    }
   ],
   "source": [
    "attri_data_frame1"
   ]
  },
  {
   "cell_type": "code",
   "execution_count": 44,
   "metadata": {},
   "outputs": [
    {
     "data": {
      "text/html": [
       "<div>\n",
       "<style scoped>\n",
       "    .dataframe tbody tr th:only-of-type {\n",
       "        vertical-align: middle;\n",
       "    }\n",
       "\n",
       "    .dataframe tbody tr th {\n",
       "        vertical-align: top;\n",
       "    }\n",
       "\n",
       "    .dataframe thead th {\n",
       "        text-align: right;\n",
       "    }\n",
       "</style>\n",
       "<table border=\"1\" class=\"dataframe\">\n",
       "  <thead>\n",
       "    <tr style=\"text-align: right;\">\n",
       "      <th></th>\n",
       "      <th>English</th>\n",
       "      <th>ID</th>\n",
       "      <th>gender</th>\n",
       "      <th>math</th>\n",
       "    </tr>\n",
       "  </thead>\n",
       "  <tbody>\n",
       "    <tr>\n",
       "      <th>0</th>\n",
       "      <td>90</td>\n",
       "      <td>NaN</td>\n",
       "      <td>M</td>\n",
       "      <td>50</td>\n",
       "    </tr>\n",
       "    <tr>\n",
       "      <th>1</th>\n",
       "      <td>30</td>\n",
       "      <td>101</td>\n",
       "      <td>F</td>\n",
       "      <td>43</td>\n",
       "    </tr>\n",
       "    <tr>\n",
       "      <th>2</th>\n",
       "      <td>20</td>\n",
       "      <td>102</td>\n",
       "      <td>F</td>\n",
       "      <td>33</td>\n",
       "    </tr>\n",
       "    <tr>\n",
       "      <th>3</th>\n",
       "      <td>50</td>\n",
       "      <td>105</td>\n",
       "      <td>M</td>\n",
       "      <td>76</td>\n",
       "    </tr>\n",
       "    <tr>\n",
       "      <th>4</th>\n",
       "      <td>30</td>\n",
       "      <td>107</td>\n",
       "      <td>M</td>\n",
       "      <td>98</td>\n",
       "    </tr>\n",
       "  </tbody>\n",
       "</table>\n",
       "</div>"
      ],
      "text/plain": [
       "   English   ID gender  math\n",
       "0       90  NaN      M    50\n",
       "1       30  101      F    43\n",
       "2       20  102      F    33\n",
       "3       50  105      M    76\n",
       "4       30  107      M    98"
      ]
     },
     "execution_count": 44,
     "metadata": {},
     "output_type": "execute_result"
    }
   ],
   "source": [
    "attri_data_frame2.loc[0, \"ID\"] = np.nan\n",
    "attri_data_frame2"
   ]
  },
  {
   "cell_type": "code",
   "execution_count": 45,
   "metadata": {},
   "outputs": [
    {
     "data": {
      "text/html": [
       "<div>\n",
       "<style scoped>\n",
       "    .dataframe tbody tr th:only-of-type {\n",
       "        vertical-align: middle;\n",
       "    }\n",
       "\n",
       "    .dataframe tbody tr th {\n",
       "        vertical-align: top;\n",
       "    }\n",
       "\n",
       "    .dataframe thead th {\n",
       "        text-align: right;\n",
       "    }\n",
       "</style>\n",
       "<table border=\"1\" class=\"dataframe\">\n",
       "  <thead>\n",
       "    <tr style=\"text-align: right;\">\n",
       "      <th></th>\n",
       "      <th>ID</th>\n",
       "      <th>birth_year</th>\n",
       "      <th>city</th>\n",
       "      <th>name</th>\n",
       "      <th>English</th>\n",
       "      <th>gender</th>\n",
       "      <th>math</th>\n",
       "    </tr>\n",
       "  </thead>\n",
       "  <tbody>\n",
       "    <tr>\n",
       "      <th>0</th>\n",
       "      <td>101</td>\n",
       "      <td>1989</td>\n",
       "      <td>Osaka</td>\n",
       "      <td>Akiko</td>\n",
       "      <td>30</td>\n",
       "      <td>F</td>\n",
       "      <td>43</td>\n",
       "    </tr>\n",
       "    <tr>\n",
       "      <th>1</th>\n",
       "      <td>102</td>\n",
       "      <td>1992</td>\n",
       "      <td>Kyoto</td>\n",
       "      <td>NaN</td>\n",
       "      <td>20</td>\n",
       "      <td>F</td>\n",
       "      <td>33</td>\n",
       "    </tr>\n",
       "  </tbody>\n",
       "</table>\n",
       "</div>"
      ],
      "text/plain": [
       "    ID  birth_year   city   name  English gender  math\n",
       "0  101        1989  Osaka  Akiko       30      F    43\n",
       "1  102        1992  Kyoto    NaN       20      F    33"
      ]
     },
     "execution_count": 45,
     "metadata": {},
     "output_type": "execute_result"
    }
   ],
   "source": [
    "# inner join\n",
    "pd.merge(attri_data_frame1, attri_data_frame2)"
   ]
  },
  {
   "cell_type": "code",
   "execution_count": 46,
   "metadata": {},
   "outputs": [
    {
     "data": {
      "text/html": [
       "<div>\n",
       "<style scoped>\n",
       "    .dataframe tbody tr th:only-of-type {\n",
       "        vertical-align: middle;\n",
       "    }\n",
       "\n",
       "    .dataframe tbody tr th {\n",
       "        vertical-align: top;\n",
       "    }\n",
       "\n",
       "    .dataframe thead th {\n",
       "        text-align: right;\n",
       "    }\n",
       "</style>\n",
       "<table border=\"1\" class=\"dataframe\">\n",
       "  <thead>\n",
       "    <tr style=\"text-align: right;\">\n",
       "      <th></th>\n",
       "      <th>ID</th>\n",
       "      <th>birth_year</th>\n",
       "      <th>city</th>\n",
       "      <th>name</th>\n",
       "      <th>English</th>\n",
       "      <th>gender</th>\n",
       "      <th>math</th>\n",
       "    </tr>\n",
       "  </thead>\n",
       "  <tbody>\n",
       "    <tr>\n",
       "      <th>0</th>\n",
       "      <td>100</td>\n",
       "      <td>1990</td>\n",
       "      <td>Tokyo</td>\n",
       "      <td>Hiroshi</td>\n",
       "      <td>NaN</td>\n",
       "      <td>NaN</td>\n",
       "      <td>NaN</td>\n",
       "    </tr>\n",
       "    <tr>\n",
       "      <th>1</th>\n",
       "      <td>101</td>\n",
       "      <td>1989</td>\n",
       "      <td>Osaka</td>\n",
       "      <td>Akiko</td>\n",
       "      <td>30.0</td>\n",
       "      <td>F</td>\n",
       "      <td>43.0</td>\n",
       "    </tr>\n",
       "    <tr>\n",
       "      <th>2</th>\n",
       "      <td>102</td>\n",
       "      <td>1992</td>\n",
       "      <td>Kyoto</td>\n",
       "      <td>NaN</td>\n",
       "      <td>20.0</td>\n",
       "      <td>F</td>\n",
       "      <td>33.0</td>\n",
       "    </tr>\n",
       "    <tr>\n",
       "      <th>3</th>\n",
       "      <td>103</td>\n",
       "      <td>1997</td>\n",
       "      <td>Hokkaidao</td>\n",
       "      <td>Satoru</td>\n",
       "      <td>NaN</td>\n",
       "      <td>NaN</td>\n",
       "      <td>NaN</td>\n",
       "    </tr>\n",
       "    <tr>\n",
       "      <th>4</th>\n",
       "      <td>104</td>\n",
       "      <td>1982</td>\n",
       "      <td>Tokyo</td>\n",
       "      <td>Steeve</td>\n",
       "      <td>NaN</td>\n",
       "      <td>NaN</td>\n",
       "      <td>NaN</td>\n",
       "    </tr>\n",
       "  </tbody>\n",
       "</table>\n",
       "</div>"
      ],
      "text/plain": [
       "    ID  birth_year       city     name  English gender  math\n",
       "0  100        1990      Tokyo  Hiroshi      NaN    NaN   NaN\n",
       "1  101        1989      Osaka    Akiko     30.0      F  43.0\n",
       "2  102        1992      Kyoto      NaN     20.0      F  33.0\n",
       "3  103        1997  Hokkaidao   Satoru      NaN    NaN   NaN\n",
       "4  104        1982      Tokyo   Steeve      NaN    NaN   NaN"
      ]
     },
     "execution_count": 46,
     "metadata": {},
     "output_type": "execute_result"
    }
   ],
   "source": [
    "# left outer join\n",
    "pd.merge(attri_data_frame1, attri_data_frame2, how='left')"
   ]
  },
  {
   "cell_type": "code",
   "execution_count": 47,
   "metadata": {},
   "outputs": [
    {
     "data": {
      "text/html": [
       "<div>\n",
       "<style scoped>\n",
       "    .dataframe tbody tr th:only-of-type {\n",
       "        vertical-align: middle;\n",
       "    }\n",
       "\n",
       "    .dataframe tbody tr th {\n",
       "        vertical-align: top;\n",
       "    }\n",
       "\n",
       "    .dataframe thead th {\n",
       "        text-align: right;\n",
       "    }\n",
       "</style>\n",
       "<table border=\"1\" class=\"dataframe\">\n",
       "  <thead>\n",
       "    <tr style=\"text-align: right;\">\n",
       "      <th></th>\n",
       "      <th>English</th>\n",
       "      <th>math</th>\n",
       "    </tr>\n",
       "    <tr>\n",
       "      <th>gender</th>\n",
       "      <th></th>\n",
       "      <th></th>\n",
       "    </tr>\n",
       "  </thead>\n",
       "  <tbody>\n",
       "    <tr>\n",
       "      <th>F</th>\n",
       "      <td>25.000000</td>\n",
       "      <td>38.000000</td>\n",
       "    </tr>\n",
       "    <tr>\n",
       "      <th>M</th>\n",
       "      <td>56.666667</td>\n",
       "      <td>74.666667</td>\n",
       "    </tr>\n",
       "  </tbody>\n",
       "</table>\n",
       "</div>"
      ],
      "text/plain": [
       "          English       math\n",
       "gender                      \n",
       "F       25.000000  38.000000\n",
       "M       56.666667  74.666667"
      ]
     },
     "execution_count": 47,
     "metadata": {},
     "output_type": "execute_result"
    }
   ],
   "source": [
    "# Group By\n",
    "\n",
    "# Mean\n",
    "\n",
    "attri_data_frame2.groupby('gender').mean()"
   ]
  },
  {
   "cell_type": "code",
   "execution_count": 48,
   "metadata": {},
   "outputs": [
    {
     "data": {
      "text/plain": [
       "gender\n",
       "F    38.000000\n",
       "M    74.666667\n",
       "Name: math, dtype: float64"
      ]
     },
     "execution_count": 48,
     "metadata": {},
     "output_type": "execute_result"
    }
   ],
   "source": [
    "attri_data_frame2.groupby('gender')['math'].mean()"
   ]
  },
  {
   "cell_type": "code",
   "execution_count": 49,
   "metadata": {},
   "outputs": [
    {
     "data": {
      "text/plain": [
       "gender\n",
       "F    25.000000\n",
       "M    56.666667\n",
       "Name: English, dtype: float64"
      ]
     },
     "execution_count": 49,
     "metadata": {},
     "output_type": "execute_result"
    }
   ],
   "source": [
    "attri_data_frame2.groupby('gender')['English'].mean()"
   ]
  },
  {
   "cell_type": "code",
   "execution_count": 50,
   "metadata": {},
   "outputs": [
    {
     "data": {
      "text/html": [
       "<div>\n",
       "<style scoped>\n",
       "    .dataframe tbody tr th:only-of-type {\n",
       "        vertical-align: middle;\n",
       "    }\n",
       "\n",
       "    .dataframe tbody tr th {\n",
       "        vertical-align: top;\n",
       "    }\n",
       "\n",
       "    .dataframe thead th {\n",
       "        text-align: right;\n",
       "    }\n",
       "</style>\n",
       "<table border=\"1\" class=\"dataframe\">\n",
       "  <thead>\n",
       "    <tr style=\"text-align: right;\">\n",
       "      <th></th>\n",
       "      <th>English</th>\n",
       "      <th>ID</th>\n",
       "      <th>gender</th>\n",
       "      <th>math</th>\n",
       "    </tr>\n",
       "  </thead>\n",
       "  <tbody>\n",
       "    <tr>\n",
       "      <th>0</th>\n",
       "      <td>90</td>\n",
       "      <td>NaN</td>\n",
       "      <td>M</td>\n",
       "      <td>50</td>\n",
       "    </tr>\n",
       "    <tr>\n",
       "      <th>1</th>\n",
       "      <td>30</td>\n",
       "      <td>101</td>\n",
       "      <td>F</td>\n",
       "      <td>43</td>\n",
       "    </tr>\n",
       "    <tr>\n",
       "      <th>2</th>\n",
       "      <td>20</td>\n",
       "      <td>102</td>\n",
       "      <td>F</td>\n",
       "      <td>33</td>\n",
       "    </tr>\n",
       "    <tr>\n",
       "      <th>3</th>\n",
       "      <td>50</td>\n",
       "      <td>105</td>\n",
       "      <td>M</td>\n",
       "      <td>76</td>\n",
       "    </tr>\n",
       "    <tr>\n",
       "      <th>4</th>\n",
       "      <td>30</td>\n",
       "      <td>107</td>\n",
       "      <td>M</td>\n",
       "      <td>98</td>\n",
       "    </tr>\n",
       "  </tbody>\n",
       "</table>\n",
       "</div>"
      ],
      "text/plain": [
       "   English   ID gender  math\n",
       "0       90  NaN      M    50\n",
       "1       30  101      F    43\n",
       "2       20  102      F    33\n",
       "3       50  105      M    76\n",
       "4       30  107      M    98"
      ]
     },
     "execution_count": 50,
     "metadata": {},
     "output_type": "execute_result"
    }
   ],
   "source": [
    "attri_data_frame2"
   ]
  },
  {
   "cell_type": "code",
   "execution_count": 51,
   "metadata": {
    "scrolled": true
   },
   "outputs": [
    {
     "data": {
      "text/html": [
       "<div>\n",
       "<style scoped>\n",
       "    .dataframe tbody tr th:only-of-type {\n",
       "        vertical-align: middle;\n",
       "    }\n",
       "\n",
       "    .dataframe tbody tr th {\n",
       "        vertical-align: top;\n",
       "    }\n",
       "\n",
       "    .dataframe thead th {\n",
       "        text-align: right;\n",
       "    }\n",
       "</style>\n",
       "<table border=\"1\" class=\"dataframe\">\n",
       "  <thead>\n",
       "    <tr style=\"text-align: right;\">\n",
       "      <th></th>\n",
       "      <th>English</th>\n",
       "      <th>math</th>\n",
       "    </tr>\n",
       "    <tr>\n",
       "      <th>gender</th>\n",
       "      <th></th>\n",
       "      <th></th>\n",
       "    </tr>\n",
       "  </thead>\n",
       "  <tbody>\n",
       "    <tr>\n",
       "      <th>F</th>\n",
       "      <td>30</td>\n",
       "      <td>43</td>\n",
       "    </tr>\n",
       "    <tr>\n",
       "      <th>M</th>\n",
       "      <td>90</td>\n",
       "      <td>98</td>\n",
       "    </tr>\n",
       "  </tbody>\n",
       "</table>\n",
       "</div>"
      ],
      "text/plain": [
       "        English  math\n",
       "gender               \n",
       "F            30    43\n",
       "M            90    98"
      ]
     },
     "execution_count": 51,
     "metadata": {},
     "output_type": "execute_result"
    }
   ],
   "source": [
    "# Max\n",
    "\n",
    "d = attri_data_frame2.groupby('gender').max()\n",
    "d"
   ]
  },
  {
   "cell_type": "code",
   "execution_count": 52,
   "metadata": {},
   "outputs": [
    {
     "data": {
      "text/plain": [
       "pandas.core.frame.DataFrame"
      ]
     },
     "execution_count": 52,
     "metadata": {},
     "output_type": "execute_result"
    }
   ],
   "source": [
    "type(d)"
   ]
  },
  {
   "cell_type": "code",
   "execution_count": 53,
   "metadata": {},
   "outputs": [
    {
     "data": {
      "text/plain": [
       "gender\n",
       "F    43\n",
       "M    98\n",
       "Name: math, dtype: int64"
      ]
     },
     "execution_count": 53,
     "metadata": {},
     "output_type": "execute_result"
    }
   ],
   "source": [
    "d2 = attri_data_frame2.groupby('gender')['math'].max()\n",
    "d2"
   ]
  },
  {
   "cell_type": "code",
   "execution_count": 54,
   "metadata": {},
   "outputs": [
    {
     "data": {
      "text/plain": [
       "pandas.core.series.Series"
      ]
     },
     "execution_count": 54,
     "metadata": {},
     "output_type": "execute_result"
    }
   ],
   "source": [
    "type(d2)"
   ]
  },
  {
   "cell_type": "code",
   "execution_count": 55,
   "metadata": {},
   "outputs": [
    {
     "data": {
      "text/html": [
       "<div>\n",
       "<style scoped>\n",
       "    .dataframe tbody tr th:only-of-type {\n",
       "        vertical-align: middle;\n",
       "    }\n",
       "\n",
       "    .dataframe tbody tr th {\n",
       "        vertical-align: top;\n",
       "    }\n",
       "\n",
       "    .dataframe thead th {\n",
       "        text-align: right;\n",
       "    }\n",
       "</style>\n",
       "<table border=\"1\" class=\"dataframe\">\n",
       "  <thead>\n",
       "    <tr style=\"text-align: right;\">\n",
       "      <th></th>\n",
       "      <th>English</th>\n",
       "      <th>ID</th>\n",
       "      <th>gender</th>\n",
       "      <th>math</th>\n",
       "    </tr>\n",
       "  </thead>\n",
       "  <tbody>\n",
       "    <tr>\n",
       "      <th>0</th>\n",
       "      <td>90</td>\n",
       "      <td>NaN</td>\n",
       "      <td>M</td>\n",
       "      <td>50</td>\n",
       "    </tr>\n",
       "    <tr>\n",
       "      <th>1</th>\n",
       "      <td>30</td>\n",
       "      <td>101</td>\n",
       "      <td>F</td>\n",
       "      <td>43</td>\n",
       "    </tr>\n",
       "    <tr>\n",
       "      <th>2</th>\n",
       "      <td>20</td>\n",
       "      <td>102</td>\n",
       "      <td>F</td>\n",
       "      <td>33</td>\n",
       "    </tr>\n",
       "    <tr>\n",
       "      <th>3</th>\n",
       "      <td>50</td>\n",
       "      <td>105</td>\n",
       "      <td>M</td>\n",
       "      <td>76</td>\n",
       "    </tr>\n",
       "    <tr>\n",
       "      <th>4</th>\n",
       "      <td>30</td>\n",
       "      <td>107</td>\n",
       "      <td>M</td>\n",
       "      <td>98</td>\n",
       "    </tr>\n",
       "  </tbody>\n",
       "</table>\n",
       "</div>"
      ],
      "text/plain": [
       "   English   ID gender  math\n",
       "0       90  NaN      M    50\n",
       "1       30  101      F    43\n",
       "2       20  102      F    33\n",
       "3       50  105      M    76\n",
       "4       30  107      M    98"
      ]
     },
     "execution_count": 55,
     "metadata": {},
     "output_type": "execute_result"
    }
   ],
   "source": [
    "attri_data_frame2"
   ]
  },
  {
   "cell_type": "code",
   "execution_count": 56,
   "metadata": {},
   "outputs": [
    {
     "data": {
      "text/html": [
       "<div>\n",
       "<style scoped>\n",
       "    .dataframe tbody tr th:only-of-type {\n",
       "        vertical-align: middle;\n",
       "    }\n",
       "\n",
       "    .dataframe tbody tr th {\n",
       "        vertical-align: top;\n",
       "    }\n",
       "\n",
       "    .dataframe thead th {\n",
       "        text-align: right;\n",
       "    }\n",
       "</style>\n",
       "<table border=\"1\" class=\"dataframe\">\n",
       "  <thead>\n",
       "    <tr style=\"text-align: right;\">\n",
       "      <th></th>\n",
       "      <th>English</th>\n",
       "      <th>math</th>\n",
       "    </tr>\n",
       "    <tr>\n",
       "      <th>gender</th>\n",
       "      <th></th>\n",
       "      <th></th>\n",
       "    </tr>\n",
       "  </thead>\n",
       "  <tbody>\n",
       "    <tr>\n",
       "      <th>F</th>\n",
       "      <td>20</td>\n",
       "      <td>33</td>\n",
       "    </tr>\n",
       "    <tr>\n",
       "      <th>M</th>\n",
       "      <td>30</td>\n",
       "      <td>50</td>\n",
       "    </tr>\n",
       "  </tbody>\n",
       "</table>\n",
       "</div>"
      ],
      "text/plain": [
       "        English  math\n",
       "gender               \n",
       "F            20    33\n",
       "M            30    50"
      ]
     },
     "execution_count": 56,
     "metadata": {},
     "output_type": "execute_result"
    }
   ],
   "source": [
    "# Min\n",
    "\n",
    "attri_data_frame2.groupby('gender').min()"
   ]
  },
  {
   "cell_type": "code",
   "execution_count": 57,
   "metadata": {},
   "outputs": [
    {
     "data": {
      "text/html": [
       "<div>\n",
       "<style scoped>\n",
       "    .dataframe tbody tr th:only-of-type {\n",
       "        vertical-align: middle;\n",
       "    }\n",
       "\n",
       "    .dataframe tbody tr th {\n",
       "        vertical-align: top;\n",
       "    }\n",
       "\n",
       "    .dataframe thead th {\n",
       "        text-align: right;\n",
       "    }\n",
       "</style>\n",
       "<table border=\"1\" class=\"dataframe\">\n",
       "  <thead>\n",
       "    <tr style=\"text-align: right;\">\n",
       "      <th></th>\n",
       "      <th>ID</th>\n",
       "      <th>birth_year</th>\n",
       "      <th>city</th>\n",
       "      <th>name</th>\n",
       "    </tr>\n",
       "  </thead>\n",
       "  <tbody>\n",
       "    <tr>\n",
       "      <th>e</th>\n",
       "      <td>100</td>\n",
       "      <td>1990</td>\n",
       "      <td>Tokyo</td>\n",
       "      <td>Hiroshi</td>\n",
       "    </tr>\n",
       "    <tr>\n",
       "      <th>b</th>\n",
       "      <td>101</td>\n",
       "      <td>1989</td>\n",
       "      <td>Osaka</td>\n",
       "      <td>Akiko</td>\n",
       "    </tr>\n",
       "    <tr>\n",
       "      <th>a</th>\n",
       "      <td>102</td>\n",
       "      <td>1992</td>\n",
       "      <td>Kyoto</td>\n",
       "      <td>Yuki</td>\n",
       "    </tr>\n",
       "    <tr>\n",
       "      <th>d</th>\n",
       "      <td>103</td>\n",
       "      <td>1997</td>\n",
       "      <td>Hokkaido</td>\n",
       "      <td>Satoru</td>\n",
       "    </tr>\n",
       "    <tr>\n",
       "      <th>c</th>\n",
       "      <td>104</td>\n",
       "      <td>1982</td>\n",
       "      <td>Tokyo</td>\n",
       "      <td>Steeve</td>\n",
       "    </tr>\n",
       "  </tbody>\n",
       "</table>\n",
       "</div>"
      ],
      "text/plain": [
       "    ID  birth_year      city     name\n",
       "e  100        1990     Tokyo  Hiroshi\n",
       "b  101        1989     Osaka    Akiko\n",
       "a  102        1992     Kyoto     Yuki\n",
       "d  103        1997  Hokkaido   Satoru\n",
       "c  104        1982     Tokyo   Steeve"
      ]
     },
     "execution_count": 57,
     "metadata": {},
     "output_type": "execute_result"
    }
   ],
   "source": [
    "# Sort\n",
    "\n",
    "attri_data2 = {'ID':['100','101','102','103','104'], \n",
    "               'city':['Tokyo','Osaka','Kyoto','Hokkaido','Tokyo'], \n",
    "               'birth_year':[1990,1989,1992,1997,1982], \n",
    "               'name':['Hiroshi','Akiko','Yuki','Satoru','Steeve']}\n",
    "attri_data_frame2 = DataFrame(attri_data2)\n",
    "attri_data_frame_index2 = DataFrame(attri_data2,index=['e','b','a','d','c'])\n",
    "attri_data_frame_index2"
   ]
  },
  {
   "cell_type": "code",
   "execution_count": 58,
   "metadata": {},
   "outputs": [
    {
     "data": {
      "text/html": [
       "<div>\n",
       "<style scoped>\n",
       "    .dataframe tbody tr th:only-of-type {\n",
       "        vertical-align: middle;\n",
       "    }\n",
       "\n",
       "    .dataframe tbody tr th {\n",
       "        vertical-align: top;\n",
       "    }\n",
       "\n",
       "    .dataframe thead th {\n",
       "        text-align: right;\n",
       "    }\n",
       "</style>\n",
       "<table border=\"1\" class=\"dataframe\">\n",
       "  <thead>\n",
       "    <tr style=\"text-align: right;\">\n",
       "      <th></th>\n",
       "      <th>ID</th>\n",
       "      <th>birth_year</th>\n",
       "      <th>city</th>\n",
       "      <th>name</th>\n",
       "    </tr>\n",
       "  </thead>\n",
       "  <tbody>\n",
       "    <tr>\n",
       "      <th>a</th>\n",
       "      <td>102</td>\n",
       "      <td>1992</td>\n",
       "      <td>Kyoto</td>\n",
       "      <td>Yuki</td>\n",
       "    </tr>\n",
       "    <tr>\n",
       "      <th>b</th>\n",
       "      <td>101</td>\n",
       "      <td>1989</td>\n",
       "      <td>Osaka</td>\n",
       "      <td>Akiko</td>\n",
       "    </tr>\n",
       "    <tr>\n",
       "      <th>c</th>\n",
       "      <td>104</td>\n",
       "      <td>1982</td>\n",
       "      <td>Tokyo</td>\n",
       "      <td>Steeve</td>\n",
       "    </tr>\n",
       "    <tr>\n",
       "      <th>d</th>\n",
       "      <td>103</td>\n",
       "      <td>1997</td>\n",
       "      <td>Hokkaido</td>\n",
       "      <td>Satoru</td>\n",
       "    </tr>\n",
       "    <tr>\n",
       "      <th>e</th>\n",
       "      <td>100</td>\n",
       "      <td>1990</td>\n",
       "      <td>Tokyo</td>\n",
       "      <td>Hiroshi</td>\n",
       "    </tr>\n",
       "  </tbody>\n",
       "</table>\n",
       "</div>"
      ],
      "text/plain": [
       "    ID  birth_year      city     name\n",
       "a  102        1992     Kyoto     Yuki\n",
       "b  101        1989     Osaka    Akiko\n",
       "c  104        1982     Tokyo   Steeve\n",
       "d  103        1997  Hokkaido   Satoru\n",
       "e  100        1990     Tokyo  Hiroshi"
      ]
     },
     "execution_count": 58,
     "metadata": {},
     "output_type": "execute_result"
    }
   ],
   "source": [
    "attri_data_frame_index2.sort_index()"
   ]
  },
  {
   "cell_type": "code",
   "execution_count": 59,
   "metadata": {},
   "outputs": [
    {
     "data": {
      "text/plain": [
       "4    1982\n",
       "1    1989\n",
       "0    1990\n",
       "2    1992\n",
       "3    1997\n",
       "Name: birth_year, dtype: int64"
      ]
     },
     "execution_count": 59,
     "metadata": {},
     "output_type": "execute_result"
    }
   ],
   "source": [
    "attri_data_frame2.birth_year.sort_values()"
   ]
  },
  {
   "cell_type": "code",
   "execution_count": 60,
   "metadata": {},
   "outputs": [
    {
     "data": {
      "text/html": [
       "<div>\n",
       "<style scoped>\n",
       "    .dataframe tbody tr th:only-of-type {\n",
       "        vertical-align: middle;\n",
       "    }\n",
       "\n",
       "    .dataframe tbody tr th {\n",
       "        vertical-align: top;\n",
       "    }\n",
       "\n",
       "    .dataframe thead th {\n",
       "        text-align: right;\n",
       "    }\n",
       "</style>\n",
       "<table border=\"1\" class=\"dataframe\">\n",
       "  <thead>\n",
       "    <tr style=\"text-align: right;\">\n",
       "      <th></th>\n",
       "      <th>ID</th>\n",
       "      <th>birth_year</th>\n",
       "      <th>city</th>\n",
       "      <th>name</th>\n",
       "    </tr>\n",
       "  </thead>\n",
       "  <tbody>\n",
       "    <tr>\n",
       "      <th>e</th>\n",
       "      <td>False</td>\n",
       "      <td>False</td>\n",
       "      <td>True</td>\n",
       "      <td>False</td>\n",
       "    </tr>\n",
       "    <tr>\n",
       "      <th>b</th>\n",
       "      <td>False</td>\n",
       "      <td>False</td>\n",
       "      <td>False</td>\n",
       "      <td>False</td>\n",
       "    </tr>\n",
       "    <tr>\n",
       "      <th>a</th>\n",
       "      <td>False</td>\n",
       "      <td>False</td>\n",
       "      <td>False</td>\n",
       "      <td>False</td>\n",
       "    </tr>\n",
       "    <tr>\n",
       "      <th>d</th>\n",
       "      <td>False</td>\n",
       "      <td>False</td>\n",
       "      <td>False</td>\n",
       "      <td>False</td>\n",
       "    </tr>\n",
       "    <tr>\n",
       "      <th>c</th>\n",
       "      <td>False</td>\n",
       "      <td>False</td>\n",
       "      <td>True</td>\n",
       "      <td>False</td>\n",
       "    </tr>\n",
       "  </tbody>\n",
       "</table>\n",
       "</div>"
      ],
      "text/plain": [
       "      ID  birth_year   city   name\n",
       "e  False       False   True  False\n",
       "b  False       False  False  False\n",
       "a  False       False  False  False\n",
       "d  False       False  False  False\n",
       "c  False       False   True  False"
      ]
     },
     "execution_count": 60,
     "metadata": {},
     "output_type": "execute_result"
    }
   ],
   "source": [
    "# Membership check\n",
    "\n",
    "attri_data_frame_index2.isin(['Tokyo'])"
   ]
  },
  {
   "cell_type": "code",
   "execution_count": 61,
   "metadata": {},
   "outputs": [
    {
     "data": {
      "text/html": [
       "<div>\n",
       "<style scoped>\n",
       "    .dataframe tbody tr th:only-of-type {\n",
       "        vertical-align: middle;\n",
       "    }\n",
       "\n",
       "    .dataframe tbody tr th {\n",
       "        vertical-align: top;\n",
       "    }\n",
       "\n",
       "    .dataframe thead th {\n",
       "        text-align: right;\n",
       "    }\n",
       "</style>\n",
       "<table border=\"1\" class=\"dataframe\">\n",
       "  <thead>\n",
       "    <tr style=\"text-align: right;\">\n",
       "      <th></th>\n",
       "      <th>ID</th>\n",
       "      <th>birth_year</th>\n",
       "      <th>city</th>\n",
       "      <th>name</th>\n",
       "      <th>Name</th>\n",
       "    </tr>\n",
       "  </thead>\n",
       "  <tbody>\n",
       "    <tr>\n",
       "      <th>e</th>\n",
       "      <td>100</td>\n",
       "      <td>1990</td>\n",
       "      <td>Tokyo</td>\n",
       "      <td>Hiroshi</td>\n",
       "      <td>NaN</td>\n",
       "    </tr>\n",
       "    <tr>\n",
       "      <th>b</th>\n",
       "      <td>101</td>\n",
       "      <td>1989</td>\n",
       "      <td>Osaka</td>\n",
       "      <td>Akiko</td>\n",
       "      <td>NaN</td>\n",
       "    </tr>\n",
       "    <tr>\n",
       "      <th>a</th>\n",
       "      <td>102</td>\n",
       "      <td>1992</td>\n",
       "      <td>Kyoto</td>\n",
       "      <td>Yuki</td>\n",
       "      <td>NaN</td>\n",
       "    </tr>\n",
       "    <tr>\n",
       "      <th>d</th>\n",
       "      <td>103</td>\n",
       "      <td>1997</td>\n",
       "      <td>Hokkaido</td>\n",
       "      <td>Satoru</td>\n",
       "      <td>NaN</td>\n",
       "    </tr>\n",
       "    <tr>\n",
       "      <th>c</th>\n",
       "      <td>104</td>\n",
       "      <td>1982</td>\n",
       "      <td>Tokyo</td>\n",
       "      <td>Steeve</td>\n",
       "      <td>NaN</td>\n",
       "    </tr>\n",
       "  </tbody>\n",
       "</table>\n",
       "</div>"
      ],
      "text/plain": [
       "    ID  birth_year      city     name  Name\n",
       "e  100        1990     Tokyo  Hiroshi   NaN\n",
       "b  101        1989     Osaka    Akiko   NaN\n",
       "a  102        1992     Kyoto     Yuki   NaN\n",
       "d  103        1997  Hokkaido   Satoru   NaN\n",
       "c  104        1982     Tokyo   Steeve   NaN"
      ]
     },
     "execution_count": 61,
     "metadata": {},
     "output_type": "execute_result"
    }
   ],
   "source": [
    "# Count missing values \n",
    "\n",
    "attri_data_frame_index2['Name'] = np.nan\n",
    "attri_data_frame_index2"
   ]
  },
  {
   "cell_type": "code",
   "execution_count": 62,
   "metadata": {},
   "outputs": [
    {
     "data": {
      "text/html": [
       "<div>\n",
       "<style scoped>\n",
       "    .dataframe tbody tr th:only-of-type {\n",
       "        vertical-align: middle;\n",
       "    }\n",
       "\n",
       "    .dataframe tbody tr th {\n",
       "        vertical-align: top;\n",
       "    }\n",
       "\n",
       "    .dataframe thead th {\n",
       "        text-align: right;\n",
       "    }\n",
       "</style>\n",
       "<table border=\"1\" class=\"dataframe\">\n",
       "  <thead>\n",
       "    <tr style=\"text-align: right;\">\n",
       "      <th></th>\n",
       "      <th>ID</th>\n",
       "      <th>birth_year</th>\n",
       "      <th>city</th>\n",
       "      <th>name</th>\n",
       "      <th>Name</th>\n",
       "    </tr>\n",
       "  </thead>\n",
       "  <tbody>\n",
       "    <tr>\n",
       "      <th>e</th>\n",
       "      <td>False</td>\n",
       "      <td>False</td>\n",
       "      <td>False</td>\n",
       "      <td>False</td>\n",
       "      <td>True</td>\n",
       "    </tr>\n",
       "    <tr>\n",
       "      <th>b</th>\n",
       "      <td>False</td>\n",
       "      <td>False</td>\n",
       "      <td>False</td>\n",
       "      <td>False</td>\n",
       "      <td>True</td>\n",
       "    </tr>\n",
       "    <tr>\n",
       "      <th>a</th>\n",
       "      <td>False</td>\n",
       "      <td>False</td>\n",
       "      <td>False</td>\n",
       "      <td>False</td>\n",
       "      <td>True</td>\n",
       "    </tr>\n",
       "    <tr>\n",
       "      <th>d</th>\n",
       "      <td>False</td>\n",
       "      <td>False</td>\n",
       "      <td>False</td>\n",
       "      <td>False</td>\n",
       "      <td>True</td>\n",
       "    </tr>\n",
       "    <tr>\n",
       "      <th>c</th>\n",
       "      <td>False</td>\n",
       "      <td>False</td>\n",
       "      <td>False</td>\n",
       "      <td>False</td>\n",
       "      <td>True</td>\n",
       "    </tr>\n",
       "  </tbody>\n",
       "</table>\n",
       "</div>"
      ],
      "text/plain": [
       "      ID  birth_year   city   name  Name\n",
       "e  False       False  False  False  True\n",
       "b  False       False  False  False  True\n",
       "a  False       False  False  False  True\n",
       "d  False       False  False  False  True\n",
       "c  False       False  False  False  True"
      ]
     },
     "execution_count": 62,
     "metadata": {},
     "output_type": "execute_result"
    }
   ],
   "source": [
    "attri_data_frame_index2.isnull()"
   ]
  },
  {
   "cell_type": "code",
   "execution_count": 63,
   "metadata": {},
   "outputs": [
    {
     "data": {
      "text/plain": [
       "ID            0\n",
       "birth_year    0\n",
       "city          0\n",
       "name          0\n",
       "Name          5\n",
       "dtype: int64"
      ]
     },
     "execution_count": 63,
     "metadata": {},
     "output_type": "execute_result"
    }
   ],
   "source": [
    "attri_data_frame_index2.isnull().sum()"
   ]
  },
  {
   "cell_type": "code",
   "execution_count": 64,
   "metadata": {},
   "outputs": [
    {
     "data": {
      "text/html": [
       "<div>\n",
       "<style scoped>\n",
       "    .dataframe tbody tr th:only-of-type {\n",
       "        vertical-align: middle;\n",
       "    }\n",
       "\n",
       "    .dataframe tbody tr th {\n",
       "        vertical-align: top;\n",
       "    }\n",
       "\n",
       "    .dataframe thead th {\n",
       "        text-align: right;\n",
       "    }\n",
       "</style>\n",
       "<table border=\"1\" class=\"dataframe\">\n",
       "  <thead>\n",
       "    <tr style=\"text-align: right;\">\n",
       "      <th></th>\n",
       "      <th>English</th>\n",
       "      <th>ID</th>\n",
       "      <th>gender</th>\n",
       "      <th>math</th>\n",
       "    </tr>\n",
       "  </thead>\n",
       "  <tbody>\n",
       "    <tr>\n",
       "      <th>0</th>\n",
       "      <td>90</td>\n",
       "      <td>1</td>\n",
       "      <td>M</td>\n",
       "      <td>50</td>\n",
       "    </tr>\n",
       "    <tr>\n",
       "      <th>1</th>\n",
       "      <td>30</td>\n",
       "      <td>2</td>\n",
       "      <td>F</td>\n",
       "      <td>43</td>\n",
       "    </tr>\n",
       "    <tr>\n",
       "      <th>2</th>\n",
       "      <td>20</td>\n",
       "      <td>3</td>\n",
       "      <td>F</td>\n",
       "      <td>33</td>\n",
       "    </tr>\n",
       "    <tr>\n",
       "      <th>3</th>\n",
       "      <td>50</td>\n",
       "      <td>4</td>\n",
       "      <td>M</td>\n",
       "      <td>76</td>\n",
       "    </tr>\n",
       "    <tr>\n",
       "      <th>4</th>\n",
       "      <td>30</td>\n",
       "      <td>5</td>\n",
       "      <td>M</td>\n",
       "      <td>98</td>\n",
       "    </tr>\n",
       "  </tbody>\n",
       "</table>\n",
       "</div>"
      ],
      "text/plain": [
       "   English ID gender  math\n",
       "0       90  1      M    50\n",
       "1       30  2      F    43\n",
       "2       20  3      F    33\n",
       "3       50  4      M    76\n",
       "4       30  5      M    98"
      ]
     },
     "execution_count": 64,
     "metadata": {},
     "output_type": "execute_result"
    }
   ],
   "source": [
    "# Sum\n",
    "\n",
    "attri_data3 = {'ID':['1','2','3','4','5'], \n",
    "               'math':[50,43,33,76,98], \n",
    "               'English':[90,30,20,50,30], \n",
    "               'gender':['M','F','F','M','M']}\n",
    "attri_data_frame3 = DataFrame(attri_data3)\n",
    "attri_data_frame3"
   ]
  },
  {
   "cell_type": "code",
   "execution_count": 65,
   "metadata": {},
   "outputs": [
    {
     "data": {
      "text/plain": [
       "English      220\n",
       "ID         12345\n",
       "gender     MFFMM\n",
       "math         300\n",
       "dtype: object"
      ]
     },
     "execution_count": 65,
     "metadata": {},
     "output_type": "execute_result"
    }
   ],
   "source": [
    "attri_data_frame3.sum()"
   ]
  },
  {
   "cell_type": "code",
   "execution_count": 66,
   "metadata": {},
   "outputs": [
    {
     "data": {
      "text/html": [
       "<div>\n",
       "<style scoped>\n",
       "    .dataframe tbody tr th:only-of-type {\n",
       "        vertical-align: middle;\n",
       "    }\n",
       "\n",
       "    .dataframe tbody tr th {\n",
       "        vertical-align: top;\n",
       "    }\n",
       "\n",
       "    .dataframe thead th {\n",
       "        text-align: right;\n",
       "    }\n",
       "</style>\n",
       "<table border=\"1\" class=\"dataframe\">\n",
       "  <thead>\n",
       "    <tr style=\"text-align: right;\">\n",
       "      <th></th>\n",
       "      <th>ID</th>\n",
       "      <th>Money</th>\n",
       "      <th>gender</th>\n",
       "      <th>name</th>\n",
       "    </tr>\n",
       "  </thead>\n",
       "  <tbody>\n",
       "    <tr>\n",
       "      <th>0</th>\n",
       "      <td>1</td>\n",
       "      <td>1000</td>\n",
       "      <td>F</td>\n",
       "      <td>Saito</td>\n",
       "    </tr>\n",
       "    <tr>\n",
       "      <th>1</th>\n",
       "      <td>2</td>\n",
       "      <td>2000</td>\n",
       "      <td>F</td>\n",
       "      <td>Horie</td>\n",
       "    </tr>\n",
       "    <tr>\n",
       "      <th>2</th>\n",
       "      <td>3</td>\n",
       "      <td>500</td>\n",
       "      <td>M</td>\n",
       "      <td>Kondo</td>\n",
       "    </tr>\n",
       "    <tr>\n",
       "      <th>4</th>\n",
       "      <td>5</td>\n",
       "      <td>700</td>\n",
       "      <td>F</td>\n",
       "      <td>Matsubara</td>\n",
       "    </tr>\n",
       "  </tbody>\n",
       "</table>\n",
       "</div>"
      ],
      "text/plain": [
       "  ID  Money gender       name\n",
       "0  1   1000      F      Saito\n",
       "1  2   2000      F      Horie\n",
       "2  3    500      M      Kondo\n",
       "4  5    700      F  Matsubara"
      ]
     },
     "execution_count": 66,
     "metadata": {},
     "output_type": "execute_result"
    }
   ],
   "source": [
    "# R2-7\n",
    "\n",
    "# Display people who earns more than or equal to 500. \n",
    "attri_data1 = {'ID':['1','2','3','4','5'], \n",
    "               'gender':['F','F','M','M','F'], \n",
    "               'Money':[1000,2000,500,300,700], \n",
    "               'name':['Saito','Horie','Kondo','Kawada','Matsubara']}\n",
    "\n",
    "attri_data_frame1 = DataFrame(attri_data1)\n",
    "attri_data_frame1[attri_data_frame1['Money'] >= 500]"
   ]
  },
  {
   "cell_type": "code",
   "execution_count": 67,
   "metadata": {},
   "outputs": [
    {
     "data": {
      "text/plain": [
       "0        Saito\n",
       "1        Horie\n",
       "2        Kondo\n",
       "4    Matsubara\n",
       "Name: name, dtype: object"
      ]
     },
     "execution_count": 67,
     "metadata": {},
     "output_type": "execute_result"
    }
   ],
   "source": [
    "attri_data_frame1[attri_data_frame1['Money'] >= 500]['name']"
   ]
  },
  {
   "cell_type": "code",
   "execution_count": 68,
   "metadata": {},
   "outputs": [
    {
     "data": {
      "text/html": [
       "<div>\n",
       "<style scoped>\n",
       "    .dataframe tbody tr th:only-of-type {\n",
       "        vertical-align: middle;\n",
       "    }\n",
       "\n",
       "    .dataframe tbody tr th {\n",
       "        vertical-align: top;\n",
       "    }\n",
       "\n",
       "    .dataframe thead th {\n",
       "        text-align: right;\n",
       "    }\n",
       "</style>\n",
       "<table border=\"1\" class=\"dataframe\">\n",
       "  <thead>\n",
       "    <tr style=\"text-align: right;\">\n",
       "      <th></th>\n",
       "      <th>ID</th>\n",
       "      <th>Money</th>\n",
       "      <th>gender</th>\n",
       "      <th>name</th>\n",
       "    </tr>\n",
       "  </thead>\n",
       "  <tbody>\n",
       "    <tr>\n",
       "      <th>0</th>\n",
       "      <td>1</td>\n",
       "      <td>1000</td>\n",
       "      <td>F</td>\n",
       "      <td>Saito</td>\n",
       "    </tr>\n",
       "    <tr>\n",
       "      <th>1</th>\n",
       "      <td>2</td>\n",
       "      <td>2000</td>\n",
       "      <td>F</td>\n",
       "      <td>Horie</td>\n",
       "    </tr>\n",
       "    <tr>\n",
       "      <th>2</th>\n",
       "      <td>3</td>\n",
       "      <td>500</td>\n",
       "      <td>M</td>\n",
       "      <td>Kondo</td>\n",
       "    </tr>\n",
       "    <tr>\n",
       "      <th>3</th>\n",
       "      <td>4</td>\n",
       "      <td>300</td>\n",
       "      <td>M</td>\n",
       "      <td>Kawada</td>\n",
       "    </tr>\n",
       "    <tr>\n",
       "      <th>4</th>\n",
       "      <td>5</td>\n",
       "      <td>700</td>\n",
       "      <td>F</td>\n",
       "      <td>Matsubara</td>\n",
       "    </tr>\n",
       "  </tbody>\n",
       "</table>\n",
       "</div>"
      ],
      "text/plain": [
       "  ID  Money gender       name\n",
       "0  1   1000      F      Saito\n",
       "1  2   2000      F      Horie\n",
       "2  3    500      M      Kondo\n",
       "3  4    300      M     Kawada\n",
       "4  5    700      F  Matsubara"
      ]
     },
     "execution_count": 68,
     "metadata": {},
     "output_type": "execute_result"
    }
   ],
   "source": [
    "attri_data_frame1"
   ]
  },
  {
   "cell_type": "code",
   "execution_count": 69,
   "metadata": {},
   "outputs": [
    {
     "data": {
      "text/plain": [
       "gender\n",
       "F    1233.333333\n",
       "M     400.000000\n",
       "Name: Money, dtype: float64"
      ]
     },
     "execution_count": 69,
     "metadata": {},
     "output_type": "execute_result"
    }
   ],
   "source": [
    "# R2-8\n",
    "attri_data_frame1.groupby('gender')['Money'].mean()"
   ]
  },
  {
   "cell_type": "code",
   "execution_count": 70,
   "metadata": {},
   "outputs": [
    {
     "data": {
      "text/plain": [
       "pandas.core.groupby.groupby.SeriesGroupBy"
      ]
     },
     "execution_count": 70,
     "metadata": {},
     "output_type": "execute_result"
    }
   ],
   "source": [
    "d = attri_data_frame1.groupby('gender')['Money']\n",
    "type(d)"
   ]
  },
  {
   "cell_type": "code",
   "execution_count": 71,
   "metadata": {},
   "outputs": [
    {
     "data": {
      "text/html": [
       "<div>\n",
       "<style scoped>\n",
       "    .dataframe tbody tr th:only-of-type {\n",
       "        vertical-align: middle;\n",
       "    }\n",
       "\n",
       "    .dataframe tbody tr th {\n",
       "        vertical-align: top;\n",
       "    }\n",
       "\n",
       "    .dataframe thead th {\n",
       "        text-align: right;\n",
       "    }\n",
       "</style>\n",
       "<table border=\"1\" class=\"dataframe\">\n",
       "  <thead>\n",
       "    <tr style=\"text-align: right;\">\n",
       "      <th></th>\n",
       "      <th>English</th>\n",
       "      <th>ID</th>\n",
       "      <th>Math</th>\n",
       "    </tr>\n",
       "  </thead>\n",
       "  <tbody>\n",
       "    <tr>\n",
       "      <th>0</th>\n",
       "      <td>80</td>\n",
       "      <td>3</td>\n",
       "      <td>60</td>\n",
       "    </tr>\n",
       "    <tr>\n",
       "      <th>1</th>\n",
       "      <td>20</td>\n",
       "      <td>4</td>\n",
       "      <td>30</td>\n",
       "    </tr>\n",
       "    <tr>\n",
       "      <th>2</th>\n",
       "      <td>30</td>\n",
       "      <td>7</td>\n",
       "      <td>40</td>\n",
       "    </tr>\n",
       "  </tbody>\n",
       "</table>\n",
       "</div>"
      ],
      "text/plain": [
       "   English ID  Math\n",
       "0       80  3    60\n",
       "1       20  4    30\n",
       "2       30  7    40"
      ]
     },
     "execution_count": 71,
     "metadata": {},
     "output_type": "execute_result"
    }
   ],
   "source": [
    "# R2-9\n",
    "attri_data2 = {'ID':['3','4','7'], \n",
    "               'Math':[60,30,40], \n",
    "               'English':[80,20,30]}\n",
    "\n",
    "attri_data_frame2 = DataFrame(attri_data2)\n",
    "attri_data_frame2"
   ]
  },
  {
   "cell_type": "code",
   "execution_count": 72,
   "metadata": {},
   "outputs": [
    {
     "data": {
      "text/html": [
       "<div>\n",
       "<style scoped>\n",
       "    .dataframe tbody tr th:only-of-type {\n",
       "        vertical-align: middle;\n",
       "    }\n",
       "\n",
       "    .dataframe tbody tr th {\n",
       "        vertical-align: top;\n",
       "    }\n",
       "\n",
       "    .dataframe thead th {\n",
       "        text-align: right;\n",
       "    }\n",
       "</style>\n",
       "<table border=\"1\" class=\"dataframe\">\n",
       "  <thead>\n",
       "    <tr style=\"text-align: right;\">\n",
       "      <th></th>\n",
       "      <th>ID</th>\n",
       "      <th>Money</th>\n",
       "      <th>gender</th>\n",
       "      <th>name</th>\n",
       "      <th>English</th>\n",
       "      <th>Math</th>\n",
       "    </tr>\n",
       "  </thead>\n",
       "  <tbody>\n",
       "    <tr>\n",
       "      <th>0</th>\n",
       "      <td>3</td>\n",
       "      <td>500</td>\n",
       "      <td>M</td>\n",
       "      <td>Kondo</td>\n",
       "      <td>80</td>\n",
       "      <td>60</td>\n",
       "    </tr>\n",
       "    <tr>\n",
       "      <th>1</th>\n",
       "      <td>4</td>\n",
       "      <td>300</td>\n",
       "      <td>M</td>\n",
       "      <td>Kawada</td>\n",
       "      <td>20</td>\n",
       "      <td>30</td>\n",
       "    </tr>\n",
       "  </tbody>\n",
       "</table>\n",
       "</div>"
      ],
      "text/plain": [
       "  ID  Money gender    name  English  Math\n",
       "0  3    500      M   Kondo       80    60\n",
       "1  4    300      M  Kawada       20    30"
      ]
     },
     "execution_count": 72,
     "metadata": {},
     "output_type": "execute_result"
    }
   ],
   "source": [
    "pd.merge(attri_data_frame1, attri_data_frame2)"
   ]
  },
  {
   "cell_type": "code",
   "execution_count": 73,
   "metadata": {},
   "outputs": [],
   "source": [
    "merged_data = pd.merge(attri_data_frame1, attri_data_frame2)"
   ]
  },
  {
   "cell_type": "code",
   "execution_count": 74,
   "metadata": {},
   "outputs": [
    {
     "data": {
      "text/plain": [
       "ID          17.0\n",
       "Money      400.0\n",
       "English     50.0\n",
       "Math        45.0\n",
       "dtype: float64"
      ]
     },
     "execution_count": 74,
     "metadata": {},
     "output_type": "execute_result"
    }
   ],
   "source": [
    "merged_data.mean()"
   ]
  },
  {
   "cell_type": "code",
   "execution_count": 75,
   "metadata": {},
   "outputs": [
    {
     "data": {
      "image/png": "[encoded data removed]",
      "text/plain": [
       "<Figure size 1440x432 with 1 Axes>"
      ]
     },
     "metadata": {
      "needs_background": "light"
     },
     "output_type": "display_data"
    }
   ],
   "source": [
    "# Matplotlib \n",
    "\n",
    "# Scatter plot\n",
    "random.seed(0)\n",
    "x = np.random.randn(300)\n",
    "y = np.sin(x) + np.random.randn(300)\n",
    "\n",
    "# Graph size\n",
    "plt.figure(figsize=(20, 6))\n",
    "\n",
    "# Plot\n",
    "plt.plot(x, y, 'o')\n",
    "\n",
    "plt.title('Title Name')\n",
    "plt.xlabel('X label')\n",
    "plt.ylabel('Y label')\n",
    "\n",
    "# Grid\n",
    "plt.grid(True)"
   ]
  },
  {
   "cell_type": "code",
   "execution_count": 76,
   "metadata": {},
   "outputs": [
    {
     "data": {
      "text/plain": [
       "<matplotlib.collections.PathCollection at 0x1a228f6c88>"
      ]
     },
     "execution_count": 76,
     "metadata": {},
     "output_type": "execute_result"
    },
    {
     "data": {
      "image/png": "[encoded data removed]",
      "text/plain": [
       "<Figure size 432x288 with 1 Axes>"
      ]
     },
     "metadata": {
      "needs_background": "light"
     },
     "output_type": "display_data"
    }
   ],
   "source": [
    "plt.scatter(x, y)"
   ]
  },
  {
   "cell_type": "code",
   "execution_count": 77,
   "metadata": {},
   "outputs": [
    {
     "name": "stdout",
     "output_type": "stream",
     "text": [
      "<class 'numpy.ndarray'>\n"
     ]
    },
    {
     "data": {
      "text/plain": [
       "array([  0,   1,   2,   3,   4,   5,   6,   7,   8,   9,  10,  11,  12,\n",
       "        13,  14,  15,  16,  17,  18,  19,  20,  21,  22,  23,  24,  25,\n",
       "        26,  27,  28,  29,  30,  31,  32,  33,  34,  35,  36,  37,  38,\n",
       "        39,  40,  41,  42,  43,  44,  45,  46,  47,  48,  49,  50,  51,\n",
       "        52,  53,  54,  55,  56,  57,  58,  59,  60,  61,  62,  63,  64,\n",
       "        65,  66,  67,  68,  69,  70,  71,  72,  73,  74,  75,  76,  77,\n",
       "        78,  79,  80,  81,  82,  83,  84,  85,  86,  87,  88,  89,  90,\n",
       "        91,  92,  93,  94,  95,  96,  97,  98,  99, 100, 101, 102, 103,\n",
       "       104, 105, 106, 107, 108, 109, 110, 111, 112, 113, 114, 115, 116,\n",
       "       117, 118, 119, 120, 121, 122, 123, 124, 125, 126, 127, 128, 129,\n",
       "       130, 131, 132, 133, 134, 135, 136, 137, 138, 139, 140, 141, 142,\n",
       "       143, 144, 145, 146, 147, 148, 149, 150, 151, 152, 153, 154, 155,\n",
       "       156, 157, 158, 159, 160, 161, 162, 163, 164, 165, 166, 167, 168,\n",
       "       169, 170, 171, 172, 173, 174, 175, 176, 177, 178, 179, 180, 181,\n",
       "       182, 183, 184, 185, 186, 187, 188, 189, 190, 191, 192, 193, 194,\n",
       "       195, 196, 197, 198, 199, 200, 201, 202, 203, 204, 205, 206, 207,\n",
       "       208, 209, 210, 211, 212, 213, 214, 215, 216, 217, 218, 219, 220,\n",
       "       221, 222, 223, 224, 225, 226, 227, 228, 229, 230, 231, 232, 233,\n",
       "       234, 235, 236, 237, 238, 239, 240, 241, 242, 243, 244, 245, 246,\n",
       "       247, 248, 249, 250, 251, 252, 253, 254, 255, 256, 257, 258, 259,\n",
       "       260, 261, 262, 263, 264, 265, 266, 267, 268, 269, 270, 271, 272,\n",
       "       273, 274, 275, 276, 277, 278, 279, 280, 281, 282, 283, 284, 285,\n",
       "       286, 287, 288, 289, 290, 291, 292, 293, 294, 295, 296, 297, 298,\n",
       "       299, 300, 301, 302, 303, 304, 305, 306, 307, 308, 309, 310, 311,\n",
       "       312, 313, 314, 315, 316, 317, 318, 319, 320, 321, 322, 323, 324,\n",
       "       325, 326, 327, 328, 329, 330, 331, 332, 333, 334, 335, 336, 337,\n",
       "       338, 339, 340, 341, 342, 343, 344, 345, 346, 347, 348, 349, 350,\n",
       "       351, 352, 353, 354, 355, 356, 357, 358, 359, 360, 361, 362, 363,\n",
       "       364, 365, 366, 367, 368, 369, 370, 371, 372, 373, 374, 375, 376,\n",
       "       377, 378, 379, 380, 381, 382, 383, 384, 385, 386, 387, 388, 389,\n",
       "       390, 391, 392, 393, 394, 395, 396, 397, 398, 399, 400, 401, 402,\n",
       "       403, 404, 405, 406, 407, 408, 409, 410, 411, 412, 413, 414, 415,\n",
       "       416, 417, 418, 419, 420, 421, 422, 423, 424, 425, 426, 427, 428,\n",
       "       429, 430, 431, 432, 433, 434, 435, 436, 437, 438, 439, 440, 441,\n",
       "       442, 443, 444, 445, 446, 447, 448, 449, 450, 451, 452, 453, 454,\n",
       "       455, 456, 457, 458, 459, 460, 461, 462, 463, 464, 465, 466, 467,\n",
       "       468, 469, 470, 471, 472, 473, 474, 475, 476, 477, 478, 479, 480,\n",
       "       481, 482, 483, 484, 485, 486, 487, 488, 489, 490, 491, 492, 493,\n",
       "       494, 495, 496, 497, 498, 499, 500, 501, 502, 503, 504, 505, 506,\n",
       "       507, 508, 509, 510, 511, 512, 513, 514, 515, 516, 517, 518, 519,\n",
       "       520, 521, 522, 523, 524, 525, 526, 527, 528, 529, 530, 531, 532,\n",
       "       533, 534, 535, 536, 537, 538, 539, 540, 541, 542, 543, 544, 545,\n",
       "       546, 547, 548, 549, 550, 551, 552, 553, 554, 555, 556, 557, 558,\n",
       "       559, 560, 561, 562, 563, 564, 565, 566, 567, 568, 569, 570, 571,\n",
       "       572, 573, 574, 575, 576, 577, 578, 579, 580, 581, 582, 583, 584,\n",
       "       585, 586, 587, 588, 589, 590, 591, 592, 593, 594, 595, 596, 597,\n",
       "       598, 599, 600, 601, 602, 603, 604, 605, 606, 607, 608, 609, 610,\n",
       "       611, 612, 613, 614, 615, 616, 617, 618, 619, 620, 621, 622, 623,\n",
       "       624, 625, 626, 627, 628, 629, 630, 631, 632, 633, 634, 635, 636,\n",
       "       637, 638, 639, 640, 641, 642, 643, 644, 645, 646, 647, 648, 649,\n",
       "       650, 651, 652, 653, 654, 655, 656, 657, 658, 659, 660, 661, 662,\n",
       "       663, 664, 665, 666, 667, 668, 669, 670, 671, 672, 673, 674, 675,\n",
       "       676, 677, 678, 679, 680, 681, 682, 683, 684, 685, 686, 687, 688,\n",
       "       689, 690, 691, 692, 693, 694, 695, 696, 697, 698, 699, 700, 701,\n",
       "       702, 703, 704, 705, 706, 707, 708, 709, 710, 711, 712, 713, 714,\n",
       "       715, 716, 717, 718, 719, 720, 721, 722, 723, 724, 725, 726, 727,\n",
       "       728, 729, 730, 731, 732, 733, 734, 735, 736, 737, 738, 739, 740,\n",
       "       741, 742, 743, 744, 745, 746, 747, 748, 749, 750, 751, 752, 753,\n",
       "       754, 755, 756, 757, 758, 759, 760, 761, 762, 763, 764, 765, 766,\n",
       "       767, 768, 769, 770, 771, 772, 773, 774, 775, 776, 777, 778, 779,\n",
       "       780, 781, 782, 783, 784, 785, 786, 787, 788, 789, 790, 791, 792,\n",
       "       793, 794, 795, 796, 797, 798, 799, 800, 801, 802, 803, 804, 805,\n",
       "       806, 807, 808, 809, 810, 811, 812, 813, 814, 815, 816, 817, 818,\n",
       "       819, 820, 821, 822, 823, 824, 825, 826, 827, 828, 829, 830, 831,\n",
       "       832, 833, 834, 835, 836, 837, 838, 839, 840, 841, 842, 843, 844,\n",
       "       845, 846, 847, 848, 849, 850, 851, 852, 853, 854, 855, 856, 857,\n",
       "       858, 859, 860, 861, 862, 863, 864, 865, 866, 867, 868, 869, 870,\n",
       "       871, 872, 873, 874, 875, 876, 877, 878, 879, 880, 881, 882, 883,\n",
       "       884, 885, 886, 887, 888, 889, 890, 891, 892, 893, 894, 895, 896,\n",
       "       897, 898, 899, 900, 901, 902, 903, 904, 905, 906, 907, 908, 909,\n",
       "       910, 911, 912, 913, 914, 915, 916, 917, 918, 919, 920, 921, 922,\n",
       "       923, 924, 925, 926, 927, 928, 929, 930, 931, 932, 933, 934, 935,\n",
       "       936, 937, 938, 939, 940, 941, 942, 943, 944, 945, 946, 947, 948,\n",
       "       949, 950, 951, 952, 953, 954, 955, 956, 957, 958, 959, 960, 961,\n",
       "       962, 963, 964, 965, 966, 967, 968, 969, 970, 971, 972, 973, 974,\n",
       "       975, 976, 977, 978, 979, 980, 981, 982, 983, 984, 985, 986, 987,\n",
       "       988, 989, 990, 991, 992, 993, 994, 995, 996, 997, 998, 999])"
      ]
     },
     "execution_count": 77,
     "metadata": {},
     "output_type": "execute_result"
    }
   ],
   "source": [
    "# \n",
    "np.random.seed(0)\n",
    "\n",
    "data_x = np.arange(1000)\n",
    "print(type(data_x))\n",
    "data_x"
   ]
  },
  {
   "cell_type": "code",
   "execution_count": 78,
   "metadata": {},
   "outputs": [
    {
     "name": "stdout",
     "output_type": "stream",
     "text": [
      "<class 'numpy.ndarray'>\n"
     ]
    },
    {
     "data": {
      "text/plain": [
       "array([ 1.764e+00,  4.002e-01,  9.787e-01,  2.241e+00,  1.868e+00,\n",
       "       -9.773e-01,  9.501e-01, -1.514e-01, -1.032e-01,  4.106e-01,\n",
       "        1.440e-01,  1.454e+00,  7.610e-01,  1.217e-01,  4.439e-01,\n",
       "        3.337e-01,  1.494e+00, -2.052e-01,  3.131e-01, -8.541e-01,\n",
       "       -2.553e+00,  6.536e-01,  8.644e-01, -7.422e-01,  2.270e+00,\n",
       "       -1.454e+00,  4.576e-02, -1.872e-01,  1.533e+00,  1.469e+00,\n",
       "        1.549e-01,  3.782e-01, -8.878e-01, -1.981e+00, -3.479e-01,\n",
       "        1.563e-01,  1.230e+00,  1.202e+00, -3.873e-01, -3.023e-01,\n",
       "       -1.049e+00, -1.420e+00, -1.706e+00,  1.951e+00, -5.097e-01,\n",
       "       -4.381e-01, -1.253e+00,  7.775e-01, -1.614e+00, -2.127e-01,\n",
       "       -8.955e-01,  3.869e-01, -5.108e-01, -1.181e+00, -2.818e-02,\n",
       "        4.283e-01,  6.652e-02,  3.025e-01, -6.343e-01, -3.627e-01,\n",
       "       -6.725e-01, -3.596e-01, -8.131e-01, -1.726e+00,  1.774e-01,\n",
       "       -4.018e-01, -1.630e+00,  4.628e-01, -9.073e-01,  5.195e-02,\n",
       "        7.291e-01,  1.290e-01,  1.139e+00, -1.235e+00,  4.023e-01,\n",
       "       -6.848e-01, -8.708e-01, -5.788e-01, -3.116e-01,  5.617e-02,\n",
       "       -1.165e+00,  9.008e-01,  4.657e-01, -1.536e+00,  1.488e+00,\n",
       "        1.896e+00,  1.179e+00, -1.799e-01, -1.071e+00,  1.054e+00,\n",
       "       -4.032e-01,  1.222e+00,  2.083e-01,  9.766e-01,  3.564e-01,\n",
       "        7.066e-01,  1.050e-02,  1.786e+00,  1.269e-01,  4.020e-01,\n",
       "        1.883e+00, -1.348e+00, -1.270e+00,  9.694e-01, -1.173e+00,\n",
       "        1.944e+00, -4.136e-01, -7.475e-01,  1.923e+00,  1.481e+00,\n",
       "        1.868e+00,  9.060e-01, -8.612e-01,  1.910e+00, -2.680e-01,\n",
       "        8.025e-01,  9.473e-01, -1.550e-01,  6.141e-01,  9.222e-01,\n",
       "        3.764e-01, -1.099e+00,  2.982e-01,  1.326e+00, -6.946e-01,\n",
       "       -1.496e-01, -4.352e-01,  1.849e+00,  6.723e-01,  4.075e-01,\n",
       "       -7.699e-01,  5.392e-01, -6.743e-01,  3.183e-02, -6.358e-01,\n",
       "        6.764e-01,  5.766e-01, -2.083e-01,  3.960e-01, -1.093e+00,\n",
       "       -1.491e+00,  4.394e-01,  1.667e-01,  6.350e-01,  2.383e+00,\n",
       "        9.445e-01, -9.128e-01,  1.117e+00, -1.316e+00, -4.616e-01,\n",
       "       -6.824e-02,  1.713e+00, -7.448e-01, -8.264e-01, -9.845e-02,\n",
       "       -6.635e-01,  1.127e+00, -1.080e+00, -1.147e+00, -4.378e-01,\n",
       "       -4.980e-01,  1.930e+00,  9.494e-01,  8.755e-02, -1.225e+00,\n",
       "        8.444e-01, -1.000e+00, -1.545e+00,  1.188e+00,  3.169e-01,\n",
       "        9.209e-01,  3.187e-01,  8.568e-01, -6.510e-01, -1.034e+00,\n",
       "        6.816e-01, -8.034e-01, -6.895e-01, -4.555e-01,  1.748e-02,\n",
       "       -3.540e-01, -1.375e+00, -6.436e-01, -2.223e+00,  6.252e-01,\n",
       "       -1.602e+00, -1.104e+00,  5.217e-02, -7.396e-01,  1.543e+00,\n",
       "       -1.293e+00,  2.671e-01, -3.928e-02, -1.168e+00,  5.233e-01,\n",
       "       -1.715e-01,  7.718e-01,  8.235e-01,  2.163e+00,  1.337e+00,\n",
       "       -3.692e-01, -2.394e-01,  1.100e+00,  6.553e-01,  6.401e-01,\n",
       "       -1.617e+00, -2.433e-02, -7.380e-01,  2.799e-01, -9.815e-02,\n",
       "        9.102e-01,  3.172e-01,  7.863e-01, -4.664e-01, -9.444e-01,\n",
       "       -4.100e-01, -1.702e-02,  3.792e-01,  2.259e+00, -4.226e-02,\n",
       "       -9.559e-01, -3.460e-01, -4.636e-01,  4.815e-01, -1.541e+00,\n",
       "        6.326e-02,  1.565e-01,  2.322e-01, -5.973e-01, -2.379e-01,\n",
       "       -1.424e+00, -4.933e-01, -5.429e-01,  4.161e-01, -1.156e+00,\n",
       "        7.812e-01,  1.494e+00, -2.070e+00,  4.263e-01,  6.769e-01,\n",
       "       -6.374e-01, -3.973e-01, -1.329e-01, -2.978e-01, -3.090e-01,\n",
       "       -1.676e+00,  1.152e+00,  1.080e+00, -8.134e-01, -1.466e+00,\n",
       "        5.211e-01, -5.758e-01,  1.420e-01, -3.193e-01,  6.915e-01,\n",
       "        6.947e-01, -7.256e-01, -1.383e+00, -1.583e+00,  6.104e-01,\n",
       "       -1.189e+00, -5.068e-01, -5.963e-01, -5.257e-02, -1.936e+00,\n",
       "        1.888e-01,  5.239e-01,  8.842e-02, -3.109e-01,  9.740e-02,\n",
       "        3.990e-01, -2.773e+00,  1.956e+00,  3.901e-01, -6.524e-01,\n",
       "       -3.910e-01,  4.937e-01, -1.161e-01, -2.031e+00,  2.064e+00,\n",
       "       -1.105e-01,  1.020e+00, -6.920e-01,  1.536e+00,  2.863e-01,\n",
       "        6.088e-01, -1.045e+00,  1.211e+00,  6.898e-01,  1.302e+00,\n",
       "       -6.281e-01, -4.810e-01,  2.304e+00, -1.060e+00, -1.359e-01,\n",
       "        1.137e+00,  9.772e-02,  5.830e-01, -3.994e-01,  3.701e-01,\n",
       "       -1.307e+00,  1.658e+00, -1.182e-01, -6.802e-01,  6.664e-01,\n",
       "       -4.607e-01, -1.334e+00, -1.347e+00,  6.938e-01, -1.596e-01,\n",
       "       -1.337e-01,  1.078e+00, -1.127e+00, -7.307e-01, -3.849e-01,\n",
       "        9.435e-02, -4.217e-02, -2.869e-01, -6.163e-02, -1.073e-01,\n",
       "       -7.196e-01, -8.130e-01,  2.745e-01, -8.909e-01, -1.157e+00,\n",
       "       -3.123e-01, -1.577e-01,  2.257e+00, -7.047e-01,  9.433e-01,\n",
       "        7.472e-01, -1.189e+00,  7.733e-01, -1.184e+00, -2.659e+00,\n",
       "        6.063e-01, -1.756e+00,  4.509e-01, -6.840e-01,  1.660e+00,\n",
       "        1.069e+00, -4.534e-01, -6.878e-01, -1.214e+00, -4.409e-01,\n",
       "       -2.804e-01, -3.647e-01,  1.567e-01,  5.785e-01,  3.497e-01,\n",
       "       -7.641e-01, -1.438e+00,  1.365e+00, -6.894e-01, -6.523e-01,\n",
       "       -5.212e-01, -1.843e+00, -4.780e-01, -4.797e-01,  6.204e-01,\n",
       "        6.985e-01,  3.771e-03,  9.318e-01,  3.400e-01, -1.568e-02,\n",
       "        1.609e-01, -1.907e-01, -3.948e-01, -2.677e-01, -1.128e+00,\n",
       "        2.804e-01, -9.931e-01,  8.416e-01, -2.495e-01,  4.949e-02,\n",
       "        4.938e-01,  6.433e-01, -1.571e+00, -2.069e-01,  8.802e-01,\n",
       "       -1.698e+00,  3.873e-01, -2.256e+00, -1.023e+00,  3.863e-02,\n",
       "       -1.657e+00, -9.855e-01, -1.472e+00,  1.648e+00,  1.642e-01,\n",
       "        5.673e-01, -2.227e-01, -3.534e-01, -1.616e+00, -2.918e-01,\n",
       "       -7.615e-01,  8.579e-01,  1.141e+00,  1.467e+00,  8.526e-01,\n",
       "       -5.987e-01, -1.116e+00,  7.667e-01,  3.563e-01, -1.769e+00,\n",
       "        3.555e-01,  8.145e-01,  5.893e-02, -1.851e-01, -8.076e-01,\n",
       "       -1.447e+00,  8.003e-01, -3.091e-01, -2.335e-01,  1.733e+00,\n",
       "        6.845e-01,  3.708e-01,  1.421e-01,  1.520e+00,  1.720e+00,\n",
       "        9.295e-01,  5.822e-01, -2.095e+00,  1.237e-01, -1.301e-01,\n",
       "        9.395e-02,  9.430e-01, -2.740e+00, -5.693e-01,  2.699e-01,\n",
       "       -4.668e-01, -1.417e+00,  8.690e-01,  2.769e-01, -9.711e-01,\n",
       "        3.148e-01,  8.216e-01,  5.293e-03,  8.006e-01,  7.826e-02,\n",
       "       -3.952e-01, -1.159e+00, -8.593e-02,  1.943e-01,  8.758e-01,\n",
       "       -1.151e-01,  4.574e-01, -9.646e-01, -7.826e-01, -1.104e-01,\n",
       "       -1.055e+00,  8.202e-01,  4.631e-01,  2.791e-01,  3.389e-01,\n",
       "        2.021e+00, -4.689e-01, -2.201e+00,  1.993e-01, -5.060e-02,\n",
       "       -5.175e-01, -9.788e-01, -4.392e-01,  1.813e-01, -5.028e-01,\n",
       "        2.412e+00, -9.605e-01, -7.931e-01, -2.289e+00,  2.515e-01,\n",
       "       -2.016e+00, -5.395e-01, -2.757e-01, -7.097e-01,  1.739e+00,\n",
       "        9.944e-01,  1.319e+00, -8.824e-01,  1.129e+00,  4.960e-01,\n",
       "        7.714e-01,  1.029e+00, -9.088e-01, -4.243e-01,  8.626e-01,\n",
       "       -2.656e+00,  1.513e+00,  5.531e-01, -4.570e-02,  2.205e-01,\n",
       "       -1.030e+00, -3.499e-01,  1.100e+00,  1.298e+00,  2.696e+00,\n",
       "       -7.392e-02, -6.586e-01, -5.142e-01, -1.018e+00, -7.785e-02,\n",
       "        3.827e-01, -3.424e-02,  1.096e+00, -2.342e-01, -3.475e-01,\n",
       "       -5.813e-01, -1.633e+00, -1.568e+00, -1.179e+00,  1.301e+00,\n",
       "        8.953e-01,  1.375e+00, -1.332e+00, -1.969e+00, -6.601e-01,\n",
       "        1.758e-01,  4.987e-01,  1.048e+00,  2.843e-01,  1.743e+00,\n",
       "       -2.226e-01, -9.131e-01, -1.681e+00, -8.890e-01,  2.421e-01,\n",
       "       -8.887e-01,  9.367e-01,  1.412e+00, -2.370e+00,  8.641e-01,\n",
       "       -2.240e+00,  4.015e-01,  1.225e+00,  6.486e-02, -1.280e+00,\n",
       "       -5.854e-01, -2.616e-01, -1.822e-01, -2.029e-01, -1.099e-01,\n",
       "        2.135e-01, -1.209e+00, -2.420e-01,  1.518e+00, -3.846e-01,\n",
       "       -4.438e-01,  1.078e+00, -2.559e+00,  1.181e+00, -6.319e-01,\n",
       "        1.639e-01,  9.632e-02,  9.425e-01, -2.676e-01, -6.780e-01,\n",
       "        1.298e+00, -2.364e+00,  2.033e-02, -1.348e+00, -7.616e-01,\n",
       "        2.011e+00, -4.460e-02,  1.951e-01, -1.782e+00, -7.290e-01,\n",
       "        1.966e-01,  3.548e-01,  6.169e-01,  8.628e-03,  5.270e-01,\n",
       "        4.538e-01, -1.830e+00,  3.701e-02,  7.679e-01,  5.899e-01,\n",
       "       -3.639e-01, -8.056e-01, -1.118e+00, -1.311e-01,  1.133e+00,\n",
       "       -1.952e+00, -6.599e-01, -1.140e+00,  7.850e-01, -5.543e-01,\n",
       "       -4.706e-01, -2.169e-01,  4.454e-01, -3.924e-01, -3.046e+00,\n",
       "        5.433e-01,  4.390e-01, -2.195e-01, -1.084e+00,  3.518e-01,\n",
       "        3.792e-01, -4.700e-01, -2.167e-01, -9.302e-01, -1.786e-01,\n",
       "       -1.550e+00,  4.173e-01, -9.444e-01,  2.381e-01, -1.406e+00,\n",
       "       -5.901e-01, -1.105e-01, -1.661e+00,  1.151e-01, -3.791e-01,\n",
       "       -1.742e+00, -1.303e+00,  6.051e-01,  8.956e-01, -1.319e-01,\n",
       "        4.048e-01,  2.238e-01,  3.296e-01,  1.286e+00, -1.507e+00,\n",
       "        6.765e-01, -3.820e-01, -2.243e-01, -3.022e-01, -3.751e-01,\n",
       "       -1.226e+00,  1.833e-01,  1.671e+00, -5.613e-02, -1.385e-03,\n",
       "       -6.873e-01, -1.175e-01,  4.662e-01, -3.702e-01, -4.538e-01,\n",
       "        4.033e-01, -9.180e-01,  2.525e-01,  8.203e-01,  1.360e+00,\n",
       "       -9.038e-02,  1.368e+00,  1.034e+00, -9.962e-01, -1.218e+00,\n",
       "       -3.050e-01,  1.029e+00, -7.229e-02, -6.007e-01,  1.552e+00,\n",
       "        2.869e-01, -2.321e+00,  3.172e-01,  5.200e-01,  2.256e-01,\n",
       "        4.497e-01, -6.728e-02, -1.318e+00, -3.707e-01, -9.456e-01,\n",
       "       -9.327e-01, -1.263e+00,  4.525e-01,  9.790e-02, -4.482e-01,\n",
       "       -6.493e-01, -2.342e-02,  1.079e+00, -2.004e+00,  3.769e-01,\n",
       "       -5.457e-01, -1.885e+00, -1.946e+00, -9.128e-01,  2.195e-01,\n",
       "        3.931e-01, -9.390e-01,  1.017e+00,  1.423e+00,  3.961e-01,\n",
       "       -5.914e-01,  1.124e+00,  7.554e-01,  8.674e-01, -6.565e-01,\n",
       "       -2.835e+00,  2.117e+00, -1.611e+00, -3.577e-02,  2.381e+00,\n",
       "        3.306e-01,  9.492e-01, -1.502e+00, -1.778e+00, -5.327e-01,\n",
       "        1.091e+00, -3.462e-01, -7.946e-01,  1.980e-01,  1.082e+00,\n",
       "       -1.445e+00, -1.211e+00, -7.887e-01,  1.095e+00,  2.348e-01,\n",
       "        2.132e+00,  9.364e-01, -3.510e-02,  1.265e+00,  2.115e-01,\n",
       "       -7.049e-01,  6.800e-01, -6.963e-01, -2.904e-01,  1.328e+00,\n",
       "       -1.013e-01, -8.031e-01, -4.643e-01,  1.022e+00, -5.525e-01,\n",
       "       -3.869e-01, -5.103e-01,  1.839e-01, -3.855e-01, -1.602e+00,\n",
       "       -8.872e-01, -9.328e-01,  1.243e+00,  8.127e-01,  5.873e-01,\n",
       "       -5.054e-01, -8.158e-01, -5.075e-01, -1.052e+00,  2.497e+00,\n",
       "       -2.245e+00,  5.640e-01, -1.285e+00, -1.043e-01, -9.880e-01,\n",
       "       -1.178e+00, -1.140e+00,  1.755e+00, -1.330e-01, -7.657e-01,\n",
       "        5.558e-01,  1.035e-02,  7.200e-01, -1.824e+00,  3.036e-01,\n",
       "        7.727e-01, -1.662e+00,  4.482e-01,  1.696e+00, -1.486e-02,\n",
       "        8.214e-01,  6.706e-01, -7.075e-01,  3.977e-02, -1.567e+00,\n",
       "       -4.513e-01,  2.657e-01,  7.231e-01,  2.461e-02,  7.200e-01,\n",
       "       -1.103e+00, -1.017e-01,  1.928e-02,  1.850e+00, -2.142e-01,\n",
       "       -4.990e-01,  2.135e-02, -9.191e-01,  1.928e-01, -3.651e-01,\n",
       "       -1.791e+00, -5.859e-02, -3.175e-01, -1.632e+00, -6.713e-02,\n",
       "        1.489e+00,  5.213e-01,  6.119e-01, -1.341e+00,  4.769e-01,\n",
       "        1.484e-01,  5.290e-01,  4.226e-01, -1.360e+00, -4.140e-02,\n",
       "       -7.579e-01, -5.008e-02, -8.974e-01,  1.312e+00, -8.590e-01,\n",
       "       -8.989e-01,  7.459e-02, -1.077e+00, -4.247e-01, -8.300e-01,\n",
       "        1.411e+00,  7.858e-01, -5.747e-02, -3.912e-01,  9.409e-01,\n",
       "        4.052e-01,  4.981e-01, -2.619e-02, -1.688e+00, -1.125e-01,\n",
       "       -5.325e-01,  6.451e-01,  1.012e+00, -6.580e-01,  4.684e-01,\n",
       "        1.736e+00, -6.677e-01,  1.682e+00, -8.526e-01,  2.296e-02,\n",
       "       -1.115e-02,  1.150e-02, -8.377e-01, -5.912e-01, -6.677e-01,\n",
       "        3.270e-01,  3.300e-01,  2.226e+00,  1.371e+00, -5.098e-01,\n",
       "        3.249e-01,  9.971e-01,  3.060e-02, -6.964e-02,  5.157e-02,\n",
       "        8.673e-01, -8.483e-01, -3.257e-01,  4.704e-01,  3.114e-01,\n",
       "        2.396e-01, -3.698e-01,  9.725e-01,  2.134e+00,  4.064e-01,\n",
       "       -1.932e-01,  7.557e-01, -5.391e-01, -7.497e-01,  3.281e-02,\n",
       "       -2.583e+00, -1.154e+00, -3.480e-01, -1.353e+00, -1.033e+00,\n",
       "       -4.367e-01, -1.643e+00, -4.061e-01, -5.353e-01,  2.541e-02,\n",
       "        1.154e+00,  1.725e-01,  2.106e-02,  9.945e-02,  2.274e-01,\n",
       "       -1.017e+00, -1.148e-01,  3.088e-01, -1.371e+00,  8.657e-01,\n",
       "        1.081e+00, -6.314e-01, -2.413e-01, -8.782e-01,  6.994e-01,\n",
       "       -1.061e+00, -2.225e-01, -8.589e-01,  5.095e-02, -1.794e+00,\n",
       "        1.326e+00, -9.646e-01,  5.989e-02, -2.125e-01, -7.621e-01,\n",
       "       -8.878e-01,  9.364e-01, -5.256e-01,  2.712e-01, -8.015e-01,\n",
       "       -6.472e-01,  4.722e-01,  9.304e-01, -1.753e-01, -1.422e+00,\n",
       "        1.998e+00, -8.565e-01, -1.542e+00,  2.594e+00, -4.040e-01,\n",
       "       -1.462e+00, -6.834e-01,  3.675e-01,  1.903e-01, -8.517e-01,\n",
       "        1.823e+00, -5.216e-01, -1.185e+00,  9.607e-01,  1.329e+00,\n",
       "       -8.175e-01, -1.401e+00,  1.030e+00, -2.047e+00, -1.227e+00,\n",
       "        9.674e-01, -5.535e-02, -2.639e-01,  3.528e-01, -1.528e-01,\n",
       "       -1.299e+00,  1.276e+00,  1.325e+00,  2.053e-01,  4.513e-02,\n",
       "        2.340e+00, -2.764e-01, -2.596e-01,  3.645e-01,  1.471e+00,\n",
       "        1.593e+00, -2.586e-01,  3.083e-01, -1.378e+00, -3.120e-01,\n",
       "       -8.403e-01, -1.007e+00,  1.682e+00, -7.923e-01, -5.316e-01,\n",
       "        3.658e-01,  1.298e+00,  4.811e-01,  2.759e+00, -7.467e-02,\n",
       "        2.587e-01,  2.756e-01,  1.435e+00,  5.072e-01, -1.162e-01,\n",
       "       -9.475e-01,  2.444e-01,  1.401e+00, -4.104e-01,  5.289e-01,\n",
       "        2.461e-01,  8.635e-01, -8.048e-01,  2.347e+00, -1.279e+00,\n",
       "       -3.656e-01,  9.381e-01,  2.967e-01,  8.300e-01, -4.961e-01,\n",
       "       -7.480e-02,  1.223e-02,  1.569e+00,  6.904e-01,  7.967e-01,\n",
       "       -6.579e-01,  9.689e-01,  2.256e-01,  1.389e+00,  2.014e+00,\n",
       "       -3.068e-01, -4.063e-01, -8.640e-01, -1.436e-01, -3.820e-01,\n",
       "        3.595e-01, -1.446e-01, -3.616e-01,  1.065e+00, -9.379e-01,\n",
       "        4.331e-01, -4.059e-01,  7.244e-01,  1.385e+00, -3.031e-01,\n",
       "        4.410e-01,  1.788e-01, -7.994e-01,  2.408e-01,  2.891e-01,\n",
       "        4.129e-01, -1.984e-01,  9.419e-02, -1.148e+00, -3.581e-01])"
      ]
     },
     "execution_count": 78,
     "metadata": {},
     "output_type": "execute_result"
    }
   ],
   "source": [
    "data_y = np.random.randn(1000)\n",
    "print(type(data_y))\n",
    "data_y"
   ]
  },
  {
   "cell_type": "code",
   "execution_count": 79,
   "metadata": {},
   "outputs": [],
   "source": [
    "data_y = data_y.cumsum()"
   ]
  },
  {
   "cell_type": "code",
   "execution_count": 80,
   "metadata": {},
   "outputs": [
    {
     "data": {
      "image/png": "[encoded data removed]",
      "text/plain": [
       "<Figure size 432x288 with 1 Axes>"
      ]
     },
     "metadata": {
      "needs_background": "light"
     },
     "output_type": "display_data"
    }
   ],
   "source": [
    "plt.plot(data_x, data_y, label='label')\n",
    "plt.legend()\n",
    "plt.xlabel('X')\n",
    "plt.ylabel('Y')\n",
    "plt.grid(True)"
   ]
  },
  {
   "cell_type": "code",
   "execution_count": 81,
   "metadata": {},
   "outputs": [
    {
     "data": {
      "text/plain": [
       "array([-10.   ,  -9.798,  -9.596,  -9.394,  -9.192,  -8.99 ,  -8.788,\n",
       "        -8.586,  -8.384,  -8.182,  -7.98 ,  -7.778,  -7.576,  -7.374,\n",
       "        -7.172,  -6.97 ,  -6.768,  -6.566,  -6.364,  -6.162,  -5.96 ,\n",
       "        -5.758,  -5.556,  -5.354,  -5.152,  -4.949,  -4.747,  -4.545,\n",
       "        -4.343,  -4.141,  -3.939,  -3.737,  -3.535,  -3.333,  -3.131,\n",
       "        -2.929,  -2.727,  -2.525,  -2.323,  -2.121,  -1.919,  -1.717,\n",
       "        -1.515,  -1.313,  -1.111,  -0.909,  -0.707,  -0.505,  -0.303,\n",
       "        -0.101,   0.101,   0.303,   0.505,   0.707,   0.909,   1.111,\n",
       "         1.313,   1.515,   1.717,   1.919,   2.121,   2.323,   2.525,\n",
       "         2.727,   2.929,   3.131,   3.333,   3.535,   3.737,   3.939,\n",
       "         4.141,   4.343,   4.545,   4.747,   4.949,   5.152,   5.354,\n",
       "         5.556,   5.758,   5.96 ,   6.162,   6.364,   6.566,   6.768,\n",
       "         6.97 ,   7.172,   7.374,   7.576,   7.778,   7.98 ,   8.182,\n",
       "         8.384,   8.586,   8.788,   8.99 ,   9.192,   9.394,   9.596,\n",
       "         9.798,  10.   ])"
      ]
     },
     "execution_count": 81,
     "metadata": {},
     "output_type": "execute_result"
    }
   ],
   "source": [
    "# subplot\n",
    "x = np.linspace(-10, 10, 100)\n",
    "x"
   ]
  },
  {
   "cell_type": "code",
   "execution_count": 82,
   "metadata": {},
   "outputs": [
    {
     "data": {
      "image/png": "[encoded data removed]",
      "text/plain": [
       "<Figure size 432x288 with 2 Axes>"
      ]
     },
     "metadata": {
      "needs_background": "light"
     },
     "output_type": "display_data"
    }
   ],
   "source": [
    "# 2 rows, 1 column, the first graph\n",
    "plt.subplot(2,1,1)\n",
    "x = np.linspace(-10, 10, 100)\n",
    "plt.plot(x, np.sin(x))\n",
    "\n",
    "# 2 rows, 1 column, the second graph\n",
    "plt.subplot(2,1,2)\n",
    "plt.plot(x, np.sin(x*2))\n",
    "\n",
    "plt.grid(True)"
   ]
  },
  {
   "cell_type": "code",
   "execution_count": 83,
   "metadata": {},
   "outputs": [
    {
     "data": {
      "text/plain": [
       "array([-10,  -9,  -8,  -7,  -6,  -5,  -4,  -3,  -2,  -1,   0,   1,   2,\n",
       "         3,   4,   5,   6,   7,   8,   9])"
      ]
     },
     "execution_count": 83,
     "metadata": {},
     "output_type": "execute_result"
    }
   ],
   "source": [
    "x = np.arange(-10, 10)\n",
    "x"
   ]
  },
  {
   "cell_type": "code",
   "execution_count": 84,
   "metadata": {},
   "outputs": [
    {
     "data": {
      "image/png": "[encoded data removed]",
      "text/plain": [
       "<Figure size 432x288 with 1 Axes>"
      ]
     },
     "metadata": {
      "needs_background": "light"
     },
     "output_type": "display_data"
    }
   ],
   "source": [
    "plt.plot(x, x**2)\n",
    "plt.grid(True)"
   ]
  },
  {
   "cell_type": "code",
   "execution_count": 85,
   "metadata": {},
   "outputs": [],
   "source": [
    "# how to see help\n",
    "?plt.hist"
   ]
  },
  {
   "cell_type": "code",
   "execution_count": 86,
   "metadata": {},
   "outputs": [
    {
     "name": "stdout",
     "output_type": "stream",
     "text": [
      "<class 'numpy.ndarray'>\n",
      "[ 1.764  0.4    0.979  2.241  1.868 -0.977  0.95  -0.151 -0.103  0.411]\n"
     ]
    },
    {
     "data": {
      "image/png": "[encoded data removed]",
      "text/plain": [
       "<Figure size 432x288 with 1 Axes>"
      ]
     },
     "metadata": {
      "needs_background": "light"
     },
     "output_type": "display_data"
    }
   ],
   "source": [
    "# histogram \n",
    "random.seed(0)\n",
    "x = np.random.randn(10)\n",
    "print(type(x))\n",
    "print(x)\n",
    "plt.hist(x, bins=20, range=(-10,10))\n",
    "\n",
    "plt.grid(True)"
   ]
  },
  {
   "cell_type": "code",
   "execution_count": 87,
   "metadata": {},
   "outputs": [
    {
     "data": {
      "image/png": "[encoded data removed]",
      "text/plain": [
       "<Figure size 720x432 with 1 Axes>"
      ]
     },
     "metadata": {
      "needs_background": "light"
     },
     "output_type": "display_data"
    }
   ],
   "source": [
    "# x = np.random.randn(10**3)\n",
    "x = np.random.randn(10**6)\n",
    "plt.figure(figsize=(10, 6))\n",
    "plt.hist(x*10, bins=100, range=(-50,50))\n",
    "plt.grid(True)"
   ]
  },
  {
   "cell_type": "code",
   "execution_count": 88,
   "metadata": {},
   "outputs": [],
   "source": [
    "attri_data4 = {'ID':['1','2','3','4','5'], \n",
    "               'gender':['F','F','M','F','F'], \n",
    "               'gold':[10,20,50,30,70], \n",
    "               'abc':['s','h','k','ka','ma']}\n",
    "\n",
    "attri_data_frame4 = DataFrame(attri_data4)"
   ]
  },
  {
   "cell_type": "code",
   "execution_count": 89,
   "metadata": {},
   "outputs": [
    {
     "data": {
      "text/html": [
       "<div>\n",
       "<style scoped>\n",
       "    .dataframe tbody tr th:only-of-type {\n",
       "        vertical-align: middle;\n",
       "    }\n",
       "\n",
       "    .dataframe tbody tr th {\n",
       "        vertical-align: top;\n",
       "    }\n",
       "\n",
       "    .dataframe thead th {\n",
       "        text-align: right;\n",
       "    }\n",
       "</style>\n",
       "<table border=\"1\" class=\"dataframe\">\n",
       "  <thead>\n",
       "    <tr style=\"text-align: right;\">\n",
       "      <th></th>\n",
       "      <th>ID</th>\n",
       "      <th>Money</th>\n",
       "      <th>gender</th>\n",
       "      <th>name</th>\n",
       "    </tr>\n",
       "  </thead>\n",
       "  <tbody>\n",
       "    <tr>\n",
       "      <th>0</th>\n",
       "      <td>1</td>\n",
       "      <td>1000</td>\n",
       "      <td>F</td>\n",
       "      <td>Saito</td>\n",
       "    </tr>\n",
       "    <tr>\n",
       "      <th>1</th>\n",
       "      <td>2</td>\n",
       "      <td>2000</td>\n",
       "      <td>F</td>\n",
       "      <td>Horie</td>\n",
       "    </tr>\n",
       "    <tr>\n",
       "      <th>2</th>\n",
       "      <td>3</td>\n",
       "      <td>500</td>\n",
       "      <td>M</td>\n",
       "      <td>Kondo</td>\n",
       "    </tr>\n",
       "    <tr>\n",
       "      <th>3</th>\n",
       "      <td>4</td>\n",
       "      <td>300</td>\n",
       "      <td>M</td>\n",
       "      <td>Kawada</td>\n",
       "    </tr>\n",
       "    <tr>\n",
       "      <th>4</th>\n",
       "      <td>5</td>\n",
       "      <td>700</td>\n",
       "      <td>F</td>\n",
       "      <td>Matsubara</td>\n",
       "    </tr>\n",
       "  </tbody>\n",
       "</table>\n",
       "</div>"
      ],
      "text/plain": [
       "  ID  Money gender       name\n",
       "0  1   1000      F      Saito\n",
       "1  2   2000      F      Horie\n",
       "2  3    500      M      Kondo\n",
       "3  4    300      M     Kawada\n",
       "4  5    700      F  Matsubara"
      ]
     },
     "execution_count": 89,
     "metadata": {},
     "output_type": "execute_result"
    }
   ],
   "source": [
    "attri_data_frame1"
   ]
  },
  {
   "cell_type": "code",
   "execution_count": 90,
   "metadata": {},
   "outputs": [
    {
     "data": {
      "text/html": [
       "<div>\n",
       "<style scoped>\n",
       "    .dataframe tbody tr th:only-of-type {\n",
       "        vertical-align: middle;\n",
       "    }\n",
       "\n",
       "    .dataframe tbody tr th {\n",
       "        vertical-align: top;\n",
       "    }\n",
       "\n",
       "    .dataframe thead th {\n",
       "        text-align: right;\n",
       "    }\n",
       "</style>\n",
       "<table border=\"1\" class=\"dataframe\">\n",
       "  <thead>\n",
       "    <tr style=\"text-align: right;\">\n",
       "      <th></th>\n",
       "      <th>ID</th>\n",
       "      <th>abc</th>\n",
       "      <th>gender</th>\n",
       "      <th>gold</th>\n",
       "    </tr>\n",
       "  </thead>\n",
       "  <tbody>\n",
       "    <tr>\n",
       "      <th>0</th>\n",
       "      <td>1</td>\n",
       "      <td>s</td>\n",
       "      <td>F</td>\n",
       "      <td>10</td>\n",
       "    </tr>\n",
       "    <tr>\n",
       "      <th>1</th>\n",
       "      <td>2</td>\n",
       "      <td>h</td>\n",
       "      <td>F</td>\n",
       "      <td>20</td>\n",
       "    </tr>\n",
       "    <tr>\n",
       "      <th>2</th>\n",
       "      <td>3</td>\n",
       "      <td>k</td>\n",
       "      <td>M</td>\n",
       "      <td>50</td>\n",
       "    </tr>\n",
       "    <tr>\n",
       "      <th>3</th>\n",
       "      <td>4</td>\n",
       "      <td>ka</td>\n",
       "      <td>F</td>\n",
       "      <td>30</td>\n",
       "    </tr>\n",
       "    <tr>\n",
       "      <th>4</th>\n",
       "      <td>5</td>\n",
       "      <td>ma</td>\n",
       "      <td>F</td>\n",
       "      <td>70</td>\n",
       "    </tr>\n",
       "  </tbody>\n",
       "</table>\n",
       "</div>"
      ],
      "text/plain": [
       "  ID abc gender  gold\n",
       "0  1   s      F    10\n",
       "1  2   h      F    20\n",
       "2  3   k      M    50\n",
       "3  4  ka      F    30\n",
       "4  5  ma      F    70"
      ]
     },
     "execution_count": 90,
     "metadata": {},
     "output_type": "execute_result"
    }
   ],
   "source": [
    "attri_data_frame4"
   ]
  },
  {
   "cell_type": "code",
   "execution_count": 91,
   "metadata": {
    "scrolled": true
   },
   "outputs": [
    {
     "data": {
      "text/html": [
       "<div>\n",
       "<style scoped>\n",
       "    .dataframe tbody tr th:only-of-type {\n",
       "        vertical-align: middle;\n",
       "    }\n",
       "\n",
       "    .dataframe tbody tr th {\n",
       "        vertical-align: top;\n",
       "    }\n",
       "\n",
       "    .dataframe thead th {\n",
       "        text-align: right;\n",
       "    }\n",
       "</style>\n",
       "<table border=\"1\" class=\"dataframe\">\n",
       "  <thead>\n",
       "    <tr style=\"text-align: right;\">\n",
       "      <th></th>\n",
       "      <th>ID</th>\n",
       "      <th>Money</th>\n",
       "      <th>gender</th>\n",
       "      <th>name</th>\n",
       "      <th>abc</th>\n",
       "      <th>gold</th>\n",
       "    </tr>\n",
       "  </thead>\n",
       "  <tbody>\n",
       "    <tr>\n",
       "      <th>0</th>\n",
       "      <td>1</td>\n",
       "      <td>1000</td>\n",
       "      <td>F</td>\n",
       "      <td>Saito</td>\n",
       "      <td>s</td>\n",
       "      <td>10</td>\n",
       "    </tr>\n",
       "    <tr>\n",
       "      <th>1</th>\n",
       "      <td>2</td>\n",
       "      <td>2000</td>\n",
       "      <td>F</td>\n",
       "      <td>Horie</td>\n",
       "      <td>h</td>\n",
       "      <td>20</td>\n",
       "    </tr>\n",
       "    <tr>\n",
       "      <th>2</th>\n",
       "      <td>3</td>\n",
       "      <td>500</td>\n",
       "      <td>M</td>\n",
       "      <td>Kondo</td>\n",
       "      <td>k</td>\n",
       "      <td>50</td>\n",
       "    </tr>\n",
       "    <tr>\n",
       "      <th>3</th>\n",
       "      <td>5</td>\n",
       "      <td>700</td>\n",
       "      <td>F</td>\n",
       "      <td>Matsubara</td>\n",
       "      <td>ma</td>\n",
       "      <td>70</td>\n",
       "    </tr>\n",
       "  </tbody>\n",
       "</table>\n",
       "</div>"
      ],
      "text/plain": [
       "  ID  Money gender       name abc  gold\n",
       "0  1   1000      F      Saito   s    10\n",
       "1  2   2000      F      Horie   h    20\n",
       "2  3    500      M      Kondo   k    50\n",
       "3  5    700      F  Matsubara  ma    70"
      ]
     },
     "execution_count": 91,
     "metadata": {},
     "output_type": "execute_result"
    }
   ],
   "source": [
    "# Merge\n",
    "\n",
    "#  The keys in the 'on' list should be in both tables. \n",
    "#  Since this is inner join, the row of ID:4 whose gender is different for both tables is removed. \n",
    "pd.merge(attri_data_frame1, \n",
    "         attri_data_frame4, \n",
    "         on=['ID', 'gender'], \n",
    "         suffixes=('_1', '_4'))"
   ]
  },
  {
   "cell_type": "code",
   "execution_count": 93,
   "metadata": {},
   "outputs": [
    {
     "data": {
      "text/html": [
       "<div>\n",
       "<style scoped>\n",
       "    .dataframe tbody tr th:only-of-type {\n",
       "        vertical-align: middle;\n",
       "    }\n",
       "\n",
       "    .dataframe tbody tr th {\n",
       "        vertical-align: top;\n",
       "    }\n",
       "\n",
       "    .dataframe thead th {\n",
       "        text-align: right;\n",
       "    }\n",
       "</style>\n",
       "<table border=\"1\" class=\"dataframe\">\n",
       "  <thead>\n",
       "    <tr style=\"text-align: right;\">\n",
       "      <th></th>\n",
       "      <th>ID</th>\n",
       "      <th>Money</th>\n",
       "      <th>gender</th>\n",
       "      <th>name</th>\n",
       "    </tr>\n",
       "  </thead>\n",
       "  <tbody>\n",
       "    <tr>\n",
       "      <th>0</th>\n",
       "      <td>1</td>\n",
       "      <td>1000</td>\n",
       "      <td>F</td>\n",
       "      <td>Saito</td>\n",
       "    </tr>\n",
       "    <tr>\n",
       "      <th>1</th>\n",
       "      <td>2</td>\n",
       "      <td>2000</td>\n",
       "      <td>F</td>\n",
       "      <td>Horie</td>\n",
       "    </tr>\n",
       "    <tr>\n",
       "      <th>2</th>\n",
       "      <td>3</td>\n",
       "      <td>500</td>\n",
       "      <td>M</td>\n",
       "      <td>Kondo</td>\n",
       "    </tr>\n",
       "    <tr>\n",
       "      <th>3</th>\n",
       "      <td>4</td>\n",
       "      <td>300</td>\n",
       "      <td>M</td>\n",
       "      <td>Kawada</td>\n",
       "    </tr>\n",
       "    <tr>\n",
       "      <th>4</th>\n",
       "      <td>5</td>\n",
       "      <td>700</td>\n",
       "      <td>F</td>\n",
       "      <td>Matsubara</td>\n",
       "    </tr>\n",
       "  </tbody>\n",
       "</table>\n",
       "</div>"
      ],
      "text/plain": [
       "  ID  Money gender       name\n",
       "0  1   1000      F      Saito\n",
       "1  2   2000      F      Horie\n",
       "2  3    500      M      Kondo\n",
       "3  4    300      M     Kawada\n",
       "4  5    700      F  Matsubara"
      ]
     },
     "execution_count": 93,
     "metadata": {},
     "output_type": "execute_result"
    }
   ],
   "source": [
    "attri_data_frame1"
   ]
  },
  {
   "cell_type": "code",
   "execution_count": 94,
   "metadata": {},
   "outputs": [
    {
     "data": {
      "text/html": [
       "<div>\n",
       "<style scoped>\n",
       "    .dataframe tbody tr th:only-of-type {\n",
       "        vertical-align: middle;\n",
       "    }\n",
       "\n",
       "    .dataframe tbody tr th {\n",
       "        vertical-align: top;\n",
       "    }\n",
       "\n",
       "    .dataframe thead th {\n",
       "        text-align: right;\n",
       "    }\n",
       "</style>\n",
       "<table border=\"1\" class=\"dataframe\">\n",
       "  <thead>\n",
       "    <tr style=\"text-align: right;\">\n",
       "      <th></th>\n",
       "      <th>ID</th>\n",
       "      <th>abc</th>\n",
       "      <th>gender</th>\n",
       "      <th>gold</th>\n",
       "    </tr>\n",
       "  </thead>\n",
       "  <tbody>\n",
       "    <tr>\n",
       "      <th>0</th>\n",
       "      <td>1</td>\n",
       "      <td>s</td>\n",
       "      <td>F</td>\n",
       "      <td>10</td>\n",
       "    </tr>\n",
       "    <tr>\n",
       "      <th>1</th>\n",
       "      <td>2</td>\n",
       "      <td>h</td>\n",
       "      <td>F</td>\n",
       "      <td>20</td>\n",
       "    </tr>\n",
       "    <tr>\n",
       "      <th>2</th>\n",
       "      <td>3</td>\n",
       "      <td>k</td>\n",
       "      <td>M</td>\n",
       "      <td>50</td>\n",
       "    </tr>\n",
       "    <tr>\n",
       "      <th>3</th>\n",
       "      <td>4</td>\n",
       "      <td>ka</td>\n",
       "      <td>F</td>\n",
       "      <td>30</td>\n",
       "    </tr>\n",
       "    <tr>\n",
       "      <th>4</th>\n",
       "      <td>5</td>\n",
       "      <td>ma</td>\n",
       "      <td>F</td>\n",
       "      <td>70</td>\n",
       "    </tr>\n",
       "  </tbody>\n",
       "</table>\n",
       "</div>"
      ],
      "text/plain": [
       "  ID abc gender  gold\n",
       "0  1   s      F    10\n",
       "1  2   h      F    20\n",
       "2  3   k      M    50\n",
       "3  4  ka      F    30\n",
       "4  5  ma      F    70"
      ]
     },
     "execution_count": 94,
     "metadata": {},
     "output_type": "execute_result"
    }
   ],
   "source": [
    "attri_data_frame4"
   ]
  },
  {
   "cell_type": "code",
   "execution_count": 96,
   "metadata": {},
   "outputs": [
    {
     "data": {
      "text/html": [
       "<div>\n",
       "<style scoped>\n",
       "    .dataframe tbody tr th:only-of-type {\n",
       "        vertical-align: middle;\n",
       "    }\n",
       "\n",
       "    .dataframe tbody tr th {\n",
       "        vertical-align: top;\n",
       "    }\n",
       "\n",
       "    .dataframe thead th {\n",
       "        text-align: right;\n",
       "    }\n",
       "</style>\n",
       "<table border=\"1\" class=\"dataframe\">\n",
       "  <thead>\n",
       "    <tr style=\"text-align: right;\">\n",
       "      <th></th>\n",
       "      <th>ID</th>\n",
       "      <th>Money</th>\n",
       "      <th>gender_1</th>\n",
       "      <th>name</th>\n",
       "      <th>abc</th>\n",
       "      <th>gender_4</th>\n",
       "      <th>gold</th>\n",
       "    </tr>\n",
       "  </thead>\n",
       "  <tbody>\n",
       "    <tr>\n",
       "      <th>0</th>\n",
       "      <td>1</td>\n",
       "      <td>1000</td>\n",
       "      <td>F</td>\n",
       "      <td>Saito</td>\n",
       "      <td>s</td>\n",
       "      <td>F</td>\n",
       "      <td>10</td>\n",
       "    </tr>\n",
       "    <tr>\n",
       "      <th>1</th>\n",
       "      <td>2</td>\n",
       "      <td>2000</td>\n",
       "      <td>F</td>\n",
       "      <td>Horie</td>\n",
       "      <td>h</td>\n",
       "      <td>F</td>\n",
       "      <td>20</td>\n",
       "    </tr>\n",
       "    <tr>\n",
       "      <th>2</th>\n",
       "      <td>3</td>\n",
       "      <td>500</td>\n",
       "      <td>M</td>\n",
       "      <td>Kondo</td>\n",
       "      <td>k</td>\n",
       "      <td>M</td>\n",
       "      <td>50</td>\n",
       "    </tr>\n",
       "    <tr>\n",
       "      <th>3</th>\n",
       "      <td>4</td>\n",
       "      <td>300</td>\n",
       "      <td>M</td>\n",
       "      <td>Kawada</td>\n",
       "      <td>ka</td>\n",
       "      <td>F</td>\n",
       "      <td>30</td>\n",
       "    </tr>\n",
       "    <tr>\n",
       "      <th>4</th>\n",
       "      <td>5</td>\n",
       "      <td>700</td>\n",
       "      <td>F</td>\n",
       "      <td>Matsubara</td>\n",
       "      <td>ma</td>\n",
       "      <td>F</td>\n",
       "      <td>70</td>\n",
       "    </tr>\n",
       "  </tbody>\n",
       "</table>\n",
       "</div>"
      ],
      "text/plain": [
       "  ID  Money gender_1       name abc gender_4  gold\n",
       "0  1   1000        F      Saito   s        F    10\n",
       "1  2   2000        F      Horie   h        F    20\n",
       "2  3    500        M      Kondo   k        M    50\n",
       "3  4    300        M     Kawada  ka        F    30\n",
       "4  5    700        F  Matsubara  ma        F    70"
      ]
     },
     "execution_count": 96,
     "metadata": {},
     "output_type": "execute_result"
    }
   ],
   "source": [
    "# The column 'gender' is the same name for both tables, but those are different data because \n",
    "# original sources are different. In this case, suffixes is used for the column names. \n",
    "pd.merge(attri_data_frame1, \n",
    "         attri_data_frame4, \n",
    "         how='left', \n",
    "         on=['ID'], \n",
    "         suffixes=('_1', '_4'))"
   ]
  },
  {
   "cell_type": "code",
   "execution_count": null,
   "metadata": {},
   "outputs": [],
   "source": []
  },
  {
   "cell_type": "code",
   "execution_count": null,
   "metadata": {},
   "outputs": [],
   "source": []
  },
  {
   "cell_type": "code",
   "execution_count": null,
   "metadata": {},
   "outputs": [],
   "source": []
  },
  {
   "cell_type": "code",
   "execution_count": null,
   "metadata": {},
   "outputs": [],
   "source": []
  },
  {
   "cell_type": "code",
   "execution_count": null,
   "metadata": {},
   "outputs": [],
   "source": []
  },
  {
   "cell_type": "code",
   "execution_count": null,
   "metadata": {},
   "outputs": [],
   "source": []
  },
  {
   "cell_type": "code",
   "execution_count": null,
   "metadata": {},
   "outputs": [],
   "source": []
  },
  {
   "cell_type": "code",
   "execution_count": null,
   "metadata": {},
   "outputs": [],
   "source": []
  },
  {
   "cell_type": "code",
   "execution_count": null,
   "metadata": {},
   "outputs": [],
   "source": []
  },
  {
   "cell_type": "code",
   "execution_count": null,
   "metadata": {},
   "outputs": [],
   "source": []
  }
 ],
 "metadata": {
  "kernelspec": {
   "display_name": "Python 3",
   "language": "python",
   "name": "python3"
  },
  "language_info": {
   "codemirror_mode": {
    "name": "ipython",
    "version": 3
   },
   "file_extension": ".py",
   "mimetype": "text/x-python",
   "name": "python",
   "nbconvert_exporter": "python",
   "pygments_lexer": "ipython3",
   "version": "3.7.3"
  }
 },
 "nbformat": 4,
 "nbformat_minor": 1
}
