{
 "cells": [
  {
   "cell_type": "code",
   "execution_count": 1,
   "metadata": {},
   "outputs": [
    {
     "data": {
      "text/plain": [
       "'%.3f'"
      ]
     },
     "execution_count": 1,
     "metadata": {},
     "output_type": "execute_result"
    }
   ],
   "source": [
    "# k-means clustering\n",
    "\n",
    "import numpy as np\n",
    "import numpy.random as random\n",
    "import scipy as sp\n",
    "from pandas import Series, DataFrame\n",
    "import pandas as pd\n",
    "\n",
    "import matplotlib.pyplot as plt\n",
    "import matplotlib as mpl\n",
    "import seaborn as sns\n",
    "%matplotlib inline\n",
    "\n",
    "import sklearn\n",
    "\n",
    "%precision 3"
   ]
  },
  {
   "cell_type": "code",
   "execution_count": 2,
   "metadata": {},
   "outputs": [],
   "source": [
    "from sklearn.cluster import KMeans\n",
    "from sklearn.datasets import make_blobs\n",
    "\n",
    "# Generate data. \n",
    "# X, _ = make_blobs(random_state=10)\n",
    "X, _ = make_blobs(random_state=10,\n",
    "                                  n_samples=100, \n",
    "                                  n_features=2, \n",
    "                                  cluster_std=1.0,\n",
    "                                  centers=3)"
   ]
  },
  {
   "cell_type": "code",
   "execution_count": 3,
   "metadata": {},
   "outputs": [
    {
     "data": {
      "text/plain": [
       "array([-2.325,  0.519,  2.443,  5.827,  2.033,  3.38 ,  6.048, -0.421,\n",
       "        3.781,  5.692,  5.159,  1.165,  2.946,  1.188, -0.317,  4.33 ,\n",
       "        4.29 ,  3.5  ,  5.314,  2.611,  4.887,  1.956,  2.1  ,  1.315,\n",
       "        5.526,  0.817,  2.529,  3.695,  2.377,  5.692,  0.917,  1.447,\n",
       "        2.966,  6.683, -0.436,  0.348,  0.977,  2.457,  2.607,  2.89 ,\n",
       "       -1.741,  5.859, -1.11 ,  0.244,  4.056,  5.559,  5.992,  4.461,\n",
       "       -1.055,  6.911,  3.909,  2.195,  3.449,  6.55 , -0.078,  7.821,\n",
       "        2.624,  0.481,  6.087,  5.064,  2.988,  5.077, -1.153,  0.103,\n",
       "        1.137,  6.555,  5.655,  0.504, -0.363,  0.302,  4.658,  6.735,\n",
       "        2.36 ,  2.234,  0.215,  1.628,  4.013,  0.913,  5.155,  5.431,\n",
       "        5.746,  1.75 ,  4.622,  3.385, -0.743,  2.191, -1.451,  5.087,\n",
       "        1.07 ,  0.431,  5.194,  6.473,  5.345,  0.324, -0.267, -0.737,\n",
       "        2.79 ,  4.487,  6.269,  5.401])"
      ]
     },
     "execution_count": 3,
     "metadata": {},
     "output_type": "execute_result"
    }
   ],
   "source": [
    "# x \n",
    "X[:,0]"
   ]
  },
  {
   "cell_type": "code",
   "execution_count": 4,
   "metadata": {},
   "outputs": [
    {
     "data": {
      "text/plain": [
       "array([ -6.7  ,  -4.901,   3.847,  -9.923,   5.29 ,   4.189, -10.305,\n",
       "        -4.249,   5.221,  -7.2  , -10.134,   5.597,   3.358,  -5.561,\n",
       "        -6.863,   5.644,  -9.45 ,   3.022,  -9.947,   4.222,  -8.877,\n",
       "        -4.057,   3.656,  -5.011,  -8.187,   4.753,   4.576,   5.143,\n",
       "         5.824,  -9.476,  -6.526,   4.754,   4.505, -10.317,  -4.722,\n",
       "        -3.89 ,  -5.798,   5.965,   2.844,   2.982,  -4.892,  -8.382,\n",
       "        -5.627,  -6.019,   5.322, -10.061,  -9.732,  -8.557,  -5.344,\n",
       "       -10.665,   7.441,  -5.387, -11.328,  -7.912,  -5.985,  -8.668,\n",
       "         5.369,  -5.09 ,  -9.936,  -9.707,   7.444,   4.237,  -5.893,\n",
       "        -4.301,  -6.076, -10.283,  -9.14 ,  -4.76 ,  -6.295,  -4.369,\n",
       "         6.721,  -9.39 ,   4.627,   5.117,  -5.681,   4.178,   5.005,\n",
       "        -8.484,  -8.972,  -9.76 ,  -9.124,   5.446,  -9.798,   5.894,\n",
       "        -5.765,   5.066,  -6.183,  -9.273,  -4.94 ,  -4.842, -10.087,\n",
       "       -11.004, -10.114,  -5.711,  -5.447,  -4.957,   3.069, -10.074,\n",
       "        -9.381,  -9.296])"
      ]
     },
     "execution_count": 4,
     "metadata": {},
     "output_type": "execute_result"
    }
   ],
   "source": [
    "# y\n",
    "X[:,1]"
   ]
  },
  {
   "cell_type": "code",
   "execution_count": 5,
   "metadata": {},
   "outputs": [
    {
     "data": {
      "text/plain": [
       "<matplotlib.collections.PathCollection at 0x1a24eb9898>"
      ]
     },
     "execution_count": 5,
     "metadata": {},
     "output_type": "execute_result"
    },
    {
     "data": {
      "image/png": "[encoded data removed]",
      "text/plain": [
       "<Figure size 432x288 with 1 Axes>"
      ]
     },
     "metadata": {
      "needs_background": "light"
     },
     "output_type": "display_data"
    }
   ],
   "source": [
    "# make a graph\n",
    "plt.scatter(X[:,0], X[:,1])"
   ]
  },
  {
   "cell_type": "code",
   "execution_count": 6,
   "metadata": {},
   "outputs": [
    {
     "data": {
      "text/plain": [
       "array([0, 0, 1, 2, 1, 1, 2, 0, 1, 2, 2, 1, 1, 0, 0, 1, 2, 1, 2, 1, 2, 0,\n",
       "       1, 0, 2, 1, 1, 1, 1, 2, 0, 1, 1, 2, 0, 0, 0, 1, 1, 1, 0, 2, 0, 0,\n",
       "       1, 2, 2, 2, 0, 2, 1, 0, 2, 2, 0, 2, 1, 0, 2, 2, 1, 1, 0, 0, 0, 2,\n",
       "       2, 0, 0, 0, 1, 2, 1, 1, 0, 1, 1, 0, 2, 2, 2, 1, 2, 1, 0, 1, 0, 2,\n",
       "       0, 0, 2, 2, 2, 0, 0, 0, 1, 2, 2, 2], dtype=int32)"
      ]
     },
     "execution_count": 6,
     "metadata": {},
     "output_type": "execute_result"
    }
   ],
   "source": [
    "# Cluster using k-means. \n",
    "\n",
    "kmeans = KMeans(n_clusters=3)\n",
    "kmeans.fit(X)\n",
    "y_pred = kmeans.predict(X)\n",
    "y_pred"
   ]
  },
  {
   "cell_type": "code",
   "execution_count": 7,
   "metadata": {},
   "outputs": [
    {
     "name": "stdout",
     "output_type": "stream",
     "text": [
      "    feature1  feature2  cluster\n",
      "0  -2.324963 -6.699996        0\n",
      "1   0.518568 -4.900868        0\n",
      "7  -0.420842 -4.248893        0\n",
      "13  1.188289 -5.560588        0\n",
      "14 -0.317489 -6.863378        0\n",
      "21  1.955526 -4.056901        0\n",
      "23  1.314690 -5.010552        0\n",
      "30  0.917266 -6.526378        0\n",
      "34 -0.435589 -4.722292        0\n",
      "35  0.347893 -3.889659        0\n",
      "36  0.977001 -5.798493        0\n",
      "40 -1.740931 -4.891770        0\n",
      "42 -1.109557 -5.627137        0\n",
      "43  0.244313 -6.018977        0\n",
      "48 -1.054613 -5.343668        0\n",
      "51  2.195190 -5.386886        0\n",
      "54 -0.077901 -5.984854        0\n",
      "57  0.480855 -5.089769        0\n",
      "62 -1.152964 -5.892795        0\n",
      "63  0.103278 -4.301323        0\n",
      "64  1.137309 -6.076044        0\n",
      "67  0.504025 -4.760093        0\n",
      "68 -0.362961 -6.295458        0\n",
      "69  0.302490 -4.369094        0\n",
      "74  0.214755 -5.681366        0\n",
      "77  0.912641 -8.483664        0\n",
      "84 -0.742659 -5.764927        0\n",
      "86 -1.450740 -6.183014        0\n",
      "88  1.070270 -4.939715        0\n",
      "89  0.431029 -4.841693        0\n",
      "93  0.323618 -5.711347        0\n",
      "94 -0.266864 -5.446782        0\n",
      "95 -0.736931 -4.957402        0\n",
      "    feature1  feature2  cluster\n",
      "2   2.443018  3.846526        1\n",
      "4   2.033002  5.289908        1\n",
      "5   3.379795  4.188809        1\n",
      "8   3.780673  5.220622        1\n",
      "11  1.164643  5.596678        1\n",
      "12  2.946014  3.357507        1\n",
      "15  4.329681  5.643967        1\n",
      "17  3.499963  3.021566        1\n",
      "19  2.611053  4.222185        1\n",
      "22  2.099851  3.655630        1\n",
      "25  0.816779  4.753304        1\n",
      "26  2.528598  4.575939        1\n",
      "27  3.695481  5.142888        1\n",
      "28  2.376981  5.824286        1\n",
      "31  1.447129  4.754285        1\n",
      "32  2.965905  4.505270        1\n",
      "37  2.457175  5.965150        1\n",
      "38  2.607117  2.844366        1\n",
      "39  2.890230  2.981684        1\n",
      "44  4.056197  5.322311        1\n",
      "50  3.909170  7.441403        1\n",
      "56  2.624134  5.369419        1\n",
      "60  2.987718  7.443729        1\n",
      "61  5.077290  4.236721        1\n",
      "70  4.658049  6.720892        1\n",
      "72  2.360136  4.627196        1\n",
      "73  2.233938  5.117182        1\n",
      "75  1.627832  4.178069        1\n",
      "76  4.012891  5.005387        1\n",
      "81  1.750055  5.445829        1\n",
      "83  3.384924  5.894347        1\n",
      "85  2.190872  5.065665        1\n",
      "96  2.790440  3.068621        1\n",
      "    feature1   feature2  cluster\n",
      "3   5.826623  -9.922593        2\n",
      "6   6.047749 -10.305047        2\n",
      "9   5.692483  -7.199994        2\n",
      "10  5.159096 -10.134270        2\n",
      "16  4.289811  -9.449824        2\n",
      "18  5.314140  -9.947141        2\n",
      "20  4.886534  -8.876801        2\n",
      "24  5.525562  -8.186965        2\n",
      "29  5.691924  -9.476412        2\n",
      "33  6.682885 -10.316931        2\n",
      "41  5.859439  -8.381924        2\n",
      "45  5.559121 -10.061103        2\n",
      "46  5.991566  -9.732381        2\n",
      "47  4.461347  -8.556687        2\n",
      "49  6.910950 -10.664766        2\n",
      "52  3.448685 -11.328333        2\n",
      "53  6.550104  -7.912339        2\n",
      "55  7.821117  -8.667502        2\n",
      "58  6.086644  -9.935833        2\n",
      "59  5.063914  -9.706867        2\n",
      "65  6.555198 -10.282771        2\n",
      "66  5.655043  -9.139823        2\n",
      "71  6.734886  -9.389948        2\n",
      "78  5.155165  -8.971757        2\n",
      "79  5.430704  -9.759561        2\n",
      "80  5.745769  -9.124058        2\n",
      "82  4.621822  -9.797659        2\n",
      "87  5.087273  -9.272791        2\n",
      "90  5.194231 -10.086690        2\n",
      "91  6.472596 -11.003517        2\n",
      "92  5.345291 -10.114257        2\n",
      "97  4.486980 -10.074298        2\n",
      "98  6.268638  -9.381380        2\n",
      "99  5.400508  -9.295867        2\n"
     ]
    }
   ],
   "source": [
    "# Check the result. \n",
    "\n",
    "merge_data = pd.concat([pd.DataFrame(X[:,0]), pd.DataFrame(X[:,1]), pd.DataFrame(y_pred)], axis=1)\n",
    "merge_data.columns = ['feature1','feature2','cluster']\n",
    "colors = ['blue','red','green']\n",
    "for i, data in merge_data.groupby('cluster'): \n",
    "#     print(type(data))    \n",
    "    print(data)"
   ]
  },
  {
   "cell_type": "code",
   "execution_count": 8,
   "metadata": {},
   "outputs": [
    {
     "data": {
      "image/png": "[encoded data removed]",
      "text/plain": [
       "<Figure size 432x288 with 1 Axes>"
      ]
     },
     "metadata": {
      "needs_background": "light"
     },
     "output_type": "display_data"
    }
   ],
   "source": [
    "ax = None\n",
    "for i, data in merge_data.groupby('cluster'):\n",
    "    ax = data.plot.scatter(x='feature1', y='feature2', \n",
    "                           color=colors[i], label=f'cluster{i}', ax=ax)"
   ]
  },
  {
   "cell_type": "code",
   "execution_count": 9,
   "metadata": {},
   "outputs": [],
   "source": [
    "# Analyze bank data\n",
    "\n",
    "# Get data from web and handle zip file. \n",
    "import requests, zipfile\n",
    "from io import StringIO\n",
    "import io\n",
    "\n",
    "# zip_file_url = \"http://archive.ics.uci.edu/ml/machine-learning-databases/00222/bank.zip\"\n",
    "# r = requests.get(zip_file_url, stream=True)\n",
    "# z = zipfile.ZipFile(io.BytesIO(r.content))\n",
    "# z.extractall()"
   ]
  },
  {
   "cell_type": "code",
   "execution_count": 10,
   "metadata": {},
   "outputs": [
    {
     "data": {
      "text/html": [
       "<div>\n",
       "<style scoped>\n",
       "    .dataframe tbody tr th:only-of-type {\n",
       "        vertical-align: middle;\n",
       "    }\n",
       "\n",
       "    .dataframe tbody tr th {\n",
       "        vertical-align: top;\n",
       "    }\n",
       "\n",
       "    .dataframe thead th {\n",
       "        text-align: right;\n",
       "    }\n",
       "</style>\n",
       "<table border=\"1\" class=\"dataframe\">\n",
       "  <thead>\n",
       "    <tr style=\"text-align: right;\">\n",
       "      <th></th>\n",
       "      <th>age</th>\n",
       "      <th>job</th>\n",
       "      <th>marital</th>\n",
       "      <th>education</th>\n",
       "      <th>default</th>\n",
       "      <th>balance</th>\n",
       "      <th>housing</th>\n",
       "      <th>loan</th>\n",
       "      <th>contact</th>\n",
       "      <th>day</th>\n",
       "      <th>month</th>\n",
       "      <th>duration</th>\n",
       "      <th>campaign</th>\n",
       "      <th>pdays</th>\n",
       "      <th>previous</th>\n",
       "      <th>poutcome</th>\n",
       "      <th>y</th>\n",
       "    </tr>\n",
       "  </thead>\n",
       "  <tbody>\n",
       "    <tr>\n",
       "      <th>0</th>\n",
       "      <td>58</td>\n",
       "      <td>management</td>\n",
       "      <td>married</td>\n",
       "      <td>tertiary</td>\n",
       "      <td>no</td>\n",
       "      <td>2143</td>\n",
       "      <td>yes</td>\n",
       "      <td>no</td>\n",
       "      <td>unknown</td>\n",
       "      <td>5</td>\n",
       "      <td>may</td>\n",
       "      <td>261</td>\n",
       "      <td>1</td>\n",
       "      <td>-1</td>\n",
       "      <td>0</td>\n",
       "      <td>unknown</td>\n",
       "      <td>no</td>\n",
       "    </tr>\n",
       "    <tr>\n",
       "      <th>1</th>\n",
       "      <td>44</td>\n",
       "      <td>technician</td>\n",
       "      <td>single</td>\n",
       "      <td>secondary</td>\n",
       "      <td>no</td>\n",
       "      <td>29</td>\n",
       "      <td>yes</td>\n",
       "      <td>no</td>\n",
       "      <td>unknown</td>\n",
       "      <td>5</td>\n",
       "      <td>may</td>\n",
       "      <td>151</td>\n",
       "      <td>1</td>\n",
       "      <td>-1</td>\n",
       "      <td>0</td>\n",
       "      <td>unknown</td>\n",
       "      <td>no</td>\n",
       "    </tr>\n",
       "    <tr>\n",
       "      <th>2</th>\n",
       "      <td>33</td>\n",
       "      <td>entrepreneur</td>\n",
       "      <td>married</td>\n",
       "      <td>secondary</td>\n",
       "      <td>no</td>\n",
       "      <td>2</td>\n",
       "      <td>yes</td>\n",
       "      <td>yes</td>\n",
       "      <td>unknown</td>\n",
       "      <td>5</td>\n",
       "      <td>may</td>\n",
       "      <td>76</td>\n",
       "      <td>1</td>\n",
       "      <td>-1</td>\n",
       "      <td>0</td>\n",
       "      <td>unknown</td>\n",
       "      <td>no</td>\n",
       "    </tr>\n",
       "    <tr>\n",
       "      <th>3</th>\n",
       "      <td>47</td>\n",
       "      <td>blue-collar</td>\n",
       "      <td>married</td>\n",
       "      <td>unknown</td>\n",
       "      <td>no</td>\n",
       "      <td>1506</td>\n",
       "      <td>yes</td>\n",
       "      <td>no</td>\n",
       "      <td>unknown</td>\n",
       "      <td>5</td>\n",
       "      <td>may</td>\n",
       "      <td>92</td>\n",
       "      <td>1</td>\n",
       "      <td>-1</td>\n",
       "      <td>0</td>\n",
       "      <td>unknown</td>\n",
       "      <td>no</td>\n",
       "    </tr>\n",
       "    <tr>\n",
       "      <th>4</th>\n",
       "      <td>33</td>\n",
       "      <td>unknown</td>\n",
       "      <td>single</td>\n",
       "      <td>unknown</td>\n",
       "      <td>no</td>\n",
       "      <td>1</td>\n",
       "      <td>no</td>\n",
       "      <td>no</td>\n",
       "      <td>unknown</td>\n",
       "      <td>5</td>\n",
       "      <td>may</td>\n",
       "      <td>198</td>\n",
       "      <td>1</td>\n",
       "      <td>-1</td>\n",
       "      <td>0</td>\n",
       "      <td>unknown</td>\n",
       "      <td>no</td>\n",
       "    </tr>\n",
       "  </tbody>\n",
       "</table>\n",
       "</div>"
      ],
      "text/plain": [
       "   age           job  marital  education default  balance housing loan  \\\n",
       "0   58    management  married   tertiary      no     2143     yes   no   \n",
       "1   44    technician   single  secondary      no       29     yes   no   \n",
       "2   33  entrepreneur  married  secondary      no        2     yes  yes   \n",
       "3   47   blue-collar  married    unknown      no     1506     yes   no   \n",
       "4   33       unknown   single    unknown      no        1      no   no   \n",
       "\n",
       "   contact  day month  duration  campaign  pdays  previous poutcome   y  \n",
       "0  unknown    5   may       261         1     -1         0  unknown  no  \n",
       "1  unknown    5   may       151         1     -1         0  unknown  no  \n",
       "2  unknown    5   may        76         1     -1         0  unknown  no  \n",
       "3  unknown    5   may        92         1     -1         0  unknown  no  \n",
       "4  unknown    5   may       198         1     -1         0  unknown  no  "
      ]
     },
     "execution_count": 10,
     "metadata": {},
     "output_type": "execute_result"
    }
   ],
   "source": [
    "bank = pd.read_csv('bank-full.csv', sep=';')\n",
    "bank.head()"
   ]
  },
  {
   "cell_type": "code",
   "execution_count": 11,
   "metadata": {},
   "outputs": [
    {
     "name": "stdout",
     "output_type": "stream",
     "text": [
      "Citation Request:\r",
      "\r\n",
      "  This dataset is public available for research. The details are described in [Moro et al., 2011]. \r",
      "\r\n",
      "  Please include this citation if you plan to use this database:\r",
      "\r\n",
      "\r",
      "\r\n",
      "  [Moro et al., 2011] S. Moro, R. Laureano and P. Cortez. Using Data Mining for Bank Direct Marketing: An Application of the CRISP-DM Methodology. \r",
      "\r\n",
      "  In P. Novais et al. (Eds.), Proceedings of the European Simulation and Modelling Conference - ESM'2011, pp. 117-121, Guimarães, Portugal, October, 2011. EUROSIS.\r",
      "\r\n",
      "\r",
      "\r\n",
      "  Available at: [pdf] http://hdl.handle.net/1822/14838\r",
      "\r\n",
      "                [bib] http://www3.dsi.uminho.pt/pcortez/bib/2011-esm-1.txt\r",
      "\r\n",
      "\r",
      "\r\n",
      "1. Title: Bank Marketing\r",
      "\r\n",
      "\r",
      "\r\n",
      "2. Sources\r",
      "\r\n",
      "   Created by: Paulo Cortez (Univ. Minho) and Sérgio Moro (ISCTE-IUL) @ 2012\r",
      "\r\n",
      "   \r",
      "\r\n",
      "3. Past Usage:\r",
      "\r\n",
      "\r",
      "\r\n",
      "  The full dataset was described and analyzed in:\r",
      "\r\n",
      "\r",
      "\r\n",
      "  S. Moro, R. Laureano and P. Cortez. Using Data Mining for Bank Direct Marketing: An Application of the CRISP-DM Methodology. \r",
      "\r\n",
      "  In P. Novais et al. (Eds.), Proceedings of the European Simulation and Modelling Conference - ESM'2011, pp. 117-121, Guimarães, \r",
      "\r\n",
      "  Portugal, October, 2011. EUROSIS.\r",
      "\r\n",
      "\r",
      "\r\n",
      "4. Relevant Information:\r",
      "\r\n",
      "\r",
      "\r\n",
      "   The data is related with direct marketing campaigns of a Portuguese banking institution. \r",
      "\r\n",
      "   The marketing campaigns were based on phone calls. Often, more than one contact to the same client was required, \r",
      "\r\n",
      "   in order to access if the product (bank term deposit) would be (or not) subscribed. \r",
      "\r\n",
      "\r",
      "\r\n",
      "   There are two datasets: \r",
      "\r\n",
      "      1) bank-full.csv with all examples, ordered by date (from May 2008 to November 2010).\r",
      "\r\n",
      "      2) bank.csv with 10% of the examples (4521), randomly selected from bank-full.csv.\r",
      "\r\n",
      "   The smallest dataset is provided to test more computationally demanding machine learning algorithms (e.g. SVM).\r",
      "\r\n",
      "\r",
      "\r\n",
      "   The classification goal is to predict if the client will subscribe a term deposit (variable y).\r",
      "\r\n",
      "\r",
      "\r\n",
      "5. Number of Instances: 45211 for bank-full.csv (4521 for bank.csv)\r",
      "\r\n",
      "\r",
      "\r\n",
      "6. Number of Attributes: 16 + output attribute.\r",
      "\r\n",
      "\r",
      "\r\n",
      "7. Attribute information:\r",
      "\r\n",
      "\r",
      "\r\n",
      "   For more information, read [Moro et al., 2011].\r",
      "\r\n",
      "\r",
      "\r\n",
      "   Input variables:\r",
      "\r\n",
      "   # bank client data:\r",
      "\r\n",
      "   1 - age (numeric)\r",
      "\r\n",
      "   2 - job : type of job (categorical: \"admin.\",\"unknown\",\"unemployed\",\"management\",\"housemaid\",\"entrepreneur\",\"student\",\r",
      "\r\n",
      "                                       \"blue-collar\",\"self-employed\",\"retired\",\"technician\",\"services\") \r",
      "\r\n",
      "   3 - marital : marital status (categorical: \"married\",\"divorced\",\"single\"; note: \"divorced\" means divorced or widowed)\r",
      "\r\n",
      "   4 - education (categorical: \"unknown\",\"secondary\",\"primary\",\"tertiary\")\r",
      "\r\n",
      "   5 - default: has credit in default? (binary: \"yes\",\"no\")\r",
      "\r\n",
      "   6 - balance: average yearly balance, in euros (numeric) \r",
      "\r\n",
      "   7 - housing: has housing loan? (binary: \"yes\",\"no\")\r",
      "\r\n",
      "   8 - loan: has personal loan? (binary: \"yes\",\"no\")\r",
      "\r\n",
      "   # related with the last contact of the current campaign:\r",
      "\r\n",
      "   9 - contact: contact communication type (categorical: \"unknown\",\"telephone\",\"cellular\") \r",
      "\r\n",
      "  10 - day: last contact day of the month (numeric)\r",
      "\r\n",
      "  11 - month: last contact month of year (categorical: \"jan\", \"feb\", \"mar\", ..., \"nov\", \"dec\")\r",
      "\r\n",
      "  12 - duration: last contact duration, in seconds (numeric)\r",
      "\r\n",
      "   # other attributes:\r",
      "\r\n",
      "  13 - campaign: number of contacts performed during this campaign and for this client (numeric, includes last contact)\r",
      "\r\n",
      "  14 - pdays: number of days that passed by after the client was last contacted from a previous campaign (numeric, -1 means client was not previously contacted)\r",
      "\r\n",
      "  15 - previous: number of contacts performed before this campaign and for this client (numeric)\r",
      "\r\n",
      "  16 - poutcome: outcome of the previous marketing campaign (categorical: \"unknown\",\"other\",\"failure\",\"success\")\r",
      "\r\n",
      "\r",
      "\r\n",
      "  Output variable (desired target):\r",
      "\r\n",
      "  17 - y - has the client subscribed a term deposit? (binary: \"yes\",\"no\")\r",
      "\r\n",
      "\r",
      "\r\n",
      "8. Missing Attribute Values: None\r",
      "\r\n"
     ]
    }
   ],
   "source": [
    "cat bank-names.txt"
   ]
  },
  {
   "cell_type": "code",
   "execution_count": 12,
   "metadata": {},
   "outputs": [
    {
     "name": "stdout",
     "output_type": "stream",
     "text": [
      "data shape: (45211, 17)\n",
      "num of missing values: 0\n"
     ]
    }
   ],
   "source": [
    "print('data shape: {}'.format(bank.shape))\n",
    "print('num of missing values: {}'.format(bank.isnull().sum().sum()))"
   ]
  },
  {
   "cell_type": "code",
   "execution_count": 13,
   "metadata": {},
   "outputs": [
    {
     "data": {
      "text/html": [
       "<div>\n",
       "<style scoped>\n",
       "    .dataframe tbody tr th:only-of-type {\n",
       "        vertical-align: middle;\n",
       "    }\n",
       "\n",
       "    .dataframe tbody tr th {\n",
       "        vertical-align: top;\n",
       "    }\n",
       "\n",
       "    .dataframe thead th {\n",
       "        text-align: right;\n",
       "    }\n",
       "</style>\n",
       "<table border=\"1\" class=\"dataframe\">\n",
       "  <thead>\n",
       "    <tr style=\"text-align: right;\">\n",
       "      <th></th>\n",
       "      <th>age</th>\n",
       "      <th>balance</th>\n",
       "      <th>campaign</th>\n",
       "      <th>previous</th>\n",
       "    </tr>\n",
       "  </thead>\n",
       "  <tbody>\n",
       "    <tr>\n",
       "      <th>0</th>\n",
       "      <td>58</td>\n",
       "      <td>2143</td>\n",
       "      <td>1</td>\n",
       "      <td>0</td>\n",
       "    </tr>\n",
       "    <tr>\n",
       "      <th>1</th>\n",
       "      <td>44</td>\n",
       "      <td>29</td>\n",
       "      <td>1</td>\n",
       "      <td>0</td>\n",
       "    </tr>\n",
       "    <tr>\n",
       "      <th>2</th>\n",
       "      <td>33</td>\n",
       "      <td>2</td>\n",
       "      <td>1</td>\n",
       "      <td>0</td>\n",
       "    </tr>\n",
       "    <tr>\n",
       "      <th>3</th>\n",
       "      <td>47</td>\n",
       "      <td>1506</td>\n",
       "      <td>1</td>\n",
       "      <td>0</td>\n",
       "    </tr>\n",
       "    <tr>\n",
       "      <th>4</th>\n",
       "      <td>33</td>\n",
       "      <td>1</td>\n",
       "      <td>1</td>\n",
       "      <td>0</td>\n",
       "    </tr>\n",
       "  </tbody>\n",
       "</table>\n",
       "</div>"
      ],
      "text/plain": [
       "   age  balance  campaign  previous\n",
       "0   58     2143         1         0\n",
       "1   44       29         1         0\n",
       "2   33        2         1         0\n",
       "3   47     1506         1         0\n",
       "4   33        1         1         0"
      ]
     },
     "execution_count": 13,
     "metadata": {},
     "output_type": "execute_result"
    }
   ],
   "source": [
    "from sklearn.preprocessing import StandardScaler\n",
    "\n",
    "# Pick up the columns to be grouped. \n",
    "bank_sub = bank[['age','balance','campaign','previous']]\n",
    "bank_sub.head()"
   ]
  },
  {
   "cell_type": "code",
   "execution_count": 15,
   "metadata": {},
   "outputs": [
    {
     "data": {
      "text/plain": [
       "array([[ 1.607,  0.256, -0.569, -0.252],\n",
       "       [ 0.289, -0.438, -0.569, -0.252],\n",
       "       [-0.747, -0.447, -0.569, -0.252],\n",
       "       ...,\n",
       "       [ 2.925,  1.43 ,  0.722,  1.05 ],\n",
       "       [ 1.513, -0.228,  0.399, -0.252],\n",
       "       [-0.371,  0.528, -0.247,  4.524]])"
      ]
     },
     "execution_count": 15,
     "metadata": {},
     "output_type": "execute_result"
    }
   ],
   "source": [
    "# Standardization.  \n",
    "\n",
    "sc = StandardScaler()\n",
    "sc.fit(bank_sub)\n",
    "bank_sub_std = sc.transform(bank_sub)\n",
    "bank_sub_std"
   ]
  },
  {
   "cell_type": "code",
   "execution_count": null,
   "metadata": {},
   "outputs": [],
   "source": [
    "bank_sub.info()"
   ]
  },
  {
   "cell_type": "code",
   "execution_count": null,
   "metadata": {},
   "outputs": [],
   "source": [
    "# Learning. \n",
    "kmeans = KMeans(init='random', n_clusters=6, random_state=0)\n",
    "kmeans.fit(bank_sub_std)\n",
    "labels = pd.Series(kmeans.labels_, name='cluster_number')\n",
    "print(type(labels))\n",
    "labels"
   ]
  },
  {
   "cell_type": "code",
   "execution_count": null,
   "metadata": {
    "scrolled": true
   },
   "outputs": [],
   "source": [
    "# Count the number of memebers in each cluster. \n",
    "print(labels.value_counts(sort=False))\n",
    "\n",
    "ax = labels.value_counts(sort=False).plot(kind='bar')\n",
    "ax.set_xlabel('cluster number')\n",
    "ax.set_ylabel('count')"
   ]
  },
  {
   "cell_type": "code",
   "execution_count": null,
   "metadata": {},
   "outputs": [],
   "source": [
    "# Elbow curve to find the best number of clusters. \n",
    "\n",
    "dist_list = []\n",
    "for i in range(1, 10): \n",
    "    kmeans = KMeans(n_clusters=i, init='random', random_state=0)\n",
    "    kmeans.fit(X)\n",
    "    dist_list.append(kmeans.inertia_)\n",
    "\n",
    "plt.plot(range(1,10), dist_list, marker='+')\n",
    "plt.xlabel('Number of clusters')\n",
    "plt.ylabel('Distortion')"
   ]
  },
  {
   "cell_type": "code",
   "execution_count": null,
   "metadata": {},
   "outputs": [],
   "source": [
    "# For bank_sub data\n",
    "dist_list = []\n",
    "for i in range(1, 20): \n",
    "    kmeans = KMeans(n_clusters=i, init='random', random_state=0)\n",
    "    kmeans.fit(bank_sub_std)\n",
    "    dist_list.append(kmeans.inertia_)\n",
    "\n",
    "plt.plot(range(1,20), dist_list, marker='+')\n",
    "plt.xlabel('Number of clusters')\n",
    "plt.ylabel('Distortion')"
   ]
  },
  {
   "cell_type": "code",
   "execution_count": null,
   "metadata": {},
   "outputs": [],
   "source": [
    "# Analyze the result. \n",
    "bank_with_cluster = pd.concat([bank, labels], axis=1)\n",
    "\n",
    "bank_with_cluster.head()"
   ]
  },
  {
   "cell_type": "code",
   "execution_count": null,
   "metadata": {},
   "outputs": [],
   "source": [
    "# Cut the bank data based on the bins for age. \n",
    "bins = [15,20,25,30,35,40,45,50,55,60,65,100]\n",
    "qcut_age = pd.cut(bank_with_cluster.age, bins, right=False)\n",
    "qcut_age"
   ]
  },
  {
   "cell_type": "code",
   "execution_count": null,
   "metadata": {},
   "outputs": [],
   "source": [
    "df = pd.concat([bank_with_cluster.cluster_number, qcut_age], axis=1)\n",
    "df.head()"
   ]
  },
  {
   "cell_type": "code",
   "execution_count": null,
   "metadata": {},
   "outputs": [],
   "source": [
    "cross_cluster_age = df.groupby(['cluster_number','age']).size()\n",
    "cross_cluster_age"
   ]
  },
  {
   "cell_type": "code",
   "execution_count": null,
   "metadata": {},
   "outputs": [],
   "source": [
    "cross_cluster_age = cross_cluster_age.unstack().fillna(0)\n",
    "cross_cluster_age"
   ]
  },
  {
   "cell_type": "code",
   "execution_count": null,
   "metadata": {},
   "outputs": [],
   "source": [
    "hist_age = pd.value_counts(qcut_age)\n",
    "hist_age"
   ]
  },
  {
   "cell_type": "code",
   "execution_count": null,
   "metadata": {},
   "outputs": [],
   "source": [
    "sns.heatmap(cross_cluster_age.apply(lambda x : x/x.sum(), axis=1), cmap='Blues')"
   ]
  },
  {
   "cell_type": "code",
   "execution_count": null,
   "metadata": {},
   "outputs": [],
   "source": [
    "# For job category. \n",
    "\n",
    "cross_cluster_job = bank_with_cluster.groupby(['cluster_number', 'job']).size().unstack().fillna(0)\n",
    "cross_cluster_job"
   ]
  },
  {
   "cell_type": "code",
   "execution_count": null,
   "metadata": {},
   "outputs": [],
   "source": [
    "sns.heatmap(cross_cluster_job.apply(lambda x : x/x.sum(), axis=1), cmap='Reds')"
   ]
  },
  {
   "cell_type": "code",
   "execution_count": null,
   "metadata": {},
   "outputs": [],
   "source": [
    "# R9-1\n",
    "X, y = make_blobs(random_state=52)\n",
    "plt.scatter(X[:,0], X[:,1], color='black')"
   ]
  },
  {
   "cell_type": "code",
   "execution_count": null,
   "metadata": {},
   "outputs": [],
   "source": []
  },
  {
   "cell_type": "code",
   "execution_count": null,
   "metadata": {},
   "outputs": [],
   "source": []
  },
  {
   "cell_type": "code",
   "execution_count": null,
   "metadata": {},
   "outputs": [],
   "source": []
  },
  {
   "cell_type": "code",
   "execution_count": null,
   "metadata": {},
   "outputs": [],
   "source": []
  },
  {
   "cell_type": "code",
   "execution_count": null,
   "metadata": {},
   "outputs": [],
   "source": []
  },
  {
   "cell_type": "code",
   "execution_count": null,
   "metadata": {},
   "outputs": [],
   "source": []
  },
  {
   "cell_type": "code",
   "execution_count": null,
   "metadata": {},
   "outputs": [],
   "source": []
  },
  {
   "cell_type": "code",
   "execution_count": null,
   "metadata": {},
   "outputs": [],
   "source": []
  },
  {
   "cell_type": "code",
   "execution_count": null,
   "metadata": {},
   "outputs": [],
   "source": []
  },
  {
   "cell_type": "code",
   "execution_count": null,
   "metadata": {},
   "outputs": [],
   "source": []
  },
  {
   "cell_type": "code",
   "execution_count": null,
   "metadata": {},
   "outputs": [],
   "source": []
  },
  {
   "cell_type": "code",
   "execution_count": null,
   "metadata": {},
   "outputs": [],
   "source": []
  },
  {
   "cell_type": "code",
   "execution_count": null,
   "metadata": {},
   "outputs": [],
   "source": []
  }
 ],
 "metadata": {
  "kernelspec": {
   "display_name": "Python 3",
   "language": "python",
   "name": "python3"
  },
  "language_info": {
   "codemirror_mode": {
    "name": "ipython",
    "version": 3
   },
   "file_extension": ".py",
   "mimetype": "text/x-python",
   "name": "python",
   "nbconvert_exporter": "python",
   "pygments_lexer": "ipython3",
   "version": "3.7.3"
  }
 },
 "nbformat": 4,
 "nbformat_minor": 2
}
